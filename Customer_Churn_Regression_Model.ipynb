{
  "nbformat": 4,
  "nbformat_minor": 0,
  "metadata": {
    "colab": {
      "provenance": [],
      "authorship_tag": "ABX9TyNx5e1/XK2mf1W1IAXDUjU3",
      "include_colab_link": true
    },
    "kernelspec": {
      "name": "python3",
      "display_name": "Python 3"
    },
    "language_info": {
      "name": "python"
    },
    "widgets": {
      "application/vnd.jupyter.widget-state+json": {
        "8a451e7651134d708385c06c34cead6b": {
          "model_module": "@jupyter-widgets/controls",
          "model_name": "HBoxModel",
          "model_module_version": "1.5.0",
          "state": {
            "_dom_classes": [],
            "_model_module": "@jupyter-widgets/controls",
            "_model_module_version": "1.5.0",
            "_model_name": "HBoxModel",
            "_view_count": null,
            "_view_module": "@jupyter-widgets/controls",
            "_view_module_version": "1.5.0",
            "_view_name": "HBoxView",
            "box_style": "",
            "children": [
              "IPY_MODEL_4733c2f67529441182b5e3c9e08de1dc",
              "IPY_MODEL_329be65efe0b4d98ba4201dbf1024038",
              "IPY_MODEL_ef15b11c7e0b4a64bcc90e176680a414"
            ],
            "layout": "IPY_MODEL_d08cfe06dfa746939ee4dd21f09b006d"
          }
        },
        "4733c2f67529441182b5e3c9e08de1dc": {
          "model_module": "@jupyter-widgets/controls",
          "model_name": "HTMLModel",
          "model_module_version": "1.5.0",
          "state": {
            "_dom_classes": [],
            "_model_module": "@jupyter-widgets/controls",
            "_model_module_version": "1.5.0",
            "_model_name": "HTMLModel",
            "_view_count": null,
            "_view_module": "@jupyter-widgets/controls",
            "_view_module_version": "1.5.0",
            "_view_name": "HTMLView",
            "description": "",
            "description_tooltip": null,
            "layout": "IPY_MODEL_2e1e89444589497e8ae39ad129645904",
            "placeholder": "​",
            "style": "IPY_MODEL_c883b386608b4b02ac28a25d8dc8dbb9",
            "value": "Processing: 100%"
          }
        },
        "329be65efe0b4d98ba4201dbf1024038": {
          "model_module": "@jupyter-widgets/controls",
          "model_name": "FloatProgressModel",
          "model_module_version": "1.5.0",
          "state": {
            "_dom_classes": [],
            "_model_module": "@jupyter-widgets/controls",
            "_model_module_version": "1.5.0",
            "_model_name": "FloatProgressModel",
            "_view_count": null,
            "_view_module": "@jupyter-widgets/controls",
            "_view_module_version": "1.5.0",
            "_view_name": "ProgressView",
            "bar_style": "",
            "description": "",
            "description_tooltip": null,
            "layout": "IPY_MODEL_ce1a10bc7ade4478bd91795937c7b03a",
            "max": 65,
            "min": 0,
            "orientation": "horizontal",
            "style": "IPY_MODEL_dc95790dae444215893f280eb5f1b795",
            "value": 65
          }
        },
        "ef15b11c7e0b4a64bcc90e176680a414": {
          "model_module": "@jupyter-widgets/controls",
          "model_name": "HTMLModel",
          "model_module_version": "1.5.0",
          "state": {
            "_dom_classes": [],
            "_model_module": "@jupyter-widgets/controls",
            "_model_module_version": "1.5.0",
            "_model_name": "HTMLModel",
            "_view_count": null,
            "_view_module": "@jupyter-widgets/controls",
            "_view_module_version": "1.5.0",
            "_view_name": "HTMLView",
            "description": "",
            "description_tooltip": null,
            "layout": "IPY_MODEL_8151d60e148b4b319877db8809936dca",
            "placeholder": "​",
            "style": "IPY_MODEL_b556e03a1f074e70a969db146d99f297",
            "value": " 65/65 [01:13&lt;00:00,  1.46it/s]"
          }
        },
        "d08cfe06dfa746939ee4dd21f09b006d": {
          "model_module": "@jupyter-widgets/base",
          "model_name": "LayoutModel",
          "model_module_version": "1.2.0",
          "state": {
            "_model_module": "@jupyter-widgets/base",
            "_model_module_version": "1.2.0",
            "_model_name": "LayoutModel",
            "_view_count": null,
            "_view_module": "@jupyter-widgets/base",
            "_view_module_version": "1.2.0",
            "_view_name": "LayoutView",
            "align_content": null,
            "align_items": null,
            "align_self": null,
            "border": null,
            "bottom": null,
            "display": null,
            "flex": null,
            "flex_flow": null,
            "grid_area": null,
            "grid_auto_columns": null,
            "grid_auto_flow": null,
            "grid_auto_rows": null,
            "grid_column": null,
            "grid_gap": null,
            "grid_row": null,
            "grid_template_areas": null,
            "grid_template_columns": null,
            "grid_template_rows": null,
            "height": null,
            "justify_content": null,
            "justify_items": null,
            "left": null,
            "margin": null,
            "max_height": null,
            "max_width": null,
            "min_height": null,
            "min_width": null,
            "object_fit": null,
            "object_position": null,
            "order": null,
            "overflow": null,
            "overflow_x": null,
            "overflow_y": null,
            "padding": null,
            "right": null,
            "top": null,
            "visibility": "hidden",
            "width": null
          }
        },
        "2e1e89444589497e8ae39ad129645904": {
          "model_module": "@jupyter-widgets/base",
          "model_name": "LayoutModel",
          "model_module_version": "1.2.0",
          "state": {
            "_model_module": "@jupyter-widgets/base",
            "_model_module_version": "1.2.0",
            "_model_name": "LayoutModel",
            "_view_count": null,
            "_view_module": "@jupyter-widgets/base",
            "_view_module_version": "1.2.0",
            "_view_name": "LayoutView",
            "align_content": null,
            "align_items": null,
            "align_self": null,
            "border": null,
            "bottom": null,
            "display": null,
            "flex": null,
            "flex_flow": null,
            "grid_area": null,
            "grid_auto_columns": null,
            "grid_auto_flow": null,
            "grid_auto_rows": null,
            "grid_column": null,
            "grid_gap": null,
            "grid_row": null,
            "grid_template_areas": null,
            "grid_template_columns": null,
            "grid_template_rows": null,
            "height": null,
            "justify_content": null,
            "justify_items": null,
            "left": null,
            "margin": null,
            "max_height": null,
            "max_width": null,
            "min_height": null,
            "min_width": null,
            "object_fit": null,
            "object_position": null,
            "order": null,
            "overflow": null,
            "overflow_x": null,
            "overflow_y": null,
            "padding": null,
            "right": null,
            "top": null,
            "visibility": null,
            "width": null
          }
        },
        "c883b386608b4b02ac28a25d8dc8dbb9": {
          "model_module": "@jupyter-widgets/controls",
          "model_name": "DescriptionStyleModel",
          "model_module_version": "1.5.0",
          "state": {
            "_model_module": "@jupyter-widgets/controls",
            "_model_module_version": "1.5.0",
            "_model_name": "DescriptionStyleModel",
            "_view_count": null,
            "_view_module": "@jupyter-widgets/base",
            "_view_module_version": "1.2.0",
            "_view_name": "StyleView",
            "description_width": ""
          }
        },
        "ce1a10bc7ade4478bd91795937c7b03a": {
          "model_module": "@jupyter-widgets/base",
          "model_name": "LayoutModel",
          "model_module_version": "1.2.0",
          "state": {
            "_model_module": "@jupyter-widgets/base",
            "_model_module_version": "1.2.0",
            "_model_name": "LayoutModel",
            "_view_count": null,
            "_view_module": "@jupyter-widgets/base",
            "_view_module_version": "1.2.0",
            "_view_name": "LayoutView",
            "align_content": null,
            "align_items": null,
            "align_self": null,
            "border": null,
            "bottom": null,
            "display": null,
            "flex": null,
            "flex_flow": null,
            "grid_area": null,
            "grid_auto_columns": null,
            "grid_auto_flow": null,
            "grid_auto_rows": null,
            "grid_column": null,
            "grid_gap": null,
            "grid_row": null,
            "grid_template_areas": null,
            "grid_template_columns": null,
            "grid_template_rows": null,
            "height": null,
            "justify_content": null,
            "justify_items": null,
            "left": null,
            "margin": null,
            "max_height": null,
            "max_width": null,
            "min_height": null,
            "min_width": null,
            "object_fit": null,
            "object_position": null,
            "order": null,
            "overflow": null,
            "overflow_x": null,
            "overflow_y": null,
            "padding": null,
            "right": null,
            "top": null,
            "visibility": null,
            "width": null
          }
        },
        "dc95790dae444215893f280eb5f1b795": {
          "model_module": "@jupyter-widgets/controls",
          "model_name": "ProgressStyleModel",
          "model_module_version": "1.5.0",
          "state": {
            "_model_module": "@jupyter-widgets/controls",
            "_model_module_version": "1.5.0",
            "_model_name": "ProgressStyleModel",
            "_view_count": null,
            "_view_module": "@jupyter-widgets/base",
            "_view_module_version": "1.2.0",
            "_view_name": "StyleView",
            "bar_color": null,
            "description_width": ""
          }
        },
        "8151d60e148b4b319877db8809936dca": {
          "model_module": "@jupyter-widgets/base",
          "model_name": "LayoutModel",
          "model_module_version": "1.2.0",
          "state": {
            "_model_module": "@jupyter-widgets/base",
            "_model_module_version": "1.2.0",
            "_model_name": "LayoutModel",
            "_view_count": null,
            "_view_module": "@jupyter-widgets/base",
            "_view_module_version": "1.2.0",
            "_view_name": "LayoutView",
            "align_content": null,
            "align_items": null,
            "align_self": null,
            "border": null,
            "bottom": null,
            "display": null,
            "flex": null,
            "flex_flow": null,
            "grid_area": null,
            "grid_auto_columns": null,
            "grid_auto_flow": null,
            "grid_auto_rows": null,
            "grid_column": null,
            "grid_gap": null,
            "grid_row": null,
            "grid_template_areas": null,
            "grid_template_columns": null,
            "grid_template_rows": null,
            "height": null,
            "justify_content": null,
            "justify_items": null,
            "left": null,
            "margin": null,
            "max_height": null,
            "max_width": null,
            "min_height": null,
            "min_width": null,
            "object_fit": null,
            "object_position": null,
            "order": null,
            "overflow": null,
            "overflow_x": null,
            "overflow_y": null,
            "padding": null,
            "right": null,
            "top": null,
            "visibility": null,
            "width": null
          }
        },
        "b556e03a1f074e70a969db146d99f297": {
          "model_module": "@jupyter-widgets/controls",
          "model_name": "DescriptionStyleModel",
          "model_module_version": "1.5.0",
          "state": {
            "_model_module": "@jupyter-widgets/controls",
            "_model_module_version": "1.5.0",
            "_model_name": "DescriptionStyleModel",
            "_view_count": null,
            "_view_module": "@jupyter-widgets/base",
            "_view_module_version": "1.2.0",
            "_view_name": "StyleView",
            "description_width": ""
          }
        },
        "f8f680437e70478ca1b5da2573ad8100": {
          "model_module": "@jupyter-widgets/controls",
          "model_name": "HBoxModel",
          "model_module_version": "1.5.0",
          "state": {
            "_dom_classes": [],
            "_model_module": "@jupyter-widgets/controls",
            "_model_module_version": "1.5.0",
            "_model_name": "HBoxModel",
            "_view_count": null,
            "_view_module": "@jupyter-widgets/controls",
            "_view_module_version": "1.5.0",
            "_view_name": "HBoxView",
            "box_style": "",
            "children": [
              "IPY_MODEL_5f7c848596134f71a8b8d5b0d1df1091",
              "IPY_MODEL_e018d498a06b4ca8b5c1e30c4184b42c",
              "IPY_MODEL_166a08d3d96c473f8cbceee03b4521cc"
            ],
            "layout": "IPY_MODEL_91ac39e4139d4e4b8dd273108ba1a58c"
          }
        },
        "5f7c848596134f71a8b8d5b0d1df1091": {
          "model_module": "@jupyter-widgets/controls",
          "model_name": "HTMLModel",
          "model_module_version": "1.5.0",
          "state": {
            "_dom_classes": [],
            "_model_module": "@jupyter-widgets/controls",
            "_model_module_version": "1.5.0",
            "_model_name": "HTMLModel",
            "_view_count": null,
            "_view_module": "@jupyter-widgets/controls",
            "_view_module_version": "1.5.0",
            "_view_name": "HTMLView",
            "description": "",
            "description_tooltip": null,
            "layout": "IPY_MODEL_eab348f9cd444e009cfbeb95969bfea6",
            "placeholder": "​",
            "style": "IPY_MODEL_f895cea712a249858872f932f8ab5813",
            "value": "Processing: 100%"
          }
        },
        "e018d498a06b4ca8b5c1e30c4184b42c": {
          "model_module": "@jupyter-widgets/controls",
          "model_name": "FloatProgressModel",
          "model_module_version": "1.5.0",
          "state": {
            "_dom_classes": [],
            "_model_module": "@jupyter-widgets/controls",
            "_model_module_version": "1.5.0",
            "_model_name": "FloatProgressModel",
            "_view_count": null,
            "_view_module": "@jupyter-widgets/controls",
            "_view_module_version": "1.5.0",
            "_view_name": "ProgressView",
            "bar_style": "",
            "description": "",
            "description_tooltip": null,
            "layout": "IPY_MODEL_586929ab726c44939711e0a28be1f75a",
            "max": 7,
            "min": 0,
            "orientation": "horizontal",
            "style": "IPY_MODEL_6a5b55decc674965afedd35993b44fbd",
            "value": 7
          }
        },
        "166a08d3d96c473f8cbceee03b4521cc": {
          "model_module": "@jupyter-widgets/controls",
          "model_name": "HTMLModel",
          "model_module_version": "1.5.0",
          "state": {
            "_dom_classes": [],
            "_model_module": "@jupyter-widgets/controls",
            "_model_module_version": "1.5.0",
            "_model_name": "HTMLModel",
            "_view_count": null,
            "_view_module": "@jupyter-widgets/controls",
            "_view_module_version": "1.5.0",
            "_view_name": "HTMLView",
            "description": "",
            "description_tooltip": null,
            "layout": "IPY_MODEL_7b7b718154b24c9b8b18ea6cdd63725b",
            "placeholder": "​",
            "style": "IPY_MODEL_67950cdafdb9460a84b296aad6fbbd02",
            "value": " 7/7 [01:32&lt;00:00, 10.36s/it]"
          }
        },
        "91ac39e4139d4e4b8dd273108ba1a58c": {
          "model_module": "@jupyter-widgets/base",
          "model_name": "LayoutModel",
          "model_module_version": "1.2.0",
          "state": {
            "_model_module": "@jupyter-widgets/base",
            "_model_module_version": "1.2.0",
            "_model_name": "LayoutModel",
            "_view_count": null,
            "_view_module": "@jupyter-widgets/base",
            "_view_module_version": "1.2.0",
            "_view_name": "LayoutView",
            "align_content": null,
            "align_items": null,
            "align_self": null,
            "border": null,
            "bottom": null,
            "display": null,
            "flex": null,
            "flex_flow": null,
            "grid_area": null,
            "grid_auto_columns": null,
            "grid_auto_flow": null,
            "grid_auto_rows": null,
            "grid_column": null,
            "grid_gap": null,
            "grid_row": null,
            "grid_template_areas": null,
            "grid_template_columns": null,
            "grid_template_rows": null,
            "height": null,
            "justify_content": null,
            "justify_items": null,
            "left": null,
            "margin": null,
            "max_height": null,
            "max_width": null,
            "min_height": null,
            "min_width": null,
            "object_fit": null,
            "object_position": null,
            "order": null,
            "overflow": null,
            "overflow_x": null,
            "overflow_y": null,
            "padding": null,
            "right": null,
            "top": null,
            "visibility": "hidden",
            "width": null
          }
        },
        "eab348f9cd444e009cfbeb95969bfea6": {
          "model_module": "@jupyter-widgets/base",
          "model_name": "LayoutModel",
          "model_module_version": "1.2.0",
          "state": {
            "_model_module": "@jupyter-widgets/base",
            "_model_module_version": "1.2.0",
            "_model_name": "LayoutModel",
            "_view_count": null,
            "_view_module": "@jupyter-widgets/base",
            "_view_module_version": "1.2.0",
            "_view_name": "LayoutView",
            "align_content": null,
            "align_items": null,
            "align_self": null,
            "border": null,
            "bottom": null,
            "display": null,
            "flex": null,
            "flex_flow": null,
            "grid_area": null,
            "grid_auto_columns": null,
            "grid_auto_flow": null,
            "grid_auto_rows": null,
            "grid_column": null,
            "grid_gap": null,
            "grid_row": null,
            "grid_template_areas": null,
            "grid_template_columns": null,
            "grid_template_rows": null,
            "height": null,
            "justify_content": null,
            "justify_items": null,
            "left": null,
            "margin": null,
            "max_height": null,
            "max_width": null,
            "min_height": null,
            "min_width": null,
            "object_fit": null,
            "object_position": null,
            "order": null,
            "overflow": null,
            "overflow_x": null,
            "overflow_y": null,
            "padding": null,
            "right": null,
            "top": null,
            "visibility": null,
            "width": null
          }
        },
        "f895cea712a249858872f932f8ab5813": {
          "model_module": "@jupyter-widgets/controls",
          "model_name": "DescriptionStyleModel",
          "model_module_version": "1.5.0",
          "state": {
            "_model_module": "@jupyter-widgets/controls",
            "_model_module_version": "1.5.0",
            "_model_name": "DescriptionStyleModel",
            "_view_count": null,
            "_view_module": "@jupyter-widgets/base",
            "_view_module_version": "1.2.0",
            "_view_name": "StyleView",
            "description_width": ""
          }
        },
        "586929ab726c44939711e0a28be1f75a": {
          "model_module": "@jupyter-widgets/base",
          "model_name": "LayoutModel",
          "model_module_version": "1.2.0",
          "state": {
            "_model_module": "@jupyter-widgets/base",
            "_model_module_version": "1.2.0",
            "_model_name": "LayoutModel",
            "_view_count": null,
            "_view_module": "@jupyter-widgets/base",
            "_view_module_version": "1.2.0",
            "_view_name": "LayoutView",
            "align_content": null,
            "align_items": null,
            "align_self": null,
            "border": null,
            "bottom": null,
            "display": null,
            "flex": null,
            "flex_flow": null,
            "grid_area": null,
            "grid_auto_columns": null,
            "grid_auto_flow": null,
            "grid_auto_rows": null,
            "grid_column": null,
            "grid_gap": null,
            "grid_row": null,
            "grid_template_areas": null,
            "grid_template_columns": null,
            "grid_template_rows": null,
            "height": null,
            "justify_content": null,
            "justify_items": null,
            "left": null,
            "margin": null,
            "max_height": null,
            "max_width": null,
            "min_height": null,
            "min_width": null,
            "object_fit": null,
            "object_position": null,
            "order": null,
            "overflow": null,
            "overflow_x": null,
            "overflow_y": null,
            "padding": null,
            "right": null,
            "top": null,
            "visibility": null,
            "width": null
          }
        },
        "6a5b55decc674965afedd35993b44fbd": {
          "model_module": "@jupyter-widgets/controls",
          "model_name": "ProgressStyleModel",
          "model_module_version": "1.5.0",
          "state": {
            "_model_module": "@jupyter-widgets/controls",
            "_model_module_version": "1.5.0",
            "_model_name": "ProgressStyleModel",
            "_view_count": null,
            "_view_module": "@jupyter-widgets/base",
            "_view_module_version": "1.2.0",
            "_view_name": "StyleView",
            "bar_color": null,
            "description_width": ""
          }
        },
        "7b7b718154b24c9b8b18ea6cdd63725b": {
          "model_module": "@jupyter-widgets/base",
          "model_name": "LayoutModel",
          "model_module_version": "1.2.0",
          "state": {
            "_model_module": "@jupyter-widgets/base",
            "_model_module_version": "1.2.0",
            "_model_name": "LayoutModel",
            "_view_count": null,
            "_view_module": "@jupyter-widgets/base",
            "_view_module_version": "1.2.0",
            "_view_name": "LayoutView",
            "align_content": null,
            "align_items": null,
            "align_self": null,
            "border": null,
            "bottom": null,
            "display": null,
            "flex": null,
            "flex_flow": null,
            "grid_area": null,
            "grid_auto_columns": null,
            "grid_auto_flow": null,
            "grid_auto_rows": null,
            "grid_column": null,
            "grid_gap": null,
            "grid_row": null,
            "grid_template_areas": null,
            "grid_template_columns": null,
            "grid_template_rows": null,
            "height": null,
            "justify_content": null,
            "justify_items": null,
            "left": null,
            "margin": null,
            "max_height": null,
            "max_width": null,
            "min_height": null,
            "min_width": null,
            "object_fit": null,
            "object_position": null,
            "order": null,
            "overflow": null,
            "overflow_x": null,
            "overflow_y": null,
            "padding": null,
            "right": null,
            "top": null,
            "visibility": null,
            "width": null
          }
        },
        "67950cdafdb9460a84b296aad6fbbd02": {
          "model_module": "@jupyter-widgets/controls",
          "model_name": "DescriptionStyleModel",
          "model_module_version": "1.5.0",
          "state": {
            "_model_module": "@jupyter-widgets/controls",
            "_model_module_version": "1.5.0",
            "_model_name": "DescriptionStyleModel",
            "_view_count": null,
            "_view_module": "@jupyter-widgets/base",
            "_view_module_version": "1.2.0",
            "_view_name": "StyleView",
            "description_width": ""
          }
        }
      }
    }
  },
  "cells": [
    {
      "cell_type": "markdown",
      "metadata": {
        "id": "view-in-github",
        "colab_type": "text"
      },
      "source": [
        "<a href=\"https://colab.research.google.com/github/drshaheed/Predicting-Customer-Churn-with-Logistic-Regression/blob/main/Customer_Churn_Regression_Model.ipynb\" target=\"_parent\"><img src=\"https://colab.research.google.com/assets/colab-badge.svg\" alt=\"Open In Colab\"/></a>"
      ]
    },
    {
      "cell_type": "code",
      "execution_count": null,
      "metadata": {
        "id": "LVjB1_3Ov7Sp"
      },
      "outputs": [],
      "source": [
        "# install pycaret\n",
        "!pip install pycaret"
      ]
    },
    {
      "cell_type": "code",
      "source": [
        "# import libraries\n",
        "import pandas as pd\n",
        "import numpy as np# read csv data\n",
        "data = pd.read_csv('https://raw.githubusercontent.com/srees1988/predict-churn-py/main/customer_churn_data.csv')"
      ],
      "metadata": {
        "id": "86J7uGxIxzqx"
      },
      "execution_count": 2,
      "outputs": []
    },
    {
      "cell_type": "markdown",
      "source": [
        "# Exploratory Data Analysis"
      ],
      "metadata": {
        "id": "Gk777xPmyL-C"
      }
    },
    {
      "cell_type": "code",
      "source": [
        "# check data types\n",
        "data.dtypes"
      ],
      "metadata": {
        "colab": {
          "base_uri": "https://localhost:8080/"
        },
        "id": "U3Gg0kIQyJlG",
        "outputId": "bbe6df57-c755-4729-f5f9-e4fec0fcf543"
      },
      "execution_count": 3,
      "outputs": [
        {
          "output_type": "execute_result",
          "data": {
            "text/plain": [
              "customerID           object\n",
              "gender               object\n",
              "SeniorCitizen         int64\n",
              "Partner              object\n",
              "Dependents           object\n",
              "tenure                int64\n",
              "PhoneService         object\n",
              "MultipleLines        object\n",
              "InternetService      object\n",
              "OnlineSecurity       object\n",
              "OnlineBackup         object\n",
              "DeviceProtection     object\n",
              "TechSupport          object\n",
              "StreamingTV          object\n",
              "StreamingMovies      object\n",
              "Contract             object\n",
              "PaperlessBilling     object\n",
              "PaymentMethod        object\n",
              "MonthlyCharges      float64\n",
              "TotalCharges         object\n",
              "Churn                object\n",
              "dtype: object"
            ]
          },
          "metadata": {},
          "execution_count": 3
        }
      ]
    },
    {
      "cell_type": "code",
      "source": [
        "# replace blanks with np.nan\n",
        "data['TotalCharges'] = data['TotalCharges'].replace(' ', np.nan)# convert to float64\n",
        "data['TotalCharges'] = data['TotalCharges'].astype('float64')"
      ],
      "metadata": {
        "id": "4Lr1ZS_TyP3i"
      },
      "execution_count": 4,
      "outputs": []
    },
    {
      "cell_type": "markdown",
      "source": [
        "Notice that TotalCharges is of an object type instead of float64. Upon investigation, I figured out there are some blank spaces in this column which has caused Python to force the data type as object . To fix that, we will have to trim blank spaces before changing the data type."
      ],
      "metadata": {
        "id": "qsh0uWxmyaJ8"
      }
    },
    {
      "cell_type": "markdown",
      "source": [
        "Intuitively contract type, tenure (length of stay of the customer), and pricing plans are very important information when it comes to customer churn or retention. Let’s explore the relationship:"
      ],
      "metadata": {
        "id": "JWu8bVwTye82"
      }
    },
    {
      "cell_type": "code",
      "source": [
        "import plotly.express as px\n",
        "\n",
        "fig = px.scatter(x=data['tenure'], y=data['TotalCharges'], \n",
        "                 color = data['Churn'], template = 'presentation', \n",
        "                 opacity = 0.5, facet_col = data['Contract'], \n",
        "                 title = 'Customer Churn by Tenure, Charges, and Contract Type',\n",
        "                 labels = {'x' : 'Customer Tenure', 'y' : 'Total Charges $'})\n",
        "                \n",
        "fig.show()"
      ],
      "metadata": {
        "colab": {
          "base_uri": "https://localhost:8080/",
          "height": 542
        },
        "id": "dbc1DSutyTvh",
        "outputId": "97536168-8bc0-4505-a13c-6a9ec22cba62"
      },
      "execution_count": 5,
      "outputs": [
        {
          "output_type": "display_data",
          "data": {
            "text/html": [
              "<html>\n",
              "<head><meta charset=\"utf-8\" /></head>\n",
              "<body>\n",
              "    <div>            <script src=\"https://cdnjs.cloudflare.com/ajax/libs/mathjax/2.7.5/MathJax.js?config=TeX-AMS-MML_SVG\"></script><script type=\"text/javascript\">if (window.MathJax && window.MathJax.Hub && window.MathJax.Hub.Config) {window.MathJax.Hub.Config({SVG: {font: \"STIX-Web\"}});}</script>                <script type=\"text/javascript\">window.PlotlyConfig = {MathJaxConfig: 'local'};</script>\n",
              "        <script src=\"https://cdn.plot.ly/plotly-2.18.2.min.js\"></script>                <div id=\"7c8848c8-951d-4001-b094-844985011105\" class=\"plotly-graph-div\" style=\"height:525px; width:100%;\"></div>            <script type=\"text/javascript\">                                    window.PLOTLYENV=window.PLOTLYENV || {};                                    if (document.getElementById(\"7c8848c8-951d-4001-b094-844985011105\")) {                    Plotly.newPlot(                        \"7c8848c8-951d-4001-b094-844985011105\",                        [{\"hovertemplate\":\"color=No<br>facet_col=Month-to-month<br>Customer Tenure=%{x}<br>Total Charges $=%{y}<extra></extra>\",\"legendgroup\":\"No\",\"marker\":{\"color\":\"#1F77B4\",\"opacity\":0.5,\"symbol\":\"circle\"},\"mode\":\"markers\",\"name\":\"No\",\"showlegend\":true,\"x\":[1,22,10,13,25,21,49,30,2,1,1,46,13,49,2,43,25,47,60,3,10,1,3,8,30,11,42,9,29,30,1,65,1,1,5,43,3,27,6,7,4,1,13,23,15,8,6,14,22,13,2,16,34,15,1,20,3,40,20,59,1,14,13,44,1,23,57,8,30,50,29,18,65,13,4,10,29,57,19,20,21,14,5,6,10,1,68,20,6,12,1,35,40,4,38,38,1,22,5,35,1,52,11,28,17,36,32,66,1,23,7,16,5,18,23,1,37,1,44,1,27,27,2,19,42,33,33,32,29,51,48,16,5,7,10,55,10,18,2,26,35,1,16,49,18,36,8,22,60,24,2,1,6,24,9,24,35,7,20,15,2,1,28,52,11,1,61,56,30,5,12,29,55,2,12,63,11,1,15,1,11,1,3,7,7,28,9,35,2,1,3,30,1,4,16,15,8,57,7,10,25,23,46,15,24,17,10,37,10,1,3,49,22,3,45,3,1,1,51,1,1,35,29,2,4,29,29,20,14,46,32,26,68,9,5,5,25,27,32,42,2,5,3,27,7,2,3,1,11,22,41,11,3,5,27,34,6,2,20,1,18,5,25,61,5,14,34,37,60,36,13,2,5,5,3,33,1,7,31,32,30,50,2,4,8,15,23,26,12,16,22,32,16,4,15,13,24,54,4,32,8,22,15,22,4,25,32,7,8,3,49,11,20,12,1,27,2,4,21,3,9,1,4,23,39,5,45,37,50,27,13,14,43,3,16,34,10,24,1,59,3,46,32,16,1,7,5,15,20,9,40,32,48,20,12,27,47,2,26,11,6,11,18,32,3,41,1,7,60,23,5,32,13,43,57,18,3,14,20,15,17,12,18,3,9,7,62,17,9,49,47,20,3,25,30,21,23,45,1,2,2,12,4,5,49,1,30,20,5,28,7,3,8,10,23,1,15,28,51,11,9,9,48,10,61,33,23,1,58,2,12,29,1,4,24,3,8,43,29,35,18,67,60,12,44,35,9,65,27,3,20,1,23,6,8,18,52,31,29,22,9,1,12,8,31,45,2,13,1,1,11,52,3,51,64,37,18,23,14,17,5,3,8,63,7,3,19,35,14,7,4,63,30,25,6,39,26,12,2,7,4,55,10,11,15,1,21,6,7,17,4,2,34,27,2,20,11,30,38,1,29,37,60,27,17,53,35,47,65,9,45,8,4,7,35,27,7,70,11,55,3,5,52,8,3,2,3,17,30,31,1,7,40,16,52,12,20,35,2,71,1,28,2,26,54,42,23,1,22,34,23,1,1,60,6,32,65,45,8,22,1,1,54,45,47,52,1,1,51,3,26,29,24,14,4,16,46,38,17,3,7,5,3,24,24,22,25,22,1,3,1,1,1,3,1,55,14,20,49,46,24,5,33,8,24,23,31,10,14,17,9,5,53,13,28,16,2,5,43,1,1,28,16,1,3,69,48,45,51,37,34,47,14,56,70,23,21,48,10,18,9,2,40,18,11,33,46,3,40,22,1,31,1,41,1,56,15,7,16,3,11,18,6,21,1,25,28,2,1,4,2,29,19,66,8,64,20,38,4,54,5,1,66,30,11,11,1,49,40,1,44,7,8,3,8,5,1,8,34,3,48,4,11,65,4,26,35,28,57,16,5,30,3,4,61,5,8,3,46,33,49,1,14,18,1,2,47,60,21,48,3,43,5,1,8,20,2,12,9,11,6,43,10,27,4,68,1,26,17,3,14,31,7,32,2,27,7,11,4,8,1,8,6,47,3,4,2,12,24,42,6,4,27,24,2,7,25,8,2,12,2,18,8,45,3,35,53,30,10,12,58,44,8,25,57,12,7,1,29,31,14,18,2,17,56,1,22,5,1,2,35,15,1,29,13,63,4,28,22,8,2,34,35,1,41,8,1,41,19,21,2,63,4,1,11,52,60,7,19,3,46,5,1,64,30,13,46,13,24,6,10,7,43,24,15,4,28,55,20,2,37,4,15,1,49,23,3,4,11,2,26,12,60,1,10,67,1,4,12,26,22,12,11,60,1,6,12,6,32,51,8,54,1,33,12,40,12,9,51,49,4,26,51,4,1,27,12,14,3,3,19,1,24,1,37,12,1,18,2,19,9,24,1,38,44,5,2,9,8,25,1,2,37,24,37,21,1,10,10,6,35,2,17,11,2,55,58,9,26,1,36,5,16,4,26,5,1,36,14,13,6,15,47,8,17,15,23,4,25,3,19,39,31,14,3,34,15,12,9,1,6,5,40,41,2,3,2,3,13,7,12,15,4,16,16,19,10,10,36,17,22,1,6,52,10,4,34,40,41,4,24,5,5,24,4,38,3,48,1,1,18,28,1,1,18,12,7,49,2,12,27,21,64,11,53,57,1,2,7,65,1,4,62,18,4,64,29,12,8,54,26,21,2,29,1,29,1,48,55,37,31,4,1,15,8,56,65,18,4,19,18,38,9,3,2,25,2,9,19,4,1,8,11,17,1,43,16,2,17,1,49,50,7,33,7,30,21,35,32,28,1,59,40,40,3,8,9,31,9,25,1,45,55,38,38,34,21,47,33,37,62,23,9,24,1,11,30,9,8,28,32,10,9,4,44,33,1,1,16,43,41,3,32,32,59,26,1,11,29,57,42,18,2,2,35,2,41,4,60,1,1,1,3,15,5,55,40,3,12,66,27,58,9,6,9,8,12,42,1,10,18,3,1,2,72,6,4,12,26,15,27,8,10,2,1,46,50,53,61,5,19,17,1,9,9,22,4,12,18,3,17,7,52,1,53,34,19,2,24,67,11,18,25,9,9,4,2,19,7,1,5,18,17,29,3,8,1,45,3,8,16,8,14,42,39,1,2,52,1,10,7,5,68,8,52,18,7,5,44,58,11,34,14,1,55,16,9,53,14,10,10,1,20,1,29,1,3,20,64,6,6,7,8,59,40,34,19,43,6,34,10,56,55,12,24,35,21,13,29,7,57,1,11,59,2,6,1,12,21,12,62,1,1,63,10,45,22,5,21,44,14,7,1,3,8,1,1,40,56,19,22,49,46,1,6,25,50,4,32,9,10,29,40,25,22,23,14,2,40,1,7,15,31,11,18,71,5,5,42,33,7,64,6,3,15,23,31,56,24,1,22,4,1,30,22,9,1,19,66,7,46,32,24,37,8,16,57,21,17,8,34,33,14,32,18,4,16,17,19,1,68,45,4,22,18,29,7,26,3,3,42,1,61,1,3,8,22,38,28,15,46,10,32,13,44,9,1,17,1,32,1,62,17,56,9,20,6,8,34,7,20,60,4,16,10,31,26,33,10,11,18,45,3,65,1,7,21,2,4,6,52,69,8,63,12,13,22,2,26,1,3,13,1,4,2,37,22,42,8,22,25,20,2,46,13,19,18,24,70,2,31,16,13,72,2,21,1,6,56,31,12,11,15,34,33,31,34,58,5,2,19,9,5,1,4,31,3,2,36,10,28,38,1,46,1,22,39,12,65,25,43,24,7,20,7,16,34,16,7,31,28,41,38,53,4,20,44,24,15,24,33,22,2,15,39,61,52,1,15,4,45,1,16,10,4,29,2,13,59,18,17,19,2,18,13,42,12,7,6,51,6,64,25,43,12,23,71,34,14,6,7,9,12,1,20,20,22,35,1,39,56,18,16,9,30,18,30,1,23,42,15,40,39,2,8,7,35,17,52,47,23,8,50,42,5,27,57,47,13,1,2,55,1,5,3,11,28,2,2,41,9,1,23,8,19,7,1,12,4,26,41,30,1,29,3,38,37,14,17,10,1,8,12,7,9,2,9,26,45,12,71,31,30,33,55,10,13,56,19,1,50,60,10,43,13,1,43,56,26,1,20,30,26,21,1,48,18,34,16,50,4,4,10,4,51,48,2,33,54,15,18,18,30,31,33,1,19,26,45,3,6,11,10,33,29,24,20,1,9,1,1,11,6,21,17,1,18,9,1,1,59,7,2,21,21,14,21,4,20,5,13,61,1,56,4,44,37,41,25,23,2,17,10,58,38,2,11,40,62,22,11,7,3,6,22,6,46,33,1,1,18,24,4,37,34,4,39,3,1,1,5,9,15,29,15,19,1,2,11,23,2,58,36,10,19,1,18,21,2,22,15,28,16,30,3,12,35,5,1,27,18,4,40,63,14,39,19,17,34,42,19,6,16,3,35,22,34,19,65,2,53,7,13,2,3,15,55,11,17,3,3,1,18,13,17,59,10,39,67,9,1,1,6,7,25,4,26,6,6,62,13,34,18,36,57,68,1,37,4,1,20,11,1,16,49,31,5,10,29,46,22,11,36,2,6,1,23,37,3,5,13,20,41,13,4,12,63,5,12,9,13,61,16,6,19,11,8,26,53,13,25,1,36,4,1,16,1,18,2,19,40,21,8,6,14,52,67,2,6,67,3,3,23,32,26,2,7,19,4,47,1,59,35,41,18,42,18,5,13,52,66,1,3,33,54,54,3,1,50,56,3,2,35,21,23,8,2,46,67,32,2,6,12,54,9,23,14,57,1,23,47,2,15,26,3,42,10,55,7,2,9,44,65,1,35,60,26,36,55,39,2,69,16,35,35,32,17,9,4,1,15,41,59,6,51,49,50,18,10,19,13,5,13,64,26,52,1,44,11,15,6,43,25,28,1,26,24,31,33,56,9,5,61,15,4,9,22,2,64,14,40,14,2,5,3,9,26,9,16,25,25,3,2,20,6,6,29,28,1,43,27,38,35,2,7,41,13,45,41,25,5,18,22,1,49,28,68,13,11,37,13,24,27,1,4,10,42,22,27,1,57,4,31,1,3,29,13,11,19,35,25,55,27,13,20,5,45,57,59,4,27,4,60,18,6,1,5,29,1,18,2,30,44,2,58,49,52,31,21,32,34,3,3,4,62,64,30,1,9,54,54,3,5,25,10,28,3,48,5,15,12,9,42,9,61,24,1,8,23,31,23,36,27,13,26,38,40,41,34,1,12,63,44,18,13,6,2,38,19,11],\"xaxis\":\"x\",\"y\":[29.85,1949.4,301.9,587.45,2686.05,1862.9,2970.3,1530.6,181.65,20.2,45.25,3548.3,981.45,3906.7,97.0,3838.75,1752.65,4707.1,5450.7,244.1,887.35,49.05,177.4,482.25,2111.3,565.35,4327.5,918.75,1009.25,2570.2,74.7,7107.0,20.2,19.45,100.2,3954.1,248.4,2151.6,112.75,350.35,62.9,19.75,1215.65,1778.5,1071.4,564.35,113.5,1152.8,1821.95,764.55,135.2,321.4,780.2,1559.25,45.3,1023.85,82.15,2379.1,1901.65,6519.75,20.75,1112.3,1033.95,2958.95,25.25,1975.85,3437.45,624.6,2723.15,4747.5,702.0,1305.95,6126.15,731.3,273.4,193.05,1228.65,4925.35,2007.25,2172.05,1339.8,771.95,244.75,322.9,498.25,25.4,3687.75,927.15,567.8,220.35,20.25,3437.5,3015.75,356.65,3141.7,3741.85,19.25,1886.25,341.6,3236.35,44.8,5138.1,880.05,973.65,1470.05,3565.65,1830.1,4508.65,72.1,996.85,574.35,889.0,83.75,1373.05,1406.0,19.15,3646.8,25.35,4063.0,44.0,2595.25,2309.55,89.3,367.55,3944.5,3694.7,1803.7,2861.45,2149.05,4473.0,3545.05,1195.75,132.25,515.45,449.3,2838.55,858.6,1395.05,119.5,1183.8,3161.2,55.05,1882.55,5070.4,1166.7,2937.65,759.55,1545.4,3582.4,2494.65,38.0,75.1,100.9,1614.05,564.4,1315.35,2747.2,554.05,1671.6,1415.0,114.15,20.4,1785.65,4326.8,851.8,19.85,6300.15,5916.95,2852.4,302.6,265.45,1442.0,4713.4,174.45,1021.75,5029.05,601.6,19.55,311.6,19.9,760.05,49.3,89.05,516.15,445.95,3204.4,597.9,3365.4,38.8,19.0,61.7,2438.6,45.6,237.2,1170.5,631.4,186.3,4884.85,522.95,362.6,2395.7,1968.1,2473.95,394.85,1732.6,475.25,865.1,697.65,428.7,20.05,238.1,1453.1,493.4,313.6,3775.85,195.65,71.1,49.9,4149.45,20.45,20.65,2848.45,2516.2,33.6,208.45,2263.4,2211.8,1683.7,1164.05,4245.55,2664.3,1277.5,5589.3,204.55,356.1,92.75,1901.05,2423.4,1653.45,3344.1,137.1,202.15,202.9,1652.95,515.75,190.5,57.2,20.8,363.15,1600.25,3089.1,237.3,92.5,220.45,1510.3,2003.6,298.7,143.65,507.4,20.0,1058.1,94.15,2088.05,6751.35,318.1,372.45,1442.6,3340.55,5774.55,2854.95,394.1,62.0,352.65,104.3,113.95,1665.2,20.05,609.65,2823.0,2619.25,2679.7,4914.9,27.55,234.85,170.9,1288.3,1643.55,2193.0,255.35,1189.4,1820.9,2404.15,1212.85,308.05,320.45,382.2,2001.0,5645.8,77.6,2896.55,535.55,1253.15,955.15,2162.6,245.15,2028.8,2723.75,220.45,551.95,60.65,4733.1,888.65,413.0,540.95,19.75,537.35,132.4,284.9,417.7,160.85,827.45,49.5,162.45,470.2,2066.0,392.5,3861.45,2552.9,3557.7,1957.1,649.4,1046.5,4209.95,152.3,552.7,1815.3,612.95,2210.2,21.1,5580.8,200.2,4564.9,2766.4,1129.35,80.55,580.1,259.4,324.15,417.65,769.1,2058.5,3145.9,4997.5,1493.55,593.05,529.8,3865.6,48.35,2070.05,723.35,98.35,775.3,1074.65,2324.7,170.5,1677.85,18.85,370.4,5475.9,2326.05,283.95,3217.65,1029.35,3953.15,3196.0,1500.5,256.75,765.45,1259.35,340.85,1348.95,611.65,467.85,194.2,571.45,521.35,4300.45,1111.2,190.1,4847.35,4017.45,1398.6,168.6,536.35,1888.45,629.35,2117.25,4730.9,19.45,92.75,194.55,612.1,303.7,86.05,4159.45,62.8,3242.5,1614.2,402.5,1646.45,147.5,86.35,579.0,187.75,1221.55,25.15,1114.55,563.05,2553.35,250.8,178.85,633.85,5315.1,735.5,4904.85,2033.85,2192.9,19.85,3970.4,129.2,740.55,2440.25,20.35,319.6,1938.05,58.3,546.45,4039.0,2948.6,3418.2,865.75,6373.1,5985.75,741.4,3122.4,739.9,593.85,7227.45,1291.35,154.55,2031.95,50.05,473.9,106.8,152.6,1199.4,2555.05,2979.2,654.85,2234.95,547.8,74.6,571.15,156.85,2683.2,4456.65,36.8,1235.55,51.25,19.55,795.65,4993.4,61.45,4018.55,6081.4,1478.85,1247.75,2130.55,1203.9,1579.7,96.1,55.25,335.4,7002.95,158.95,293.15,1093.4,882.55,300.4,475.0,217.1,4896.35,1474.9,2199.05,457.1,3107.3,518.3,832.3,45.3,246.6,261.65,4509.5,653.15,1183.05,639.45,20.05,780.15,273.25,493.65,385.55,84.2,120.25,675.6,1611.65,44.75,1191.2,866.4,2627.2,4009.2,43.8,573.05,3419.3,4859.1,1439.35,592.75,4921.2,901.25,1139.2,7082.45,663.55,5125.5,548.9,319.85,344.2,1655.35,1943.9,465.7,6669.05,425.1,5044.8,196.4,417.75,3169.55,438.05,318.6,163.7,273.2,1608.15,1441.95,2168.15,19.05,313.45,745.3,1212.1,5832.0,654.5,415.4,3161.6,80.95,6669.45,48.75,1505.15,168.5,1652.4,1621.35,3058.3,1642.75,43.85,1490.4,716.4,1835.3,75.5,19.2,4453.3,323.45,1739.6,5931.0,2333.85,572.45,1381.8,47.95,45.0,4931.8,3273.8,3252.0,2566.3,44.05,45.55,4539.35,67.1,1156.55,1834.15,1706.45,419.7,207.35,1083.7,2007.85,2657.55,1612.2,266.8,571.05,167.2,174.2,1269.6,1348.5,471.55,1404.65,1961.6,81.05,76.95,20.2,20.9,21.05,189.1,49.8,5099.15,668.85,1916.2,4613.95,2459.8,2048.8,163.55,2888.7,553.4,1291.3,1868.4,2845.15,1021.55,268.4,1329.15,637.4,117.95,4616.1,750.1,1410.25,1340.1,134.6,125.5,2737.05,74.3,70.6,1867.6,1043.3,24.7,206.15,5869.4,4946.05,4964.7,4085.75,3415.25,2896.6,4669.2,283.75,5594.0,7554.05,1702.9,467.15,1423.05,223.9,391.7,811.65,174.75,3126.85,1406.65,834.7,3092.0,2168.9,65.95,2647.1,1790.65,20.45,2429.1,44.45,3023.55,20.15,5893.95,1430.05,458.1,341.35,147.75,818.45,348.8,128.6,1737.45,50.1,1797.75,2684.35,111.4,43.95,308.1,109.25,926.2,382.2,4264.6,161.15,7111.3,1648.45,3956.7,294.2,3883.3,371.6,95.85,6690.75,1588.7,829.3,712.25,51.2,2583.75,3673.6,49.85,4495.65,340.35,908.55,157.55,581.7,420.45,45.2,743.75,3410.0,199.85,5068.05,73.05,1020.2,6223.3,82.9,2067.0,3452.55,1802.15,3687.85,1391.15,274.35,3211.9,130.15,85.5,2117.2,424.75,168.9,253.8,2065.15,2447.45,1838.15,44.75,1185.0,1743.9,25.7,50.6,2654.05,5969.95,565.75,4370.75,90.05,2169.4,550.6,55.45,436.6,1781.35,63.75,617.15,870.25,601.25,111.65,3398.9,389.8,2401.05,156.1,2796.35,70.05,511.25,646.05,60.65,824.85,2094.65,438.9,674.55,162.55,1972.35,490.55,683.25,294.45,162.3,70.45,659.45,119.3,4849.1,244.85,220.75,89.75,255.5,1440.75,869.9,512.25,93.45,1389.85,2404.85,171.45,715.0,1992.95,562.7,33.7,227.45,37.2,892.7,487.75,3713.95,141.7,617.65,5935.1,2974.5,198.7,1275.65,3791.6,780.25,408.25,2191.15,5611.7,246.25,525.0,70.1,2878.75,3205.6,1137.05,1299.8,188.1,1077.05,4922.4,83.4,2142.8,287.85,19.8,40.9,2094.9,1302.65,55.55,1912.15,670.65,6713.2,91.45,2626.15,1049.05,169.75,51.6,3190.25,812.5,44.0,2215.4,216.45,20.45,996.45,839.65,402.85,46.4,6780.1,94.5,55.3,208.0,3829.75,5294.6,168.65,434.8,107.25,851.2,109.8,19.65,5135.35,2000.2,931.75,3958.85,816.8,688.0,288.35,185.4,265.8,4107.3,2072.75,736.8,336.15,1522.65,4959.6,442.6,184.15,1315.0,220.65,378.6,50.15,4920.55,1936.85,79.8,202.25,999.9,113.1,2015.8,246.7,6017.9,50.15,252.75,6841.05,44.6,226.2,1017.35,2146.5,1850.65,1043.4,716.1,6236.75,20.45,450.9,432.25,297.35,2970.8,2181.55,371.4,4667.0,69.9,3465.05,198.1,4108.15,605.75,661.55,4116.9,4494.65,55.7,493.95,5038.15,324.2,19.55,2793.55,648.65,672.7,268.45,196.9,439.2,19.5,2107.15,19.2,3371.75,442.45,25.25,1156.35,144.8,414.95,181.8,459.95,25.0,3162.65,4040.2,107.05,38.15,184.1,137.6,1813.1,49.9,82.7,2030.75,828.2,3810.55,1493.2,45.8,777.3,187.35,307.6,2136.9,38.45,1640.0,888.75,42.9,5073.1,4526.85,678.45,1237.3,19.1,3474.2,392.65,1205.5,78.9,1025.15,122.0,74.3,702.9,1117.55,930.05,110.15,1669.4,3545.1,504.05,440.2,1151.55,1249.25,317.75,461.3,335.75,1394.55,3413.25,3143.65,664.4,63.6,3091.75,272.95,381.2,653.9,55.25,109.2,92.05,3168.75,3439.0,42.45,96.85,111.05,94.4,923.85,141.1,628.65,1287.85,118.25,875.35,799.0,710.05,568.2,551.3,3684.95,1752.45,2157.3,24.4,433.95,4433.3,964.35,399.25,3634.8,3369.05,3645.05,135.75,1319.85,229.4,370.25,1233.25,83.3,3653.0,241.3,2104.55,20.3,19.2,1011.05,535.35,75.55,70.25,908.75,316.2,564.65,2106.05,186.05,999.8,1461.45,416.4,4869.35,580.8,2495.2,5913.95,19.4,44.4,155.9,3673.15,70.6,73.45,5586.45,1537.9,82.85,5327.25,2621.75,837.5,401.5,6118.95,1800.05,1948.35,157.75,2807.1,44.95,1025.15,19.5,4834.0,3131.8,3369.25,2674.15,199.75,19.7,1400.3,411.6,5841.35,5688.45,1345.75,214.55,865.85,1358.6,3147.15,542.4,98.5,87.9,1952.25,153.8,190.25,1651.95,78.3,44.9,576.7,267.35,934.15,19.45,3645.6,314.45,140.1,1108.0,79.15,2070.75,4729.75,472.65,1884.65,278.4,2595.85,1956.4,2096.1,2665.0,543.8,20.35,3005.8,2586.0,3292.3,232.35,658.1,653.95,1825.5,359.4,2338.35,46.3,3541.1,1087.25,2522.4,717.3,1734.2,1558.7,2538.2,1750.85,2575.45,6019.35,1284.2,653.25,1928.7,71.25,216.2,3121.1,157.65,572.85,2433.5,641.15,583.0,788.6,202.3,4915.15,838.5,20.5,30.55,1398.25,3161.4,3990.6,235.0,3089.6,2901.8,4949.1,2281.6,50.75,874.2,1323.7,5497.05,2455.05,357.0,146.65,134.05,1701.65,135.75,4282.4,224.85,6572.85,29.15,20.05,49.55,232.5,749.25,134.75,4266.4,1077.5,137.25,966.55,6936.85,1929.0,5817.7,178.8,435.0,186.15,445.85,912.0,4222.95,20.0,797.25,1359.45,54.7,44.55,87.3,8061.5,518.75,238.5,827.05,2599.95,284.3,2462.55,411.75,198.6,103.7,19.65,3249.4,5405.8,3363.8,7132.15,93.55,566.1,1742.5,24.0,970.45,405.7,2415.95,176.2,1001.2,1594.75,212.4,340.35,419.35,5647.95,29.9,4348.1,635.9,1682.4,143.9,1559.45,6079.0,383.55,1745.5,1837.7,180.7,576.95,68.45,123.05,468.35,174.7,44.0,300.4,992.7,1563.9,1332.4,161.45,226.95,69.95,2298.55,237.65,695.75,825.1,330.8,1337.45,2301.15,4036.0,20.4,117.05,5839.3,45.35,163.2,189.95,286.8,5683.6,369.15,4631.7,401.95,701.3,262.3,2139.1,5780.7,662.95,1765.95,709.5,50.15,4052.4,664.4,718.55,2546.85,1346.3,765.15,247.0,49.9,1370.35,20.25,2215.25,74.0,214.4,1871.15,6171.2,161.45,336.7,333.65,393.45,5623.7,2971.7,2427.35,1760.25,3551.65,122.9,2909.95,374.0,5581.05,5676.65,232.4,2088.45,1434.6,2215.0,842.25,601.6,605.45,3094.05,19.75,492.0,5496.9,107.1,522.35,19.5,1066.9,985.05,828.05,6164.7,33.6,20.7,6871.7,208.25,3062.45,1816.75,408.5,1011.5,2549.1,1013.35,152.95,19.3,220.4,158.35,19.95,19.75,2460.35,5116.6,1033.9,1885.15,5025.0,4863.85,25.75,109.5,546.85,1782.4,280.35,2897.95,801.3,492.1,1718.95,4469.1,1729.35,1073.3,1783.75,1058.1,123.8,2731.0,20.75,497.3,711.15,2929.75,838.7,1443.65,6951.15,214.75,235.2,2727.8,1462.6,150.6,5960.5,314.55,56.0,330.8,2249.1,2807.65,4902.8,1857.75,20.15,1706.45,179.85,20.25,2936.25,1271.8,530.05,19.2,1144.6,6595.0,149.05,4972.1,2045.55,2187.15,2976.95,178.7,1461.15,2782.4,452.2,1322.55,139.75,3000.25,2245.4,944.65,1864.65,1221.65,302.35,1374.9,1336.9,1297.8,44.75,7320.9,4200.25,93.4,1573.95,1468.75,2607.6,322.5,2510.7,61.05,140.4,1626.05,70.35,5500.6,19.75,235.05,574.5,400.3,2656.3,2244.95,1130.0,2062.15,720.45,2979.3,956.65,3973.2,447.9,49.0,836.35,20.95,2570.0,44.15,6487.2,1556.85,5432.2,147.55,2203.7,130.5,446.8,3540.65,130.55,1540.35,6411.25,101.9,313.4,629.55,2640.55,2196.45,3008.15,222.65,246.3,969.85,4747.85,101.1,6496.15,59.55,144.35,1125.2,39.85,422.4,314.6,4331.4,6382.0,600.15,5538.8,690.5,279.3,1427.55,53.15,2404.1,24.4,209.9,610.75,70.7,155.35,144.0,911.6,1615.1,1097.15,369.3,432.5,532.1,375.25,125.95,1620.25,659.35,377.55,964.9,2322.85,6470.1,57.4,2019.8,1522.7,252.0,6747.35,105.6,2271.85,61.15,494.95,5219.65,2877.95,959.9,929.3,1285.05,3414.65,2964.05,2156.25,2275.1,5511.65,351.5,106.2,1743.05,657.5,426.35,19.55,235.05,2633.4,49.65,46.35,2659.45,196.75,1517.5,3479.05,20.3,4391.25,19.9,1799.3,1597.05,524.35,6812.95,1837.9,1500.25,2283.15,488.65,505.95,349.8,1067.05,3527.3,1248.9,144.95,1882.8,2065.4,3848.0,781.25,4779.45,250.1,1745.2,3670.5,1167.8,469.65,1381.2,3645.5,849.9,151.75,299.4,3767.4,3641.5,2535.55,44.55,1539.8,223.75,4385.05,18.9,1261.35,253.9,227.35,2357.75,198.5,251.65,5597.65,768.05,1215.8,910.45,52.0,389.25,1261.0,2536.55,958.25,201.95,285.2,1529.45,312.7,6953.4,541.5,4156.8,223.6,768.45,3765.05,2157.5,1273.3,377.85,355.1,906.85,1057.55,19.4,1641.3,1826.7,2180.55,2835.9,45.15,2730.85,5794.45,747.2,1267.95,724.65,1536.75,607.3,1923.5,75.35,2184.85,3875.4,1451.1,2847.2,1494.5,41.85,475.1,150.75,3403.4,1672.1,3043.7,2723.4,1081.25,632.2,4113.7,3729.75,399.45,1336.15,5925.75,4747.2,1028.9,19.75,154.3,6382.55,89.25,86.05,82.85,893.2,810.85,43.15,35.1,3851.45,684.85,74.35,1312.45,159.2,610.2,404.35,19.65,505.95,169.65,1147.0,4133.95,2917.65,54.3,2964.8,225.65,955.75,3382.3,780.85,1614.7,270.15,20.6,573.15,306.05,639.7,348.15,40.25,784.45,1406.9,4192.15,1173.55,7713.55,2227.8,2351.45,2989.6,2479.05,638.95,831.75,5953.0,953.65,20.55,5431.9,6401.25,616.9,1912.85,849.1,90.1,2907.35,4952.95,2078.55,19.1,1003.05,2509.95,2537.0,1393.6,89.35,4445.3,331.35,673.2,1442.2,5222.35,249.4,253.0,436.2,118.4,3649.6,5083.55,39.3,2406.1,4524.05,1505.45,913.3,1411.65,3096.9,2613.4,3275.15,54.5,962.9,1233.15,4882.8,148.05,129.55,581.7,929.45,2576.8,1993.25,1923.85,939.8,84.6,651.5,45.4,50.75,321.05,335.65,1424.4,382.8,20.2,1794.65,501.2,48.45,55.7,3735.45,477.55,42.7,2025.1,1747.2,1043.8,1857.25,146.4,356.15,384.25,389.95,5731.85,20.65,4275.75,84.5,4060.55,3532.85,775.6,477.6,1849.95,61.05,1207.0,563.5,5749.8,2076.05,44.2,215.25,2092.9,5629.55,469.85,733.95,485.25,78.25,184.05,1178.75,109.3,3168.0,669.45,48.6,49.75,1691.9,2248.05,63.0,3314.15,852.7,91.4,3949.15,207.4,19.75,35.0,383.65,452.8,1219.85,2414.55,1155.6,1564.4,19.65,84.4,864.85,470.6,108.65,4807.35,1815.0,199.45,1637.3,20.05,1611.15,1992.55,33.7,454.05,1392.25,734.6,1540.05,3181.8,229.7,266.6,1982.6,339.9,20.3,2383.6,1438.05,99.95,2036.55,6444.05,767.55,4040.65,1672.35,1345.65,2425.4,2077.95,1286.05,514.6,330.25,122.7,2419.0,470.2,3097.0,577.15,6914.95,96.8,3827.9,533.05,995.35,154.8,257.6,720.1,2832.75,472.25,1165.6,72.0,68.35,44.0,1380.4,275.4,846.8,2997.45,524.5,2341.5,5060.85,466.6,85.0,44.3,414.1,256.6,1296.8,59.25,2006.1,487.05,483.3,5618.3,788.35,3625.2,550.35,1267.2,5567.45,3085.35,24.7,3541.4,84.2,50.7,1165.55,608.15,35.9,1321.3,3024.15,2724.25,413.25,218.5,1004.75,3847.6,1098.85,827.7,3512.5,151.75,552.65,24.9,678.75,683.75,233.65,291.45,254.5,347.65,1841.9,232.1,360.55,355.9,7031.45,109.6,893.0,781.4,902.25,5943.65,275.7,340.4,1093.2,521.9,713.6,1265.65,4003.85,251.25,1373.0,49.8,3440.25,67.55,70.2,294.9,19.95,476.8,101.65,1130.85,3532.25,1570.7,520.95,357.6,1122.4,2020.9,3579.15,49.7,276.5,5588.8,50.6,58.0,2024.1,2871.5,2193.65,31.2,533.6,1620.8,293.85,4137.2,19.4,5348.65,3180.5,2237.55,358.5,2421.75,1294.6,374.8,331.85,5088.4,5976.9,20.05,57.5,3270.25,3919.15,5295.7,217.45,19.25,2021.35,2564.95,45.75,74.2,1175.85,926.25,2341.55,163.6,145.15,3769.7,3725.5,601.55,139.25,401.3,235.8,1364.75,647.5,2044.95,921.4,4018.35,20.25,2085.45,5135.15,118.25,1108.6,1815.65,75.45,4014.6,568.85,4238.45,418.3,136.05,708.2,4122.9,6578.55,19.55,1861.1,3069.45,2349.8,3301.05,4144.9,1905.4,141.65,5785.65,275.9,2130.45,3756.45,3334.9,920.5,150.35,367.95,19.55,1242.2,3190.65,2666.75,295.65,1459.35,4297.95,3454.6,1387.0,786.3,1375.6,718.1,320.4,1334.45,4764.0,786.5,5364.8,20.3,2419.55,688.5,867.1,355.1,1505.35,1679.65,2998.0,24.4,1959.5,1275.7,1647.0,3320.6,5669.5,704.3,95.55,6375.2,1566.75,110.05,816.8,1253.5,41.2,6548.65,299.3,3915.4,979.5,90.05,398.55,63.15,484.05,2208.75,238.15,1218.25,1405.3,1902.0,239.05,39.8,406.05,138.85,123.65,1801.1,790.7,54.65,1224.05,2310.2,3988.5,3554.6,85.1,173.0,3893.6,357.15,2221.55,3090.65,1293.8,500.1,1601.5,1232.9,19.9,4889.2,2289.9,6503.2,1313.25,990.3,805.2,528.45,2259.35,1411.35,20.35,238.5,226.55,3313.4,1938.9,460.25,19.9,3171.6,299.75,702.05,19.65,92.25,1242.45,559.2,531.15,465.85,3782.4,460.2,4600.95,1793.25,886.7,1879.25,434.5,3778.1,5438.95,5386.5,235.65,2272.8,83.75,4663.4,1806.35,497.6,19.3,266.95,2623.65,45.85,1082.8,147.8,2570.2,2924.05,32.7,5305.05,3720.35,5025.8,1498.55,1818.9,1051.05,3688.6,239.45,244.45,129.6,4981.15,2751.0,1307.8,53.55,791.7,4869.5,4308.25,221.1,316.9,471.7,503.25,961.4,53.05,2108.35,232.55,309.4,523.1,770.5,3930.6,897.75,5895.45,1218.25,24.2,554.45,2032.3,789.2,1652.1,3366.05,2093.4,1011.8,1022.5,3691.2,3756.4,3645.75,2874.45,49.95,239.0,6479.4,3626.35,1679.4,931.55,263.05,39.25,2625.25,1495.1,346.45],\"yaxis\":\"y\",\"type\":\"scattergl\"},{\"hovertemplate\":\"color=No<br>facet_col=One year<br>Customer Tenure=%{x}<br>Total Charges $=%{y}<extra></extra>\",\"legendgroup\":\"No\",\"marker\":{\"color\":\"#1F77B4\",\"opacity\":0.5,\"symbol\":\"circle\"},\"mode\":\"markers\",\"name\":\"No\",\"showlegend\":false,\"x\":[34,45,62,58,52,12,27,10,17,60,63,66,18,47,52,56,46,45,35,71,38,66,72,32,43,52,56,71,64,3,30,70,22,11,43,32,61,33,13,43,27,33,64,29,1,12,24,31,41,41,42,51,32,50,45,22,35,23,23,48,51,9,8,46,63,41,64,17,42,58,71,33,56,43,17,41,42,23,32,11,68,60,46,29,44,52,68,36,54,64,28,72,17,72,61,34,70,20,28,67,52,58,68,33,69,34,65,50,56,38,56,15,11,11,31,5,46,51,2,66,32,51,44,66,62,40,66,10,40,49,50,45,53,48,40,51,52,31,47,22,47,27,2,30,63,14,17,59,63,24,68,31,34,55,47,70,62,15,12,66,26,57,51,60,26,67,49,27,37,63,56,19,72,12,21,60,63,30,12,65,24,17,35,39,34,53,23,64,28,47,56,16,8,52,29,40,36,26,14,20,58,52,51,29,41,67,54,42,38,50,25,23,14,29,52,62,67,25,26,1,70,14,53,58,35,38,37,56,62,30,54,61,13,24,45,56,53,36,25,36,1,63,24,36,42,48,32,60,43,22,50,64,57,66,54,61,46,33,62,14,71,64,48,71,23,43,40,8,58,52,42,36,23,62,44,39,51,56,23,66,49,45,41,56,37,39,47,15,68,21,56,42,50,46,69,17,51,49,46,3,48,66,7,59,1,14,66,67,56,12,39,54,42,29,68,17,51,64,61,66,41,27,62,44,50,58,27,63,60,42,44,35,71,17,42,56,59,69,19,38,6,26,48,64,47,27,23,12,41,40,7,44,65,53,20,51,51,63,70,42,23,66,53,20,27,45,22,31,52,12,71,24,41,7,51,30,65,39,14,16,36,69,55,33,45,46,12,23,21,62,46,51,13,59,21,19,5,50,56,28,17,19,36,72,34,50,10,33,58,41,27,44,15,64,15,60,56,52,30,67,9,71,18,43,35,72,57,25,47,48,8,67,55,66,11,11,29,71,8,71,31,38,71,42,28,25,27,11,18,59,50,9,17,57,70,49,29,28,68,38,41,50,70,44,34,29,23,53,41,69,35,12,62,47,38,27,21,71,64,25,28,60,65,39,59,62,33,51,27,29,30,69,7,52,61,53,24,62,25,49,64,61,34,3,69,26,64,12,13,27,71,55,62,7,65,53,13,40,42,66,24,60,17,24,19,31,58,37,13,21,43,32,50,40,64,53,56,20,34,24,57,52,26,1,27,11,29,18,33,67,32,67,48,61,67,25,25,51,61,71,51,60,9,4,28,39,17,43,44,70,44,68,70,24,70,41,26,29,14,24,50,52,28,17,58,3,40,40,48,64,17,41,51,68,53,36,61,11,17,66,61,47,24,65,13,23,60,69,68,33,25,37,66,26,63,66,40,16,72,71,54,31,46,41,58,56,58,26,58,61,35,31,28,53,53,61,11,25,41,34,40,36,46,58,39,52,70,65,70,35,2,65,23,47,26,44,58,44,66,51,57,37,16,10,25,29,71,6,28,63,53,17,72,40,34,50,70,13,61,55,69,16,60,53,39,51,67,7,51,22,30,50,40,37,30,9,68,10,55,44,28,23,62,67,8,24,26,12,11,52,43,29,43,50,17,46,2,51,24,64,47,54,50,68,26,72,13,42,38,48,35,39,59,37,50,67,10,9,56,59,52,32,42,43,37,51,51,36,28,7,42,67,59,46,56,14,30,33,22,36,53,20,35,26,53,47,67,27,26,65,32,50,61,18,69,23,10,7,69,61,48,55,45,16,56,57,56,10,63,42,57,35,28,45,48,52,12,67,24,51,49,3,56,65,71,38,69,13,29,49,36,21,13,25,66,45,67,63,21,66,27,30,16,31,48,50,19,4,64,54,60,11,61,37,17,57,30,41,53,9,71,68,26,72,62,39,18,52,25,60,44,71,23,42,32,26,35,54,49,32,50,58,38,20,64,60,50,19,44,35,22,9,23,66,1,35,6,69,53,71,49,55,61,67,55,64,56,72,18,32,41,67,37,41,54,53,18,57,48,71,48,58,30,46,7,44,47,57,64,63,27,45,36,7,24,22,26,62,66,41,23,23,48,10,20,19,54,68,55,33,22,49,67,21,22,65,55,28,29,71,66,49,66,30,17,61,15,20,53,12,50,66,51,70,9,0,29,65,45,72,40,41,33,68,55,19,35,59,69,66,37,9,66,46,33,61,68,46,33,57,49,69,58,24,5,55,47,64,38,25,26,4,18,56,56,6,35,50,46,34,61,57,37,55,46,41,71,37,64,26,10,53,33,45,35,12,28,71,55,54,51,72,44,66,68,22,21,22,49,61,70,51,48,27,46,31,55,35,15,13,45,68,20,64,39,20,64,28,39,44,35,43,49,4,40,34,43,4,33,12,32,40,32,59,22,23,44,37,53,60,69,31,30,6,61,35,62,35,62,61,44,3,34,23,33,70,52,26,27,20,56,62,22,36,17,15,57,52,67,60,39,15,50,54,41,34,7,53,37,38,58,39,7,59,64,10,65,55,26,21,4,66,48,14,17,65,57,56,50,39,1,2,36,32,61,44,50,13,68,69,29,25,15,62,70,26,51,70,59,69,45,25,22,27,54,57,15,23,6,26,59,39,31,64,71,60,55,30,40,28,47,55,38,61,10,38,10,70,38,8,54,60,15,43,63,58,31,32,52,52,41,67,67,58,60,66,17,59,14,8,18,60,53,37,26,17,67,70,63,15,63,18,53,34,62,63,18,6,23,34,45,10,49,54,22,43,26,64,29,48,59,7,24,10,69,50,28,61,51,49,47,36,36,43,11,67,39,30,40,28,59,50,48,67,15,68,52,70,43,56,51,71,14,19,43,70,67,13,42,48,63,62,71,53,48,22,51,30,56,35,69,53,15,48,58,35,61,68,47,32,38,49,50,53,51,37,35,20,71,43,67,23,72,55,12,24,72],\"xaxis\":\"x2\",\"y\":[1889.5,1840.75,3487.95,5681.1,1022.95,202.25,1874.45,475.7,418.25,4456.35,6311.2,7076.35,957.1,3650.35,1090.65,6139.5,2688.85,1216.6,2215.45,4748.7,3605.6,3027.25,7303.05,927.65,3921.3,3042.25,5515.45,3985.35,5289.05,61.35,1929.95,7930.55,419.9,233.9,3539.25,654.55,1252.0,2453.3,244.8,3173.35,2681.15,2684.85,6654.1,540.05,20.2,219.35,1288.75,2545.75,3187.65,2531.8,4298.45,4619.55,2633.3,5791.1,5032.25,1783.6,2021.2,1940.8,1509.8,3682.45,5686.4,422.3,161.95,4422.95,1328.15,865.0,6430.9,681.4,4016.75,2878.55,6962.85,690.25,5608.4,3662.25,1410.25,3339.05,2348.45,415.1,624.15,237.7,3848.8,5812.0,1066.15,2830.45,1110.5,5376.4,3975.7,720.05,6049.5,1642.75,2768.35,6588.95,330.6,8003.8,3902.6,3899.05,4543.15,1818.3,1546.3,6989.45,4738.3,5430.35,7379.8,1955.4,6744.2,2647.2,6744.25,5265.5,3808.0,2708.2,6033.3,1667.25,422.6,697.25,3082.1,85.1,1174.8,4614.55,47.7,4859.25,3608.0,2356.75,4860.35,6976.75,5755.8,3355.65,6819.45,176.3,2236.2,4287.2,3442.15,3597.5,1039.45,1203.95,4188.4,1266.4,1623.4,2344.5,1013.05,417.0,4018.05,2964.0,34.75,3327.05,5817.0,275.7,1175.6,6152.3,2588.95,1832.4,5023.0,2548.65,938.65,5656.75,4889.3,5222.3,4487.3,295.95,444.75,5898.6,457.3,5598.0,3077.0,4039.5,504.2,7511.65,1782.0,2857.6,3247.55,4965.1,6068.65,1231.85,7848.5,267.0,2239.4,1505.9,4786.15,2538.05,435.45,7118.9,531.55,365.8,1916.0,1886.4,678.8,5016.25,485.2,1601.2,1426.45,4615.25,4557.5,360.35,447.75,3877.65,572.2,3208.65,620.75,505.9,795.15,1055.9,1497.9,1012.4,5680.9,2243.9,2839.95,6038.55,5637.85,839.4,914.4,4179.1,1611.0,1533.8,228.65,1072.6,3410.6,5936.55,4991.5,510.8,1295.4,19.65,3011.65,773.2,4872.2,3478.75,3532.0,3887.25,3778.0,5253.95,1446.8,2820.65,5826.65,6066.55,270.2,2033.05,1596.6,5264.3,2879.2,2234.55,495.15,679.8,74.1,4111.35,1367.75,2680.15,2049.05,3629.2,3131.55,3928.3,2151.6,1292.2,1748.9,4688.65,5985.0,1359.5,4484.05,6145.2,1165.9,620.55,6840.95,294.5,7412.25,6603.8,936.7,6585.2,615.35,2908.2,2023.55,153.95,5458.8,5244.45,4586.15,666.75,1756.6,5731.45,2265.0,1309.15,3562.5,5914.4,1282.85,4738.85,2633.95,4735.35,2877.05,5514.95,2443.3,1790.6,4391.45,270.6,3975.9,1497.05,3512.15,3375.9,5347.95,4312.5,6511.25,279.5,5720.35,923.1,3231.05,220.45,1133.7,1983.15,134.05,3801.3,18.8,321.7,7031.3,7035.6,1431.65,314.95,947.75,3770.0,958.1,1620.2,5233.25,323.15,2928.5,5692.65,5969.3,6130.95,4162.05,1421.75,4698.05,3268.05,2614.1,6526.65,583.3,3503.5,6339.45,4599.15,2722.2,954.9,6770.85,1588.25,949.85,1261.7,3958.2,2492.25,279.2,755.5,171.0,1597.4,4744.35,6721.6,4563.0,1477.65,1327.85,260.7,962.25,1382.9,150.0,865.05,6153.85,5809.75,415.9,996.95,3145.15,4576.3,6385.95,2421.6,2292.75,3465.7,5200.8,433.75,2204.35,3600.65,422.5,589.25,3865.45,1184.0,7382.85,456.85,2511.3,128.6,3966.3,608.5,6792.45,779.2,772.85,857.8,1941.5,6841.45,3157.0,1952.8,4368.85,845.6,854.45,436.9,1336.8,7133.45,4674.4,5498.8,273.25,5483.9,1258.35,383.65,99.6,4164.4,1238.65,672.2,1070.7,1045.25,3003.55,7537.5,3343.15,5232.9,225.85,1309.0,1108.8,3211.2,1246.4,1013.6,302.45,1336.65,1010.0,4847.05,3019.7,5481.25,576.65,6733.15,593.3,7288.4,401.85,4451.85,2661.1,7789.6,5468.95,733.55,3021.45,2196.3,203.95,5064.45,1140.05,3251.85,729.95,226.8,1082.75,6300.85,160.05,5552.5,2835.5,3591.25,6046.1,3923.8,1682.05,507.9,2673.45,651.55,407.05,4903.15,1306.3,463.6,329.75,5199.8,1341.5,4917.9,599.3,2509.25,5333.35,814.75,2894.55,4025.6,1856.4,926.0,682.1,2656.7,1689.45,3942.45,4016.2,7317.1,2495.15,876.75,4263.45,1250.85,678.2,552.9,1215.45,7854.15,7266.95,505.45,1381.8,2911.5,6643.5,2209.15,6557.75,5791.85,3055.5,5000.05,562.6,617.35,625.05,7386.05,369.25,4354.45,1143.8,3297.0,482.8,1244.8,1540.2,5168.1,6889.8,6383.9,2753.8,69.25,5848.6,595.5,7396.15,260.9,966.25,1567.55,6028.95,1001.5,6703.5,136.75,6767.1,1301.9,592.65,2921.75,854.9,4174.35,1454.25,4765.0,1201.65,527.35,386.5,1910.75,2919.85,717.5,253.8,1742.45,2444.25,2010.95,5153.5,1564.05,5980.75,5043.2,3282.75,1274.45,917.15,1346.9,3035.8,1071.6,684.05,20.4,2212.55,211.95,2080.1,1087.45,1113.95,3321.35,707.5,7112.15,3094.65,6518.35,7244.7,411.15,970.4,4911.05,4820.55,7472.15,3043.6,1506.4,163.7,79.05,1516.6,2224.5,353.65,4532.3,3990.75,7475.85,835.5,1193.55,6602.9,1712.9,3635.15,4454.25,2475.35,535.05,324.8,439.75,1033.0,3482.85,2688.45,307.0,2689.35,71.2,4178.65,854.9,3420.5,4068.0,337.9,1412.4,3974.7,5461.45,5576.3,1939.35,2696.55,184.95,1096.65,7210.85,5264.5,951.55,1821.2,1600.95,218.55,1423.35,6157.6,1442.65,8035.95,579.4,527.5,3019.1,7051.95,1190.5,4448.8,6273.4,2511.55,318.6,7323.15,7521.95,2369.7,2939.8,4408.45,3320.75,3972.25,1126.75,2413.05,1581.95,5846.65,6018.65,2016.45,683.25,1992.2,1007.9,5036.9,6521.9,617.85,516.3,2364.0,2042.05,4116.8,1317.95,4594.65,6332.75,3213.75,4976.15,7308.95,4555.2,6982.5,741.0,31.9,6674.65,1843.05,4535.85,2312.55,3250.45,5610.15,2440.25,6860.6,1260.7,3053.0,677.05,295.55,198.25,1355.45,1636.95,6687.85,113.5,2568.15,5825.5,4449.75,310.6,1623.15,2448.5,3128.8,943.1,7069.3,742.9,6423.0,2743.45,6055.55,296.15,6029.0,990.45,3219.75,4554.85,7332.4,249.55,4475.9,1374.35,2044.75,2188.45,2635.0,2347.85,2198.9,190.25,5163.0,242.4,4264.25,2774.55,534.7,947.4,1476.25,5903.15,140.95,592.65,2018.1,943.85,245.15,4079.55,2391.15,529.5,3581.6,989.05,351.55,1489.3,34.8,3950.85,533.5,3756.45,4138.9,5121.75,4858.7,3723.65,2083.1,7677.4,259.65,2386.85,749.35,1171.5,708.8,791.15,4639.45,2658.4,2230.85,7281.6,411.45,172.35,4968.0,3645.5,5621.85,593.2,2763.35,2640.55,2911.8,4126.2,2898.95,1893.5,1654.45,477.05,849.9,3994.05,1980.3,4753.85,3665.55,272.0,1187.05,600.25,1441.8,695.85,4155.95,395.6,638.0,2034.25,3419.5,942.95,3870.0,595.05,1908.35,4309.55,587.7,3876.2,1226.45,342.3,4885.85,405.6,189.45,96.8,4263.4,3965.05,3772.65,1026.35,5031.85,326.65,5471.75,1061.6,1971.5,660.05,6590.8,3088.25,3134.7,3165.6,543.0,867.3,4692.95,5301.1,979.05,4119.4,605.25,4267.15,918.7,57.4,4284.65,7138.65,1539.75,2669.45,1403.1,877.35,1696.2,1032.05,1992.85,1714.95,343.6,520.1,7383.7,4483.95,1327.4,5040.2,422.7,1699.15,1927.3,3021.3,1264.2,1523.4,3435.6,4549.45,955.6,73.1,3399.85,6431.05,5867.0,196.35,6449.15,785.75,1445.95,6252.7,587.1,798.2,3045.75,767.9,4689.15,6754.35,2184.6,7629.85,6312.9,914.6,1633.0,2610.65,1466.1,7049.5,860.85,5012.1,478.1,761.85,2282.95,1285.8,700.45,2966.95,5290.45,607.7,5431.4,6004.85,4428.6,416.45,6688.1,4224.7,4042.2,357.7,3704.15,754.0,467.15,373.0,481.1,5013.0,19.85,666.0,94.45,4134.7,4862.5,4982.5,4920.8,5276.1,7365.7,1195.95,4213.9,5017.7,2959.8,7133.1,711.95,2201.75,806.95,7344.45,755.4,2075.1,5299.65,5042.75,812.4,3509.4,2789.7,7953.25,3035.35,4300.8,2308.6,3255.35,173.15,4510.8,5317.8,4140.1,6880.85,5329.55,2209.75,1174.35,2606.35,150.85,469.65,548.8,459.6,7053.35,7942.15,1391.65,1810.85,445.3,1388.75,185.2,417.5,344.5,5437.1,3674.95,4154.55,847.8,1031.4,921.3,6689.0,350.1,452.35,5844.65,2462.6,2320.8,1964.6,4692.55,6779.05,4345.0,1714.55,2638.1,946.95,6363.45,950.75,393.15,5718.2,280.4,3478.15,7238.6,5703.25,7397.0,164.6,null,1734.5,7047.5,4459.8,7459.0,4228.55,3729.75,1857.3,7322.5,3627.3,1725.95,2471.25,4070.95,2134.3,6000.1,2203.1,183.15,7181.95,2560.1,2531.4,6993.65,5762.95,1537.85,2603.3,2258.25,4520.15,7251.9,6225.4,1242.25,99.45,3462.1,2813.05,6314.35,3187.65,970.55,978.6,84.75,424.5,5270.6,2884.9,255.6,644.5,989.05,4664.2,3470.8,5251.75,5535.8,695.05,5552.05,4236.6,3930.55,6856.95,2658.8,4480.7,1553.2,219.5,5311.85,682.15,4525.8,746.75,368.85,1654.7,6179.35,4589.85,1342.15,1216.35,7578.05,2603.95,6056.9,2983.65,433.5,429.55,488.25,5166.2,4914.8,5445.95,1007.8,1004.5,501.35,4126.35,2424.45,998.1,1383.6,864.55,701.05,2796.45,5696.6,1859.5,5629.15,958.45,403.15,4392.5,1096.6,2343.85,3471.1,1930.9,4304.0,3472.05,117.8,3132.75,2106.3,3882.3,68.2,1758.9,228.75,3416.85,2283.3,2333.05,5890.0,475.1,1347.15,3974.15,2479.25,1068.15,3561.15,1763.55,1848.8,723.3,124.4,2961.4,2815.25,5757.2,3836.3,6001.45,1336.35,4295.35,52.05,2727.3,538.5,800.3,6838.6,4297.6,2274.1,2078.95,1416.2,4793.8,4959.15,1663.75,2188.5,1387.35,304.6,4368.95,928.4,5598.3,4374.55,2191.7,239.75,5189.75,5060.9,3263.9,1993.2,129.15,5835.5,727.8,763.1,4299.2,1630.4,264.8,4541.9,1595.5,685.55,3874.1,4916.95,1023.75,1549.75,97.5,6891.45,3581.4,727.85,280.85,6069.25,3274.35,6109.65,938.95,3877.95,25.85,38.25,3348.1,3023.85,6241.35,2317.1,5231.3,1299.1,5733.4,7234.8,788.05,1266.35,688.2,4983.05,4113.15,471.85,4299.75,4551.5,4693.2,7610.1,4442.75,1423.15,450.65,2220.1,3283.05,4939.25,335.95,1119.35,116.6,1362.85,4786.1,3835.55,1580.1,7222.75,8309.55,2773.9,5409.75,1985.15,4335.2,2483.65,1794.8,5448.6,730.1,5860.7,1064.95,2802.3,184.4,7475.1,2862.55,469.25,3529.95,6176.6,931.9,776.25,5243.05,2540.1,2484.0,2619.15,2790.65,2276.1,2029.05,4653.25,3431.75,5125.75,4801.1,7862.25,792.15,4096.9,641.25,345.5,345.9,5811.8,3491.55,3358.65,525.55,934.8,6816.95,4138.7,5764.7,693.45,2298.9,369.6,5206.55,2053.05,3425.35,6109.75,411.25,105.5,465.45,1885.15,2264.5,693.3,3824.2,3886.05,412.55,817.95,1507.0,5567.55,1958.45,3887.85,1267.0,633.45,533.9,676.15,3804.4,5236.4,1386.8,5673.7,997.75,900.9,1798.65,3886.45,2511.95,1931.3,402.6,7388.45,1700.9,2427.1,3488.15,2799.0,6256.2,5059.75,3023.65,7142.5,332.65,7110.75,1958.95,5528.9,1463.7,3815.4,4839.15,5139.65,309.35,1686.85,4013.8,7195.35,5798.3,257.0,2882.25,2985.25,5224.5,6613.65,7181.25,3357.9,4977.2,2090.25,4905.75,2038.7,4014.0,2441.7,7493.05,3833.95,294.95,2651.2,5720.95,3251.3,3088.75,6770.5,4730.6,1151.05,3342.0,2780.6,2208.05,4871.45,4947.55,1525.35,3726.15,1588.75,7113.75,993.15,1343.4,486.2,7544.3,3316.1,743.3,1990.5,7362.9],\"yaxis\":\"y2\",\"type\":\"scattergl\"},{\"hovertemplate\":\"color=No<br>facet_col=Two year<br>Customer Tenure=%{x}<br>Total Charges $=%{y}<extra></extra>\",\"legendgroup\":\"No\",\"marker\":{\"color\":\"#1F77B4\",\"opacity\":0.5,\"symbol\":\"circle\"},\"mode\":\"markers\",\"name\":\"No\",\"showlegend\":false,\"x\":[16,69,71,58,72,71,72,70,63,52,69,34,72,72,31,50,64,62,49,48,46,66,72,52,72,64,36,41,33,72,67,43,64,57,72,61,71,65,62,16,10,53,69,72,14,69,72,59,24,72,71,72,61,72,66,65,71,47,54,72,10,16,72,72,67,61,31,61,50,71,57,71,68,52,29,43,71,72,69,35,68,71,70,37,64,41,47,72,24,61,72,48,66,20,72,70,40,72,41,72,52,72,61,30,72,70,64,44,11,72,72,0,63,70,71,69,72,35,56,24,70,60,72,72,72,55,23,59,71,71,60,47,61,52,72,71,72,63,16,65,46,72,38,72,66,50,20,72,72,31,68,68,35,68,65,57,70,53,65,61,72,72,66,65,58,72,71,61,22,65,72,70,72,47,61,72,72,48,70,0,66,72,72,65,72,71,72,72,60,8,34,70,39,46,72,71,42,70,43,62,38,44,72,65,72,72,72,52,68,72,72,64,62,3,72,66,45,71,53,67,71,72,72,68,33,72,0,72,35,71,56,71,58,59,40,72,56,58,22,10,13,72,37,71,71,60,62,71,66,68,72,47,22,59,32,0,70,71,63,69,69,60,71,39,52,70,26,72,63,71,13,45,70,53,71,72,46,39,71,35,47,66,42,60,69,54,64,72,61,70,56,55,72,47,69,64,62,63,62,55,71,72,72,72,59,64,72,62,67,70,72,66,45,69,11,71,72,69,31,0,8,19,67,72,72,51,27,45,39,72,70,48,64,72,72,35,66,8,65,58,63,70,45,41,36,60,69,72,71,13,68,54,71,67,63,72,59,69,69,72,72,46,63,60,22,31,72,23,65,68,48,63,62,48,27,70,65,72,51,72,67,53,69,54,68,63,68,72,58,68,8,72,23,6,72,72,23,40,60,72,63,71,47,69,30,71,46,72,6,45,72,67,56,72,54,50,72,54,68,58,63,71,68,65,72,72,68,57,72,71,30,7,36,72,36,12,72,72,61,72,32,4,71,55,46,65,71,72,41,72,43,72,72,67,68,4,72,69,72,72,70,37,59,13,46,71,67,72,60,72,21,57,45,69,35,67,67,54,70,38,62,72,15,71,7,69,71,69,72,71,66,64,67,72,50,50,72,34,30,71,72,55,67,42,12,54,30,68,24,57,15,72,70,62,67,72,53,71,56,46,71,69,71,56,52,69,12,70,66,71,72,71,23,70,45,36,23,67,72,56,69,40,72,72,8,70,72,40,72,72,54,72,69,48,71,57,72,72,49,71,63,49,72,68,14,71,72,49,9,67,62,72,64,69,71,71,45,60,7,30,72,72,71,47,50,48,60,67,67,53,69,56,61,39,18,72,72,71,64,72,52,64,34,47,72,72,71,67,70,72,34,65,70,72,52,56,72,71,66,13,65,15,72,42,71,48,57,37,62,65,71,72,72,72,13,72,71,33,63,55,63,70,36,56,64,70,14,61,66,66,72,42,71,46,72,72,72,68,71,72,54,72,62,56,32,27,43,66,67,42,31,25,67,38,25,72,57,43,60,58,39,68,62,72,41,39,63,1,60,66,41,41,52,64,66,42,47,70,66,57,42,64,68,72,67,43,6,71,72,35,52,72,68,49,72,69,68,31,55,68,71,72,46,40,59,65,59,72,72,67,71,35,55,33,72,62,9,54,59,67,72,67,17,68,72,71,65,50,64,47,52,45,46,68,71,50,72,56,72,69,68,72,69,64,21,51,72,27,64,45,71,58,66,58,3,68,50,72,72,24,70,63,24,65,26,5,72,68,72,14,65,55,49,67,13,72,42,69,48,15,64,0,12,55,68,23,68,57,19,52,71,68,72,72,62,68,42,56,67,70,2,47,69,72,70,70,71,67,30,72,70,52,59,68,70,53,60,72,64,71,72,72,71,70,61,68,62,27,16,63,41,69,72,72,71,17,72,72,49,39,71,71,70,38,49,37,71,24,71,27,69,69,11,69,62,23,25,72,72,48,55,42,72,72,57,47,55,66,69,72,50,53,58,72,52,0,65,64,51,46,26,70,19,26,51,71,71,68,56,72,67,60,11,60,72,71,70,70,72,63,68,68,72,72,63,66,71,72,66,70,70,24,69,45,72,38,72,72,55,63,23,72,72,63,56,72,59,60,46,59,70,64,58,72,54,72,54,68,68,70,29,72,50,72,67,72,70,51,63,56,36,71,65,72,39,72,72,61,72,68,62,36,71,70,52,65,72,24,72,72,72,71,69,72,71,33,46,63,68,69,24,70,72,72,72,64,45,54,64,45,66,45,29,72,33,69,71,54,72,52,68,50,59,63,63,71,68,0,17,72,70,72,71,66,49,70,37,60,51,28,43,42,63,60,70,68,68,57,59,67,66,54,18,72,39,72,72,70,72,67,71,72,72,19,71,72,71,58,70,71,69,72,10,57,68,56,67,63,11,55,72,65,72,72,72,40,72,65,70,67,51,72,46,72,52,59,49,56,6,65,64,66,72,60,46,69,71,56,72,72,56,64,68,56,72,37,71,71,62,53,72,59,72,72,52,34,54,58,72,54,67,69,20,69,64,63,13,57,72,50,66,72,58,72,71,51,72,14,72,51,70,71,62,30,72,71,20,29,47,68,71,72,66,56,72,71,72,47,16,69,6,61,72,41,71,72,72,53,72,44,71,7,67,53,57,49,71,72,18,66,71,46,66,25,71,50,65,62,55,16,72,57,54,68,72,68,23,60,72,72,72,59,37,72,72,61,58,65,70,12,72,70,54,69,69,70,72,71,71,53,54,43,69,61,70,32,72,37,30,44,37,52,71,66,72,69,53,60,65,70,62,66,65,71,58,63,31,9,71,63,51,64,14,72,70,38,68,65,51,72,61,62,67,60,34,62,25,71,72,52,69,54,65,43,60,70,70,67,18,45,31,55,71,67,70,63,70,72,35,72,70,42,48,13,65,6,72,72,58,70,65,63,61,64,45,41,72,72,72,72,70,49,69,24,27,18,47,70,67,71,72,48,67,69,72,38,61,47,69,53,48,57,65,71,69,58,72,72,46,72,25,72,47,71,57,72,61,48,65,70,66,72,30,72,63,71,35,47,44,65,33,14,47,69,12,71,71,52,69,72,59,67,72,62,51,61,72,38,70,72,33,66,64,57,53,38,1,12,72,62,48,35,71,24,33,51,35,47,41,43,70,59,61,72,62,64,61,68,72,71,57,72,71,69,64,72,69,72,8,58,71,46,67,69,60,72,60,45,54,66,72,8,72,69,25,59,61,19,44,58,10,72,65,72,58,72,72,72,54,60,60,69,60,60,13,62,44,29,62,70,4,21,48,52,67,71,71,48,63,62,70,46,68,67,35,68,72,27,64,70,67,24,4,72,66,23,72,58,72,54,72,52,72,40,67,21,72,41,17,58,52,70,19,27,50,59,35,6,72,60,61,24,21,56,46,63,72,18,55,70,19,68,61,70,8,8,68,70,72,71,50,45,23,68,71,57,72,71,46,64,72,57,71,36,63,48,72,72,0,59,27,19,60,69,72,12,37,8,71,54,72,72,72,70,49,46,72,68,24,71,67,63,52,52,12,0,69,72,48,57,62,72,21,67,72,43,70,40,6,39,72,72,3,8,8,35,53,15,66,38,58,71,8,67,68,64,72,35,54,25,70,57,72,44,72,27,71,65,67,72,68,49,67,13,24,62,70,72,57,64,72,62,51,39,68,72,66],\"xaxis\":\"x3\",\"y\":[326.8,7895.15,7382.25,3505.1,6369.45,6766.95,7251.7,4872.35,4861.45,4217.8,4254.1,894.3,7853.7,2962.0,2497.2,930.9,7099.0,1424.6,973.35,1057.0,927.1,5714.25,7459.05,1107.2,1363.25,3423.5,1126.35,835.15,3027.65,1723.95,3260.1,1188.2,1277.75,1170.55,6425.65,5971.25,1756.2,6416.7,5215.25,1024.0,251.6,3958.25,1363.45,6254.45,1181.75,1375.4,8129.3,1192.7,587.4,8041.65,7405.5,4179.2,1124.2,3139.8,3789.2,5324.5,1836.9,4107.25,5760.65,1566.9,299.05,284.35,6350.5,7878.3,4103.9,7008.15,1520.1,5526.75,1195.25,1732.95,3450.15,5436.45,4109.0,1229.1,2054.4,4895.1,1355.1,4264.0,4176.7,739.35,6148.45,6223.8,1303.5,2278.75,6823.4,3959.15,945.7,8126.65,830.8,5308.7,4732.35,5067.45,5965.95,419.4,1468.75,6858.9,1024.7,4784.45,899.45,8468.2,1270.25,7611.55,1417.9,2369.3,8404.9,2799.75,6538.45,868.1,225.75,6130.85,6201.95,null,6597.25,1397.65,5676.0,5502.55,8399.15,686.95,5706.3,490.65,1360.25,4946.7,8248.5,7966.9,8220.4,1153.25,514.75,5861.75,4973.4,5357.75,1103.25,2754.0,4747.65,3342.45,7422.1,6668.05,8071.05,5435.0,916.15,1414.45,4903.2,6094.25,3084.9,8306.05,1357.1,3418.2,406.95,7943.45,6562.9,3109.9,4911.35,1620.2,655.3,6132.7,4459.15,1167.6,4039.3,1336.1,7246.15,4616.05,6316.2,4811.6,4189.7,3739.8,1519.0,1710.9,4145.9,1305.95,605.9,4805.65,5730.7,7085.5,6697.35,2879.9,1551.6,7882.25,8196.4,855.1,5600.15,null,1253.8,6563.4,4758.8,1292.6,8065.65,5154.5,3983.6,4908.25,3590.2,146.6,2339.3,5411.4,903.8,3009.5,5468.45,7616.0,1108.2,5986.45,3566.6,1563.95,963.95,905.55,7589.8,5459.2,6782.15,6510.45,8476.5,4461.85,1424.9,6309.65,4719.75,5822.3,2337.45,121.25,7015.9,1269.1,4634.35,8310.55,5682.25,5398.6,7984.15,1798.9,4807.45,7039.45,2651.1,1304.8,null,4919.7,759.35,1813.35,4054.2,5550.1,4048.95,4542.35,808.95,1679.25,4513.65,1423.85,555.4,225.55,268.45,1492.1,784.25,4145.25,5585.4,6668.35,1416.75,5924.4,1697.7,7849.85,8046.85,973.1,1304.85,4590.35,614.45,null,4523.25,7159.7,6253.0,1641.8,1678.05,2424.5,6293.45,2200.7,4577.75,4144.8,515.75,8333.95,1209.25,1396.25,1161.75,1138.8,5264.25,1005.7,5831.2,8093.15,3593.8,1971.15,7413.55,2490.15,3510.3,5538.35,844.45,1505.05,1412.65,1090.6,4447.75,1830.05,4729.3,1685.9,5744.35,4805.3,6110.75,1046.2,6671.7,4818.8,7159.05,1574.5,6638.35,3112.05,7168.25,1326.25,8317.95,7544.0,1188.25,1240.15,5899.85,5193.2,7530.8,5460.2,7962.2,3810.8,3533.6,1396.9,202.3,1710.15,1496.45,1713.1,609.1,null,141.6,373.5,4322.85,4549.05,6474.4,4421.95,538.2,3858.05,854.8,5815.15,3058.15,4904.25,5632.55,1643.25,4888.2,797.1,1673.8,343.45,6078.75,3166.9,1177.05,7869.05,1088.25,4507.15,3834.4,5941.05,6998.95,4754.3,7213.75,243.65,3794.5,1008.7,5727.15,1372.9,1215.1,1493.75,1057.85,1436.95,5388.15,5730.15,1434.1,937.1,6536.5,1128.1,566.5,2471.6,5480.25,478.75,3517.9,7508.55,1245.05,1263.85,1638.7,4473.45,520.55,5717.85,1218.65,7447.7,3121.45,6468.6,3521.7,1110.35,5553.25,5129.45,4741.45,3707.6,5746.75,6230.1,1185.95,4859.95,174.65,5016.65,611.45,153.3,1849.2,6083.1,426.65,804.85,1161.75,8375.05,4707.85,6152.4,943.0,6743.55,2093.9,1725.4,967.85,1421.9,100.35,3618.7,8100.55,1583.5,1119.9,8013.55,1102.4,4304.5,6827.5,4362.05,1386.9,1513.6,4676.7,8078.1,1292.65,7108.2,1802.55,1859.1,6392.85,1134.25,1769.6,6293.75,578.5,280.0,1901.25,4720.0,930.95,258.35,1502.25,6929.4,3244.4,1401.15,696.8,116.95,1415.85,1083.0,936.85,3857.1,1378.45,1734.65,804.25,5011.15,3574.5,8086.4,6362.35,3953.7,5882.75,76.65,6441.85,1399.35,7657.4,6352.4,5931.75,726.1,4194.85,265.3,908.15,1500.95,6885.75,7261.25,3237.05,5728.55,390.4,3894.4,886.4,6398.05,1662.05,4627.65,6717.9,2460.55,5731.85,743.5,6825.65,8477.7,331.6,6404.0,165.35,7455.45,3377.8,1346.2,6224.8,6325.25,1683.6,1514.85,6302.8,5981.65,1932.75,970.85,5810.9,980.35,711.9,8477.6,4528.0,1210.3,5229.45,2032.3,313.0,3871.85,2181.75,1498.85,498.1,4845.4,369.1,6096.9,6994.8,4985.9,1284.2,7550.3,1110.05,6707.15,5873.75,862.4,8564.75,1718.2,5956.85,4824.45,1345.85,7028.5,274.7,3370.2,5958.85,5999.85,5753.25,4492.9,813.45,7349.35,929.2,754.5,1414.2,2545.7,6448.85,1468.9,7240.65,830.25,5360.75,6735.05,161.65,7711.25,8124.2,827.3,1789.9,7576.7,4965.0,6151.9,5420.65,2627.35,6589.6,5229.8,4464.8,6688.95,1211.65,7030.65,5597.65,1024.65,1322.85,7843.55,692.35,6849.4,6565.85,3306.85,197.4,3838.2,1263.9,8529.5,6549.45,7806.5,6287.3,7904.25,892.15,4984.85,305.55,1653.85,7887.25,8058.85,1719.15,1160.45,5163.3,883.35,1205.05,1733.15,4677.1,5424.25,5878.9,4261.2,1501.75,3895.35,388.6,1354.4,1778.7,1816.2,7069.25,1841.2,1054.75,7334.05,2839.45,873.4,1529.65,6991.6,1681.6,3281.65,6474.45,8164.1,1325.85,1654.85,7795.95,3952.45,1982.1,1090.1,8425.3,7061.65,3364.55,332.5,5963.95,278.85,1871.85,4303.65,1753.0,982.95,4003.0,813.3,1296.15,7082.85,5662.25,5265.2,7129.45,8496.7,261.3,6697.2,5564.85,826.1,5377.8,3617.1,1559.3,7987.6,1547.35,4534.45,1584.8,5437.75,255.55,5175.3,3177.25,5196.1,8405.0,828.85,6029.9,1842.7,7334.05,8277.05,1414.8,2719.2,6365.35,1887.0,5064.85,6733.0,2618.3,4084.35,613.95,581.85,3254.35,4447.55,7321.05,4135.0,697.7,2513.5,4868.4,3297.0,2809.05,1851.45,4317.35,779.25,3483.45,4890.5,757.95,1657.4,3008.55,8165.1,875.55,790.0,1237.65,20.45,3638.25,4017.45,810.3,772.4,1070.5,5817.45,5595.3,867.3,3007.25,6306.5,7082.5,5969.85,1014.25,1225.65,1686.15,6716.45,7839.85,1110.05,348.8,3888.65,6843.15,949.8,3334.95,4684.3,1303.25,2409.9,6155.4,8182.85,6683.4,755.6,6292.7,1664.3,6045.9,7114.25,907.05,973.95,6561.25,7337.55,5194.05,4478.85,1866.45,1430.95,6457.15,3914.05,3842.6,670.35,7880.25,2345.55,210.65,3566.7,5186.0,1672.15,6339.3,1688.9,369.05,7553.6,4641.1,6342.7,6700.05,3486.65,1559.15,4318.35,3038.55,2296.25,3846.35,5646.6,4310.35,1023.95,8182.75,1444.05,7325.1,1718.35,5776.45,5682.25,3121.4,4759.55,435.25,1281.25,3527.0,561.15,5129.3,4285.8,5894.5,1160.75,3632.0,1035.5,52.0,1821.8,4024.2,6520.8,8308.9,571.75,5498.2,1245.6,452.55,1267.05,494.9,106.9,8012.75,5607.75,1460.85,292.4,5071.9,3068.6,4690.65,4671.65,272.35,5714.2,3571.6,7634.25,3870.3,387.9,1714.95,null,212.3,1079.05,6161.9,454.0,6297.65,3265.95,358.15,4652.4,1389.35,1629.2,6033.1,1867.7,6912.7,6424.7,3373.4,1080.55,1263.05,7714.65,130.5,1875.25,6480.9,7104.2,4214.25,6859.05,6239.05,5714.2,789.55,1790.8,1433.8,1078.75,4519.5,1377.7,7939.25,1279.0,6586.85,7965.95,6741.15,7209.0,7726.35,7581.5,6126.1,6333.4,4158.25,7149.35,1429.65,470.0,290.55,4674.55,4220.35,4055.5,6129.2,6652.45,1379.6,412.6,7845.8,1750.7,3721.9,1004.35,1847.55,1766.75,1462.05,2193.2,2398.4,861.85,6994.6,2263.45,3778.2,761.95,4059.85,1356.7,231.45,4069.9,1201.65,1759.4,844.45,7774.05,7732.65,3771.5,3175.85,2762.75,5919.35,8240.85,1115.6,890.5,3119.9,5930.05,7297.75,6301.7,3822.45,1048.45,6393.65,5763.15,1031.7,null,1319.95,1740.8,4089.45,864.2,2715.3,1782.05,485.9,1905.7,1782.0,8297.5,4681.75,7990.05,1402.25,8425.15,7567.2,6925.9,223.15,6758.45,1874.3,6172.0,1328.35,5536.5,7806.6,6296.75,1441.65,7511.3,7919.8,1423.65,6705.7,1672.35,1654.6,1857.85,6424.25,5991.05,4891.5,487.05,4131.2,4900.65,5727.45,743.05,4804.65,1414.65,1443.65,5309.5,451.55,4546.0,8058.55,7049.75,2560.1,7982.5,1534.05,1093.0,2893.4,3886.85,5917.55,5948.7,3624.35,6869.7,2431.95,1859.2,3409.1,5515.8,6668.0,6944.5,692.55,5401.9,1013.2,6511.8,7009.5,6921.7,4664.15,1028.75,6330.4,1424.2,3379.25,1901.0,4929.55,8436.25,987.95,4575.35,7922.75,3778.85,8349.45,3948.45,6590.5,717.95,1801.9,1764.75,1255.1,3921.1,1463.45,1846.65,8456.75,7840.6,6632.75,1416.5,5542.55,8443.7,5708.2,2016.3,856.5,1275.85,7467.5,7261.75,1208.15,2006.95,8312.4,6637.9,6786.1,1274.05,3371.0,1079.45,6997.3,3349.1,1344.5,1121.05,521.8,4566.5,2603.1,6322.1,1898.1,3273.95,7746.7,3103.25,5330.2,5038.45,1192.3,4995.35,5034.05,1387.45,5974.3,null,358.05,7556.9,4858.7,5025.85,3353.4,4428.45,4917.75,5743.3,1390.85,6067.4,1222.25,487.95,2548.55,835.5,6218.45,6333.8,5950.2,1614.9,5375.15,3090.05,1493.1,1784.9,6075.9,1230.9,454.65,6595.9,762.45,1776.0,5396.25,5212.65,6463.15,1335.2,7555.0,1988.05,8424.9,387.4,8100.25,1432.55,1372.45,1212.25,6237.05,6310.9,5031.0,8672.45,220.8,5779.6,5560.0,6567.9,1759.55,4234.15,300.7,4323.35,1776.45,2933.95,4804.75,8332.15,1709.15,777.35,7875.0,6725.3,6293.2,2434.45,1042.65,6058.95,4854.3,7748.75,1334.5,5655.45,5174.35,3346.8,217.5,5957.9,5442.05,4370.25,3580.95,1198.8,1755.35,3772.5,1397.3,4620.4,8312.75,1521.2,3389.25,1198.05,1728.2,1051.9,1738.9,1316.9,7993.3,1388.45,1413.0,1050.5,7634.8,3116.15,8289.2,5824.75,1331.05,3946.9,4299.95,4916.4,7559.55,4191.45,1620.45,1376.5,825.4,1356.3,6605.55,6991.9,590.35,1123.15,6065.3,1067.65,4136.4,8022.85,1158.85,6954.15,1672.1,4307.1,6141.65,1054.8,5430.65,1086.75,2692.75,1389.6,3753.2,637.55,7751.7,5969.3,400.0,554.25,3522.65,3656.25,1873.7,7346.2,3708.4,1385.85,6042.7,1730.65,4664.5,3496.3,301.55,2960.1,116.85,5321.25,1379.8,810.45,7782.85,1797.1,7624.2,1275.6,5893.9,2390.45,1493.2,144.15,6368.2,3729.6,1272.05,3199.0,6263.8,7881.2,370.5,4097.05,8166.8,3047.15,4193.4,486.05,7623.2,1261.45,6347.55,1123.65,1388.0,1114.85,1777.6,4124.65,1149.65,4539.6,6397.6,5711.05,2198.3,1189.9,1914.5,5336.35,7998.8,6555.2,2313.8,7852.4,2763.0,1538.6,5563.65,6725.5,1411.2,264.55,4671.7,7842.3,6077.75,6194.1,1337.5,1790.15,4760.3,5705.05,4122.65,5566.4,1092.35,3460.3,5555.3,1278.8,4504.9,2316.85,8075.35,2302.35,599.25,2375.2,1593.1,3330.1,5522.7,4798.4,8594.4,7665.8,3686.05,1258.15,1715.1,1715.15,1250.1,3996.8,5215.1,7291.75,4415.75,2395.05,638.55,191.1,6910.3,4014.2,1288.0,6375.8,815.55,5602.25,8244.3,741.5,4375.8,5968.4,3901.25,5661.7,1498.35,5411.65,6895.5,3766.2,679.0,3846.75,499.4,6435.25,5986.55,5487.0,6856.45,4735.2,1748.55,1077.95,3694.45,1940.85,5289.8,6140.85,309.25,2553.7,689.35,4657.95,8016.6,5883.85,1724.15,1298.7,1378.75,8543.25,1924.1,5784.3,5315.8,833.55,1183.05,265.75,1698.55,493.4,5165.7,7470.1,1131.5,7511.9,1725.0,4479.2,1554.9,3210.35,903.7,879.8,4390.25,5329.0,5737.6,1809.35,7752.05,4060.9,3952.65,494.05,1498.65,471.35,1041.8,7689.8,1311.3,1326.35,6376.55,935.9,6989.7,2779.5,8331.95,735.9,1445.2,1029.8,1796.55,1049.6,1978.65,5625.55,3808.2,7661.8,5601.4,4828.05,5980.55,4808.7,917.45,6096.45,475.2,7932.5,2768.65,1663.5,1094.35,7719.5,4932.5,5443.65,6631.85,8250.0,5234.95,1709.1,602.9,7517.7,1234.8,6388.65,677.9,921.55,847.25,4386.2,2018.4,263.65,948.9,5897.4,269.65,1789.65,1626.4,4627.8,1268.85,8192.6,1147.85,4361.55,7609.75,1218.45,1234.6,1311.6,6185.15,756.4,5706.2,4855.35,641.35,1374.2,6692.65,1125.6,978.0,746.05,20.35,262.05,8033.1,1253.65,1036.0,4025.5,6506.15,609.05,689.75,967.9,809.25,1016.7,3126.45,1070.15,1401.4,1510.5,4976.15,7542.25,6891.4,1548.65,4226.7,7074.4,6849.75,3263.6,1252.85,5750.0,1810.55,7467.55,5484.4,7854.9,1447.9,8547.15,159.35,3795.45,8175.9,890.35,3623.95,4577.9,1270.55,7711.45,2907.55,3480.35,1031.1,6471.85,6501.35,165.5,6614.9,7430.75,630.6,1222.65,4860.85,387.7,845.25,4230.25,521.0,7548.6,1654.75,6227.5,1474.35,7285.7,7658.3,5959.3,3512.9,5231.2,3603.45,6875.35,5611.75,4543.95,450.4,1297.35,4378.35,558.8,4237.5,7188.5,68.8,397.0,1027.25,4233.95,1680.25,7707.7,1888.25,3238.4,1573.05,2748.7,6367.2,4904.2,7173.15,7039.05,730.4,7279.35,5886.85,788.55,4378.8,3442.8,7171.7,553.0,96.85,1482.3,1240.8,857.75,6093.3,1079.65,4265.0,3246.45,8337.45,5731.4,7679.65,1006.9,3097.2,1524.85,1784.5,802.35,343.45,1191.4,2554.0,5589.45,467.7,550.1,3533.6,1286.0,705.45,124.45,7920.7,6640.7,5703.0,483.15,770.4,3457.45,4630.2,3221.25,4746.05,428.45,1177.95,1458.1,398.55,2965.75,3751.15,8152.3,130.25,162.15,6302.85,5265.55,5997.1,7283.25,1070.25,1171.3,625.65,1911.5,5832.65,4166.35,7898.45,1301.1,958.15,3845.45,6129.65,1118.8,5574.35,689.0,1618.2,1173.35,6719.9,3784.0,null,6034.85,531.6,467.5,2288.7,6460.55,7758.9,224.5,3460.95,645.8,5224.95,1035.7,7565.35,1937.4,1864.2,5979.7,3902.45,902.0,8349.7,4953.25,470.2,6328.7,1411.9,6841.4,4016.3,1025.05,552.1,null,1673.4,8670.1,916.0,4438.2,4819.75,1567.0,1183.2,1790.35,7767.25,876.15,7737.55,780.1,107.6,3801.7,5102.35,1872.2,213.35,201.7,125.0,684.4,1146.05,603.0,4378.9,3616.25,1509.9,7985.9,564.35,1311.75,6185.8,1208.6,1787.35,821.6,2424.05,383.65,7882.5,1087.7,6841.3,819.95,6052.25,509.3,7365.3,7245.9,4615.9,3880.05,1396.0,1022.6,4250.1,246.7,1558.65,4284.2,5617.95,5237.4,5012.35,6794.75,4685.55,5150.55,1020.75,826.0,4326.25,1419.4,6844.5],\"yaxis\":\"y3\",\"type\":\"scattergl\"},{\"hovertemplate\":\"color=Yes<br>facet_col=Month-to-month<br>Customer Tenure=%{x}<br>Total Charges $=%{y}<extra></extra>\",\"legendgroup\":\"Yes\",\"marker\":{\"color\":\"#FF7F0E\",\"opacity\":0.5,\"symbol\":\"circle\"},\"mode\":\"markers\",\"name\":\"Yes\",\"showlegend\":true,\"x\":[2,2,8,28,49,10,1,1,47,1,17,5,34,11,2,15,8,18,9,1,7,12,5,25,55,37,10,3,27,25,1,2,1,8,1,7,20,4,58,2,15,7,1,8,13,1,6,1,19,2,4,4,1,1,2,11,15,1,2,1,2,3,13,16,1,1,5,52,18,1,8,10,24,1,4,32,5,24,2,7,2,63,2,4,21,10,27,5,2,25,1,1,11,55,34,69,1,1,3,22,1,61,12,60,1,28,4,7,13,1,1,24,5,15,48,8,1,2,5,12,20,2,6,5,40,27,23,34,1,10,13,39,32,35,12,1,4,1,12,65,9,9,7,49,43,65,10,43,1,20,1,2,3,1,8,4,2,4,1,52,2,1,2,3,3,25,1,4,3,33,30,45,10,20,15,22,3,15,1,5,2,2,1,10,6,40,1,2,21,16,7,4,1,1,1,20,3,22,4,60,15,10,6,63,50,1,12,9,17,9,10,1,3,13,4,6,3,35,2,1,1,8,7,2,1,44,1,1,33,35,34,4,7,27,18,2,32,18,8,26,3,8,38,14,32,1,12,5,40,5,10,2,23,23,49,2,2,7,41,2,13,11,17,3,4,37,39,7,14,11,1,2,13,3,1,12,1,6,15,21,1,7,1,1,17,11,19,3,24,2,1,16,34,3,16,1,15,11,1,1,7,2,68,7,8,6,11,15,16,18,34,47,1,4,1,1,2,1,66,3,14,10,18,9,13,4,4,59,10,1,1,22,34,4,18,1,2,15,9,15,1,12,2,5,4,16,1,5,4,37,13,24,41,22,2,19,15,1,17,1,2,29,2,14,8,5,1,1,16,1,10,3,66,7,12,42,2,1,30,15,13,23,35,9,17,17,34,42,11,1,1,3,50,5,51,46,1,41,29,26,1,3,21,1,4,9,1,1,9,1,1,2,3,14,41,13,2,1,4,38,12,19,10,1,23,32,32,31,19,57,1,24,1,10,2,1,1,1,38,19,52,1,3,1,2,35,16,1,1,30,5,56,44,1,49,47,31,3,8,2,65,1,1,24,7,11,1,58,14,12,25,16,1,1,2,23,24,5,2,4,5,47,10,1,5,15,1,26,22,21,47,2,22,7,1,49,43,1,1,1,32,17,4,1,1,8,3,1,5,1,1,33,30,2,2,29,13,7,30,2,24,1,1,7,57,7,1,14,28,17,10,1,3,2,6,12,1,3,23,1,65,16,66,1,53,13,4,12,1,2,29,15,17,21,1,1,1,35,32,1,8,5,2,40,1,38,2,8,7,31,18,14,15,5,1,1,4,53,59,46,14,31,13,35,2,1,25,16,1,36,1,9,8,13,46,25,60,30,1,39,1,31,3,1,7,61,39,10,1,6,1,33,2,7,1,22,47,33,18,24,1,4,2,1,19,22,4,4,4,7,19,5,8,1,2,3,13,15,10,5,2,1,5,1,4,31,1,1,10,15,17,16,9,4,9,3,10,32,3,29,1,41,8,12,1,4,1,7,6,14,25,22,61,70,1,1,47,1,22,1,25,20,18,1,9,28,11,12,53,41,20,7,7,22,3,51,5,62,28,10,69,12,27,1,14,32,3,22,16,5,1,50,1,46,2,1,32,3,5,49,23,6,6,2,4,4,3,8,1,1,30,5,1,13,32,16,29,38,17,1,2,2,1,4,5,9,18,25,17,52,3,1,8,43,54,1,1,7,12,1,23,3,10,37,31,34,29,12,1,33,4,35,1,1,4,1,10,2,9,4,51,1,41,12,5,10,11,1,16,1,4,1,13,1,21,11,2,2,1,6,4,12,4,4,3,53,1,10,1,51,24,18,4,1,26,7,5,42,4,2,8,9,1,43,1,3,11,50,5,1,16,15,8,31,32,1,20,26,5,1,14,9,5,9,2,1,8,2,3,51,2,39,12,26,18,2,4,1,9,2,29,1,9,50,1,42,1,1,9,46,1,13,1,24,6,20,20,46,11,2,1,16,3,57,5,4,7,1,2,4,1,7,4,1,1,1,1,41,35,10,26,15,31,18,1,24,3,1,43,4,36,1,4,30,21,3,1,11,1,3,1,47,18,1,20,6,1,3,2,1,1,3,9,49,6,6,16,7,20,4,28,1,11,4,28,2,1,1,14,1,4,20,14,30,3,40,2,1,10,1,14,58,1,68,1,7,9,1,24,2,27,57,1,13,1,25,35,6,15,9,37,2,29,5,28,11,24,1,6,4,3,1,11,1,5,8,22,29,3,2,66,17,31,2,3,1,31,14,35,37,7,24,1,1,17,19,2,8,1,1,1,9,3,49,2,21,69,1,39,6,17,1,1,19,3,3,3,30,15,10,1,38,1,16,1,12,4,15,41,1,1,7,42,1,12,55,17,1,11,8,1,23,9,15,30,1,3,1,1,12,22,2,27,10,1,22,1,21,6,54,3,8,5,1,2,1,33,15,30,2,4,2,25,25,10,2,9,27,22,56,24,1,36,1,1,1,5,24,2,5,11,4,1,1,2,3,24,18,1,1,15,4,9,22,1,8,16,1,7,9,37,5,3,31,2,37,38,48,10,8,2,3,4,37,1,5,28,36,1,4,17,3,4,4,26,5,4,1,1,8,1,50,26,6,3,3,1,14,40,18,7,2,19,11,15,5,1,10,6,16,2,2,19,1,36,39,21,2,4,7,6,3,11,1,47,7,1,15,11,8,44,24,15,17,1,9,7,36,3,34,1,22,47,24,8,2,8,16,8,20,2,27,5,37,40,6,11,6,3,5,8,1,28,1,29,19,6,1,1,6,15,25,10,13,1,37,26,10,5,18,3,10,1,2,32,36,53,1,12,1,5,6,26,1,13,9,10,2,20,9,32,1,1,1,13,7,1,7,54,5,1,55,6,8,11,1,15,16,5,4,30,1,9,1,1,59,3,3,1,13,18,3,1,1,26,11,1,1,4,22,9,7,1,40,29,3,1,3,23,13,1,39,1,14,1,1,1,1,1,42,7,1,10,17,1,8,1,39,6,22,21,71,1,20,4,32,6,27,1,13,1,19,10,13,1,1,1,36,15,5,13,5,2,17,1,9,1,1,1,9,20,3,20,21,17,2,21,5,24,1,10,1,3,49,45,37,49,14,1,47,13,5,3,26,8,9,1,12,31,18,42,4,15,7,14,3,16,42,6,53,5,3,12,43,68,25,27,1,3,29,36,1,2,12,1,1,59,3,1,1,2,29,2,13,19,47,5,52,42,25,9,16,5,3,31,1,1,10,4,43,4,11,1,4,17,43,42,46,5,6,1,7,2,1,5,22,1,1,3,1,1,33,1,2,2,3,26,1,5,9,26,2,1,30,4,17,1,13,38,1,50,1,7,2,45,1,1,13,10,4,1,3,32,51,6,1,1,47,44,2,1,1,1,5,1,1,1,1,40,1,3,13,58,42,1,29,1,1,2,10,6,2,2,15,42,9,1,21,2,1,16,14,15,1,2,55,7,13,3,38,1,1,1,43,1,2,1,12,6,34,1,10,16,7,27,1,9,3,2,2,14,3,57,3,2,12,40,12,54,4,1,4,35,1,37,3,11,1,19,2,4,15,1,1,55,18,32,66,7,6,13,11,9,1,54,25,37,14,4,3,1,13,1,6,3,12,8,6,3,1,1,41,9,43,1,56,3,1,5,1,48,13,24,27,25,22,1,4,18,16,30,8,50,3,3,40,3,23,1,4,1,9,1,67,4],\"xaxis\":\"x\",\"y\":[108.15,151.65,820.5,3046.05,5036.3,528.35,39.65,20.15,4749.15,30.2,1093.1,316.9,3549.25,1105.4,144.15,1426.4,633.3,1752.55,857.25,79.35,496.9,927.35,113.85,2514.5,5238.9,2868.15,1064.65,229.55,2135.5,1502.65,35.45,81.25,70.45,563.65,45.65,655.5,1592.35,273.0,2651.2,242.8,1145.7,503.6,29.95,662.65,1111.65,24.8,531.0,79.9,1934.45,84.5,268.35,179.35,55.2,84.6,114.1,1120.3,1074.3,48.55,147.15,40.2,80.55,132.2,1364.3,1511.2,24.8,70.6,401.1,5624.85,1779.95,70.0,606.55,435.4,1712.7,73.6,396.1,2303.35,415.55,2231.05,139.05,511.25,155.8,6603.0,168.2,371.9,840.1,846.0,805.1,492.55,181.5,2566.5,50.65,90.85,214.75,4874.7,2524.45,7007.6,19.9,19.6,233.7,1845.9,75.3,1182.55,518.9,6396.45,69.55,2227.1,385.9,673.25,734.35,55.0,74.7,1861.5,453.4,994.8,2145.0,680.05,74.35,139.4,131.05,1238.45,1782.4,167.5,502.85,334.8,4131.95,1929.35,1758.6,3480.0,85.0,834.1,597.0,3266.0,2596.15,3527.6,233.55,75.3,346.2,85.7,713.75,6786.4,248.95,663.05,137.6,4547.25,4687.9,6985.65,855.3,2499.3,89.55,1899.65,45.7,161.5,222.3,74.6,164.3,96.05,145.15,191.05,75.05,2550.9,62.25,80.0,91.1,270.7,168.15,2015.35,19.55,381.3,141.5,3105.55,2758.15,3941.7,1008.55,1842.8,1269.55,1907.85,208.85,1444.65,19.9,454.15,184.65,89.5,52.2,1058.25,489.45,4113.1,69.55,178.7,2317.1,1430.25,644.35,292.8,44.4,89.9,50.8,1463.5,307.4,2104.55,319.15,3027.4,1582.75,1043.3,497.55,6215.35,5017.9,24.6,1120.95,923.5,1625.65,918.6,688.65,73.55,205.05,952.3,360.1,434.5,215.8,3395.8,85.15,44.7,45.7,832.35,112.3,174.8,90.55,1359.7,69.9,86.6,2656.5,2917.5,2416.1,424.45,660.9,1893.95,1612.75,119.75,3204.65,990.85,819.4,2070.6,273.75,729.95,3013.05,1266.1,2347.9,19.65,526.95,210.75,3706.95,412.5,832.05,185.55,1943.2,2169.8,4853.75,144.55,91.1,713.0,4527.45,171.15,940.35,1047.7,1622.45,168.15,387.2,2839.65,4284.8,544.55,941.0,1133.65,35.55,196.9,1162.85,224.05,31.35,1052.4,19.85,669.45,1553.95,1236.15,60.15,593.45,74.9,80.25,1149.65,740.8,1532.45,250.05,2282.55,143.35,45.85,810.2,2564.3,228.4,1529.2,45.3,289.3,987.95,45.05,75.8,523.15,59.05,6127.6,676.7,632.95,270.95,483.7,1345.55,1281.0,1553.9,3207.55,5124.55,19.45,76.35,69.25,25.2,96.45,20.15,7133.25,169.45,1258.6,857.2,1639.3,889.9,1290.0,330.05,237.95,2452.7,813.85,79.2,49.95,1554.0,3217.55,442.85,553.0,76.0,170.85,1308.4,732.5,1504.05,50.45,1132.75,193.6,349.65,332.45,1534.75,20.55,424.15,281.0,3475.55,896.75,2407.3,4346.4,2082.95,102.75,1775.8,1146.65,74.7,1313.55,25.8,72.4,1970.5,190.05,1025.95,819.55,330.15,45.85,91.7,1555.65,74.95,898.35,127.1,6710.5,415.95,950.2,3384.0,165.4,88.8,2755.35,994.55,1169.35,2293.6,3029.1,655.9,1463.45,770.6,3587.25,3541.35,868.5,85.8,79.1,134.5,5341.8,324.6,4812.75,4399.5,50.15,4594.95,2384.15,1616.15,34.7,264.8,2200.25,99.75,299.7,639.65,59.85,69.6,418.8,19.5,69.9,183.75,264.85,1178.4,4689.5,1201.15,143.65,71.65,77.5,3264.5,947.3,1761.05,973.25,76.35,1676.95,2642.05,2661.1,2697.4,1424.5,2572.95,45.1,2122.45,20.05,402.6,68.75,46.2,45.15,43.3,2250.65,1441.1,4338.6,45.95,247.25,70.05,165.45,3653.35,1194.3,21.0,45.1,1527.5,378.4,5124.6,3862.55,50.9,4872.45,5118.95,658.95,246.5,215.2,159.45,5940.85,75.35,75.45,1210.4,576.65,825.7,93.55,5885.4,1259.0,309.1,2257.75,1350.15,45.7,69.95,97.1,1710.45,2165.05,223.15,181.1,341.45,357.75,4533.7,830.85,45.3,371.65,1390.6,20.2,2361.8,1730.35,2030.3,4065.0,106.55,1742.75,340.25,95.6,2934.3,4600.7,71.35,20.15,69.75,2931.0,1400.85,137.85,79.95,19.3,627.4,242.0,54.35,100.4,75.3,70.55,2745.7,2624.25,184.1,160.75,3004.15,1233.65,527.9,2555.9,179.25,1338.15,91.3,79.5,467.55,5427.05,587.1,100.8,1180.95,2625.55,1233.4,740.0,102.45,217.55,146.05,567.45,1384.75,70.9,220.95,2331.3,74.5,6941.2,1043.35,6822.15,71.55,5029.2,633.4,321.65,1253.9,25.15,92.45,2933.2,1258.3,1214.05,1973.75,45.95,70.15,85.55,2416.55,3520.75,88.35,777.3,512.45,141.45,3640.45,35.9,3777.15,47.5,847.3,546.95,3186.65,1527.35,1531.4,1133.9,461.7,77.15,35.25,201.0,5149.5,5574.75,4541.2,1072.0,1715.65,706.85,2636.05,189.2,74.25,2187.55,1581.2,69.5,3132.75,19.4,803.3,679.3,1230.25,4154.8,2655.25,5742.9,2866.45,54.75,3759.05,94.6,2911.3,231.8,69.75,279.25,6281.45,1131.3,738.2,80.2,260.8,19.6,3655.45,140.7,665.45,84.8,1127.35,4045.65,2757.85,600.0,2238.5,90.75,365.65,90.35,19.75,1789.25,2317.1,266.9,301.4,206.6,604.7,1471.75,412.1,583.45,50.1,151.8,293.65,1308.1,765.5,793.55,462.8,169.8,44.4,477.7,86.05,174.3,1077.5,95.65,20.95,329.8,297.3,1515.1,1178.25,758.6,396.3,622.9,329.95,1048.85,3351.55,262.05,2649.15,74.4,3326.2,560.85,1060.2,20.5,347.65,81.95,451.1,455.3,1235.55,2362.1,1873.7,6010.05,7101.5,45.05,71.0,3309.25,79.7,1254.7,69.25,1767.35,1820.45,1742.95,73.5,829.1,2602.9,824.75,1029.75,2854.55,4259.3,2239.65,480.75,635.6,2095.0,95.05,4242.35,331.9,6283.3,2659.4,298.45,6143.15,1059.55,2180.55,89.15,1036.75,2276.95,196.15,1206.05,1378.25,219.0,79.55,3444.85,84.5,1380.1,78.65,45.4,2585.95,58.85,425.9,3678.3,2483.5,556.35,389.1,187.45,261.25,299.2,323.25,762.1,53.5,25.1,2365.15,308.25,19.45,1058.6,2628.6,1023.9,856.35,3734.25,1144.5,45.3,75.6,180.25,19.8,333.6,465.05,431.0,878.35,2448.75,1329.2,4348.65,93.7,25.05,365.55,2342.2,5278.15,93.85,50.45,521.1,1046.1,20.1,1900.25,159.15,856.65,4056.75,2435.15,2874.15,1974.8,1218.55,81.7,2171.15,317.25,3474.05,69.1,69.6,305.55,78.45,255.25,146.9,762.5,338.9,4913.3,46.3,4443.45,1095.65,446.05,811.8,1056.95,44.15,834.15,85.45,239.55,59.2,1060.6,54.9,2254.2,180.3,158.4,104.2,95.1,438.0,325.45,1148.1,355.2,151.3,188.7,5549.4,50.6,863.1,69.8,4750.95,2391.8,1687.95,229.55,90.55,2274.35,602.55,449.75,4512.7,196.95,131.05,415.05,754.65,75.35,3198.6,20.9,123.65,906.85,4888.7,237.25,74.6,342.4,892.65,438.4,3019.5,3183.4,79.6,1734.5,2088.8,502.6,50.75,1208.35,651.4,223.45,919.4,181.65,45.65,551.35,115.95,165.2,4146.05,81.0,3017.65,1164.3,2710.25,810.7,36.55,85.5,49.55,178.5,115.1,2745.2,25.25,416.45,4116.15,75.1,4273.45,45.8,20.1,328.95,4680.05,69.1,999.45,71.15,1240.25,270.8,374.5,1520.9,3605.2,1145.35,38.7,70.8,1448.6,291.9,5921.35,249.95,219.65,669.0,68.95,196.75,318.9,24.45,631.85,307.4,55.8,79.05,95.0,25.2,4187.75,3496.3,914.3,2351.8,679.55,1994.3,1505.85,71.65,2542.45,210.3,74.2,4388.4,420.2,3436.1,70.85,280.85,2983.8,1565.7,298.35,45.75,815.5,80.15,108.95,78.8,5127.95,874.8,69.1,1776.55,536.4,80.85,51.15,149.55,78.65,42.9,139.35,539.85,4718.25,434.1,545.2,1284.2,646.85,1727.5,86.6,2979.5,24.25,837.95,362.2,2068.55,131.65,24.05,50.55,1415.55,20.5,321.9,482.8,914.0,1172.95,155.35,3303.05,134.35,70.5,953.45,19.75,937.6,5812.6,69.6,6851.65,78.05,520.0,706.6,20.2,2264.05,56.35,2510.2,2111.45,20.25,300.8,85.45,2043.45,2576.2,469.8,1457.25,185.6,973.55,41.85,2862.75,343.95,2890.65,1222.05,2496.7,90.6,288.05,368.1,256.6,68.5,791.75,69.95,346.4,773.65,1422.05,2467.1,59.75,94.55,6871.9,1454.15,2404.15,114.7,257.05,40.1,2217.15,1129.1,2568.55,3580.3,293.3,2440.15,79.55,89.1,1607.2,1490.95,92.65,606.25,19.1,80.3,74.9,751.65,66.95,4515.85,165.0,1808.7,7446.9,25.1,1880.85,477.55,1496.9,70.45,24.75,2012.7,242.05,63.75,260.9,2967.35,939.7,1037.75,50.45,3624.3,100.25,1422.1,69.85,858.6,324.3,399.6,3273.55,20.9,69.4,541.15,3229.4,70.1,909.25,5283.95,1617.5,84.3,1131.2,585.95,19.95,2186.4,661.25,1111.85,3046.15,69.35,272.2,50.55,80.55,916.9,1855.65,116.65,2287.25,830.7,20.0,1054.6,85.05,2110.15,547.65,4370.25,251.75,740.3,452.7,19.45,166.3,70.0,3409.6,1270.2,1561.5,31.55,321.75,147.15,2387.75,2660.2,990.9,193.8,790.15,2467.75,1914.9,5688.05,1772.25,44.45,3067.2,20.25,74.35,62.05,541.9,971.3,162.45,216.9,245.2,302.75,60.1,78.95,98.5,244.65,2431.35,1451.9,71.1,94.0,1424.95,193.6,620.55,1993.8,53.95,829.55,1312.15,69.8,545.15,494.05,2841.55,486.85,204.7,2995.45,137.95,3762.0,3233.6,5438.9,1081.45,221.9,74.9,58.9,333.55,3171.15,74.7,455.5,3152.5,3186.7,35.75,181.6,1539.45,58.15,225.6,340.85,2515.3,305.95,365.4,90.85,69.4,742.95,20.15,4816.7,1834.95,305.1,155.65,108.7,44.1,712.75,1637.4,1740.7,552.95,93.7,1046.5,834.2,899.8,108.05,70.3,851.75,575.45,1375.15,152.7,195.05,1660.0,20.2,3615.6,2184.35,1852.85,77.15,338.1,673.1,208.7,237.75,221.35,75.3,4042.3,164.85,70.4,1147.45,1078.9,226.45,4364.1,2433.9,1217.25,1743.5,69.65,713.1,526.7,3021.6,191.35,2718.3,36.45,2001.5,3825.85,933.3,764.95,145.4,156.25,1587.55,842.9,1761.45,164.5,2724.6,318.5,3744.05,2139.2,521.3,608.0,577.6,292.85,198.0,609.9,79.65,2812.2,80.05,2698.35,1465.75,146.3,51.25,45.6,267.35,288.05,853.0,934.1,1222.8,74.45,2345.2,2335.3,291.4,453.75,1597.25,235.5,799.65,50.8,144.55,2447.95,3050.15,4517.25,19.9,1200.15,70.6,389.6,523.5,2277.65,24.8,1008.7,853.1,794.25,160.8,1174.35,741.7,3019.25,19.65,84.65,69.55,347.25,354.05,44.35,586.05,3092.65,415.55,73.65,4458.15,474.9,668.4,926.25,46.0,1156.1,1167.8,221.7,201.1,2838.7,70.15,296.1,81.1,20.55,6252.9,240.45,315.3,55.7,973.45,669.85,267.4,69.85,53.55,2169.75,896.9,19.3,49.65,370.65,1910.6,890.6,529.5,48.6,2109.35,2265.25,220.6,20.2,229.5,2470.1,1244.5,20.05,3994.45,19.9,667.7,19.95,79.6,75.9,76.2,19.25,3588.4,522.95,70.25,865.55,409.9,60.0,649.65,20.85,2011.4,503.6,1152.7,2157.95,7548.1,75.7,1951.0,384.5,3432.9,463.05,2867.75,71.35,1132.35,20.6,1931.75,818.05,916.75,70.15,69.65,89.3,3078.1,1426.75,474.8,446.1,416.3,35.85,1451.6,71.0,746.5,44.4,70.3,79.35,809.75,1470.95,246.3,1389.2,1474.75,1460.65,153.05,2119.5,135.0,1400.55,69.65,1060.2,86.0,79.45,4783.5,4740.0,1448.8,4254.85,1101.85,20.2,3969.35,1237.85,498.1,294.45,2381.55,613.4,442.2,84.85,654.85,2806.9,1422.65,4138.05,102.5,757.1,608.8,1139.2,279.55,1483.25,4400.75,460.25,5485.5,404.2,242.95,866.45,2076.2,7299.65,2291.2,1032.0,70.75,130.75,2653.65,3457.9,45.3,178.1,480.6,23.45,29.7,6039.9,151.3,55.4,90.6,156.35,2952.85,113.35,1359.0,1777.9,4504.55,259.8,5568.35,2203.65,2369.05,672.55,1573.7,126.05,64.55,3243.45,79.25,44.9,659.65,118.5,3365.85,195.3,997.65,80.5,305.55,900.5,3856.75,3959.35,3969.4,470.95,560.6,25.7,506.9,80.35,76.4,514.0,880.2,69.95,93.3,169.05,35.05,73.0,2716.3,70.1,142.35,33.2,287.4,2254.2,19.7,413.65,714.15,2497.2,197.7,79.15,655.85,303.15,1574.45,49.9,1358.85,2869.85,49.25,5071.05,20.3,700.85,181.7,4016.85,74.3,44.65,1095.3,788.8,364.55,20.4,154.65,2954.5,3807.35,418.4,50.5,74.4,4871.05,4398.15,167.3,94.4,55.0,101.45,350.3,69.5,18.85,69.2,69.65,4086.3,82.3,267.6,1115.2,5435.6,4186.3,25.05,712.85,48.95,45.3,167.3,930.4,324.25,156.4,152.45,1130.85,4323.45,703.55,56.25,2249.95,159.4,68.65,327.45,1369.8,1107.25,70.85,134.7,2978.3,450.8,1215.6,91.7,4026.4,25.3,20.1,69.9,4528.0,80.8,118.3,76.45,1094.5,573.75,2274.9,74.5,1068.85,762.25,582.5,2122.05,69.15,723.4,289.1,172.85,85.5,1096.25,228.0,5746.15,209.1,154.85,593.75,3233.85,1062.1,5440.9,235.1,85.0,184.4,2010.55,69.2,3473.4,220.1,501.0,20.2,733.35,113.55,308.7,438.25,50.35,70.3,5617.75,1776.95,2483.05,5224.35,620.35,519.15,1301.7,1129.75,865.8,79.55,6014.85,2368.4,3545.35,1301.0,372.45,77.75,95.45,1135.7,69.7,573.3,99.75,871.4,780.5,365.35,334.65,43.95,45.1,2868.05,449.75,4414.3,69.35,4092.85,216.75,69.6,385.0,30.5,5121.3,1127.2,1747.85,2754.45,2196.15,1692.6,20.5,265.35,1836.25,679.85,2804.45,778.1,4367.35,106.85,130.1,4036.85,256.25,1917.1,74.45,272.15,70.65,403.35,75.75,6886.25,306.6],\"yaxis\":\"y\",\"type\":\"scattergl\"},{\"hovertemplate\":\"color=Yes<br>facet_col=One year<br>Customer Tenure=%{x}<br>Total Charges $=%{y}<extra></extra>\",\"legendgroup\":\"Yes\",\"marker\":{\"color\":\"#FF7F0E\",\"opacity\":0.5,\"symbol\":\"circle\"},\"mode\":\"markers\",\"name\":\"Yes\",\"showlegend\":false,\"x\":[53,38,54,68,22,56,56,2,33,46,62,58,60,50,55,12,62,59,62,12,25,19,60,53,46,59,70,39,59,5,41,64,61,8,63,53,17,67,56,48,66,18,69,58,49,67,67,37,40,51,67,34,54,48,56,33,42,28,45,25,18,67,52,28,53,25,9,66,48,23,17,22,54,19,31,38,68,70,46,36,54,19,2,25,57,4,35,41,21,72,48,54,22,49,63,55,13,43,62,66,32,58,72,43,69,39,44,65,53,38,30,61,58,39,35,33,45,40,7,67,53,48,43,69,12,54,64,33,49,44,58,70,68,39,70,53,46,11,42,12,65,68,66,52,47,21,54,60,65,41,31,58,49,35,70,66,22,51,38,56,14,45,33,56,41,12],\"xaxis\":\"x2\",\"y\":[5000.2,3058.65,4350.1,5293.95,903.6,5614.45,5794.65,35.9,3036.75,4874.8,6125.4,6017.65,5453.4,5610.7,5509.3,229.6,6413.65,5084.65,6383.35,696.35,2178.6,893.55,5610.25,4867.95,4424.2,6448.05,8127.6,3474.45,5961.1,347.4,3001.2,6254.2,6547.7,145.0,6873.75,5769.75,1704.95,5918.8,5508.35,5082.8,6615.15,390.85,5356.45,6287.25,4941.8,7040.85,6056.15,3754.6,1716.45,4837.6,7482.1,2088.75,5893.15,5037.55,5510.65,3467.0,1445.3,2847.4,2791.5,676.35,1425.45,6341.45,5426.85,2598.95,3229.65,1863.8,259.8,6890.0,2896.4,1067.15,937.5,1498.2,5763.3,1875.55,3066.45,2497.35,5685.8,7534.65,4822.85,2498.4,3715.65,1888.65,28.3,2177.45,3913.3,443.9,3110.1,4534.9,1157.05,8109.8,4029.95,5373.1,1544.05,4059.35,6137.0,5743.05,989.45,4830.25,6529.25,6975.25,2781.85,3563.8,8684.8,4211.55,7262.0,3182.95,2375.4,6979.8,1021.8,2597.6,2530.4,6405.0,6145.85,4134.85,3030.6,3124.5,930.45,4062.2,331.3,7804.15,3184.25,1604.5,4533.9,7220.35,1115.15,5639.05,6903.1,2405.05,2541.25,3912.9,6205.5,7674.55,6581.9,3692.85,3264.45,5785.5,2816.65,470.6,3160.55,872.65,4653.85,7176.55,7491.75,5916.45,5275.8,1625.0,5643.4,6441.4,5769.6,4213.35,2587.7,6219.6,5069.65,3626.1,7968.85,7432.05,1193.05,3014.65,2354.8,1334.0,1348.9,2319.8,3361.05,6418.9,2728.6,727.8],\"yaxis\":\"y2\",\"type\":\"scattergl\"},{\"hovertemplate\":\"color=Yes<br>facet_col=Two year<br>Customer Tenure=%{x}<br>Total Charges $=%{y}<extra></extra>\",\"legendgroup\":\"Yes\",\"marker\":{\"color\":\"#FF7F0E\",\"opacity\":0.5,\"symbol\":\"circle\"},\"mode\":\"markers\",\"name\":\"Yes\",\"showlegend\":false,\"x\":[68,59,43,70,71,65,57,69,57,50,71,72,72,67,66,54,61,58,25,71,56,55,72,39,67,65,66,53,66,52,49,70,61,70,68,46,33,70,67,71,71,69,72,48,64,61,64,70],\"xaxis\":\"x3\",\"y\":[7611.85,1099.6,4759.85,7250.15,7532.15,6937.95,5464.65,7318.2,6465.0,5551.15,7690.9,7372.65,7689.95,7156.2,5154.6,6110.2,5638.3,6144.55,692.1,3515.25,1327.15,3046.4,6440.25,3201.55,5293.4,4820.15,5265.1,1052.35,6981.35,4990.25,5293.2,4759.75,6428.4,6579.05,7856.0,2460.15,740.3,7723.9,7752.3,6585.35,7723.7,7348.8,3937.45,4627.85,4481.0,6876.05,3147.5,6859.5],\"yaxis\":\"y3\",\"type\":\"scattergl\"}],                        {\"template\":{\"data\":{\"pie\":[{\"automargin\":true,\"type\":\"pie\"}],\"scatter3d\":[{\"line\":{\"width\":3},\"marker\":{\"size\":9},\"type\":\"scatter3d\"}],\"scattergeo\":[{\"line\":{\"width\":3},\"marker\":{\"size\":9},\"type\":\"scattergeo\"}],\"scattergl\":[{\"line\":{\"width\":3},\"marker\":{\"size\":9},\"type\":\"scattergl\"}],\"scatterpolargl\":[{\"line\":{\"width\":3},\"marker\":{\"size\":9},\"type\":\"scatterpolargl\"}],\"scatterpolar\":[{\"line\":{\"width\":3},\"marker\":{\"size\":9},\"type\":\"scatterpolar\"}],\"scatter\":[{\"line\":{\"width\":3},\"marker\":{\"size\":9},\"type\":\"scatter\"}],\"scatterternary\":[{\"line\":{\"width\":3},\"marker\":{\"size\":9},\"type\":\"scatterternary\"}],\"table\":[{\"cells\":{\"height\":30},\"header\":{\"height\":36},\"type\":\"table\"}]},\"layout\":{\"font\":{\"size\":18},\"xaxis\":{\"title\":{\"standoff\":15}},\"yaxis\":{\"title\":{\"standoff\":15}}}},\"xaxis\":{\"anchor\":\"y\",\"domain\":[0.0,0.31999999999999995],\"title\":{\"text\":\"Customer Tenure\"}},\"yaxis\":{\"anchor\":\"x\",\"domain\":[0.0,1.0],\"title\":{\"text\":\"Total Charges $\"}},\"xaxis2\":{\"anchor\":\"y2\",\"domain\":[0.33999999999999997,0.6599999999999999],\"matches\":\"x\",\"title\":{\"text\":\"Customer Tenure\"}},\"yaxis2\":{\"anchor\":\"x2\",\"domain\":[0.0,1.0],\"matches\":\"y\",\"showticklabels\":false},\"xaxis3\":{\"anchor\":\"y3\",\"domain\":[0.6799999999999999,0.9999999999999999],\"matches\":\"x\",\"title\":{\"text\":\"Customer Tenure\"}},\"yaxis3\":{\"anchor\":\"x3\",\"domain\":[0.0,1.0],\"matches\":\"y\",\"showticklabels\":false},\"annotations\":[{\"font\":{},\"showarrow\":false,\"text\":\"facet_col=Month-to-month\",\"x\":0.15999999999999998,\"xanchor\":\"center\",\"xref\":\"paper\",\"y\":1.0,\"yanchor\":\"bottom\",\"yref\":\"paper\"},{\"font\":{},\"showarrow\":false,\"text\":\"facet_col=One year\",\"x\":0.49999999999999994,\"xanchor\":\"center\",\"xref\":\"paper\",\"y\":1.0,\"yanchor\":\"bottom\",\"yref\":\"paper\"},{\"font\":{},\"showarrow\":false,\"text\":\"facet_col=Two year\",\"x\":0.8399999999999999,\"xanchor\":\"center\",\"xref\":\"paper\",\"y\":1.0,\"yanchor\":\"bottom\",\"yref\":\"paper\"}],\"legend\":{\"title\":{\"text\":\"color\"},\"tracegroupgap\":0},\"title\":{\"text\":\"Customer Churn by Tenure, Charges, and Contract Type\"}},                        {\"responsive\": true}                    ).then(function(){\n",
              "                            \n",
              "var gd = document.getElementById('7c8848c8-951d-4001-b094-844985011105');\n",
              "var x = new MutationObserver(function (mutations, observer) {{\n",
              "        var display = window.getComputedStyle(gd).display;\n",
              "        if (!display || display === 'none') {{\n",
              "            console.log([gd, 'removed!']);\n",
              "            Plotly.purge(gd);\n",
              "            observer.disconnect();\n",
              "        }}\n",
              "}});\n",
              "\n",
              "// Listen for the removal of the full notebook cells\n",
              "var notebookContainer = gd.closest('#notebook-container');\n",
              "if (notebookContainer) {{\n",
              "    x.observe(notebookContainer, {childList: true});\n",
              "}}\n",
              "\n",
              "// Listen for the clearing of the current output cell\n",
              "var outputEl = gd.closest('.output');\n",
              "if (outputEl) {{\n",
              "    x.observe(outputEl, {childList: true});\n",
              "}}\n",
              "\n",
              "                        })                };                            </script>        </div>\n",
              "</body>\n",
              "</html>"
            ]
          },
          "metadata": {}
        }
      ]
    },
    {
      "cell_type": "markdown",
      "source": [
        "Note that most churn can be seen in the contracts that are “Month-to-Month”. Makes sense, ofcourse. Also, I can see that as the tenure increases and so are the total charges, the likelihood of customers with high tenure and low charges is less compared to customers with high tenure and high charges."
      ],
      "metadata": {
        "id": "xYXo3bmJysS_"
      }
    },
    {
      "cell_type": "markdown",
      "source": [
        "# Dealing Missing Values"
      ],
      "metadata": {
        "id": "qPwWfckJy1t7"
      }
    },
    {
      "cell_type": "code",
      "source": [
        "# check missing values\n",
        "data.isnull().sum()"
      ],
      "metadata": {
        "colab": {
          "base_uri": "https://localhost:8080/"
        },
        "id": "WnQ1WcLsyuBN",
        "outputId": "988f8bbe-b50c-4841-d99e-122583eaff25"
      },
      "execution_count": 6,
      "outputs": [
        {
          "output_type": "execute_result",
          "data": {
            "text/plain": [
              "customerID           0\n",
              "gender               0\n",
              "SeniorCitizen        0\n",
              "Partner              0\n",
              "Dependents           0\n",
              "tenure               0\n",
              "PhoneService         0\n",
              "MultipleLines        0\n",
              "InternetService      0\n",
              "OnlineSecurity       0\n",
              "OnlineBackup         0\n",
              "DeviceProtection     0\n",
              "TechSupport          0\n",
              "StreamingTV          0\n",
              "StreamingMovies      0\n",
              "Contract             0\n",
              "PaperlessBilling     0\n",
              "PaymentMethod        0\n",
              "MonthlyCharges       0\n",
              "TotalCharges        11\n",
              "Churn                0\n",
              "dtype: int64"
            ]
          },
          "metadata": {},
          "execution_count": 6
        }
      ]
    },
    {
      "cell_type": "markdown",
      "source": [
        "Note that because we replaced blank values with np.nan there are now 11 rows with missing values in TotalCharges. No problem — I will leave it with PyCaret to impute it automatically."
      ],
      "metadata": {
        "id": "CWufpnWiy_tZ"
      }
    },
    {
      "cell_type": "markdown",
      "source": [
        "# Data Preparation"
      ],
      "metadata": {
        "id": "Tj_es1g6zHVa"
      }
    },
    {
      "cell_type": "markdown",
      "source": [
        "Common to all modules in PyCaret, the setup is the first and the only mandatory step in any machine learning experiment performed in PyCaret. This function takes care of all the data preparation required prior to training models. Besides performing some basic default processing tasks, PyCaret also offers a wide array of pre-processing features. To learn more about all the preprocessing functionalities in PyCaret"
      ],
      "metadata": {
        "id": "Nm_Z7kD0zJgn"
      }
    },
    {
      "cell_type": "code",
      "source": [
        "# initial setup\n",
        "from pycaret.classification import *\n",
        "s = setup(data, target = 'Churn', ignore_features = ['customerID'])"
      ],
      "metadata": {
        "colab": {
          "base_uri": "https://localhost:8080/",
          "height": 865
        },
        "id": "7CfPeAScy7JI",
        "outputId": "f3790dea-a108-4a09-d0b2-4f50bab05b26"
      },
      "execution_count": 7,
      "outputs": [
        {
          "output_type": "display_data",
          "data": {
            "text/plain": [
              "<pandas.io.formats.style.Styler at 0x7f06141596a0>"
            ],
            "text/html": [
              "<style type=\"text/css\">\n",
              "#T_4758d_row13_col1 {\n",
              "  background-color: lightgreen;\n",
              "}\n",
              "</style>\n",
              "<table id=\"T_4758d\" class=\"dataframe\">\n",
              "  <thead>\n",
              "    <tr>\n",
              "      <th class=\"blank level0\" >&nbsp;</th>\n",
              "      <th id=\"T_4758d_level0_col0\" class=\"col_heading level0 col0\" >Description</th>\n",
              "      <th id=\"T_4758d_level0_col1\" class=\"col_heading level0 col1\" >Value</th>\n",
              "    </tr>\n",
              "  </thead>\n",
              "  <tbody>\n",
              "    <tr>\n",
              "      <th id=\"T_4758d_level0_row0\" class=\"row_heading level0 row0\" >0</th>\n",
              "      <td id=\"T_4758d_row0_col0\" class=\"data row0 col0\" >Session id</td>\n",
              "      <td id=\"T_4758d_row0_col1\" class=\"data row0 col1\" >5266</td>\n",
              "    </tr>\n",
              "    <tr>\n",
              "      <th id=\"T_4758d_level0_row1\" class=\"row_heading level0 row1\" >1</th>\n",
              "      <td id=\"T_4758d_row1_col0\" class=\"data row1 col0\" >Target</td>\n",
              "      <td id=\"T_4758d_row1_col1\" class=\"data row1 col1\" >Churn</td>\n",
              "    </tr>\n",
              "    <tr>\n",
              "      <th id=\"T_4758d_level0_row2\" class=\"row_heading level0 row2\" >2</th>\n",
              "      <td id=\"T_4758d_row2_col0\" class=\"data row2 col0\" >Target type</td>\n",
              "      <td id=\"T_4758d_row2_col1\" class=\"data row2 col1\" >Binary</td>\n",
              "    </tr>\n",
              "    <tr>\n",
              "      <th id=\"T_4758d_level0_row3\" class=\"row_heading level0 row3\" >3</th>\n",
              "      <td id=\"T_4758d_row3_col0\" class=\"data row3 col0\" >Target mapping</td>\n",
              "      <td id=\"T_4758d_row3_col1\" class=\"data row3 col1\" >No: 0, Yes: 1</td>\n",
              "    </tr>\n",
              "    <tr>\n",
              "      <th id=\"T_4758d_level0_row4\" class=\"row_heading level0 row4\" >4</th>\n",
              "      <td id=\"T_4758d_row4_col0\" class=\"data row4 col0\" >Original data shape</td>\n",
              "      <td id=\"T_4758d_row4_col1\" class=\"data row4 col1\" >(7043, 21)</td>\n",
              "    </tr>\n",
              "    <tr>\n",
              "      <th id=\"T_4758d_level0_row5\" class=\"row_heading level0 row5\" >5</th>\n",
              "      <td id=\"T_4758d_row5_col0\" class=\"data row5 col0\" >Transformed data shape</td>\n",
              "      <td id=\"T_4758d_row5_col1\" class=\"data row5 col1\" >(7043, 41)</td>\n",
              "    </tr>\n",
              "    <tr>\n",
              "      <th id=\"T_4758d_level0_row6\" class=\"row_heading level0 row6\" >6</th>\n",
              "      <td id=\"T_4758d_row6_col0\" class=\"data row6 col0\" >Transformed train set shape</td>\n",
              "      <td id=\"T_4758d_row6_col1\" class=\"data row6 col1\" >(4930, 41)</td>\n",
              "    </tr>\n",
              "    <tr>\n",
              "      <th id=\"T_4758d_level0_row7\" class=\"row_heading level0 row7\" >7</th>\n",
              "      <td id=\"T_4758d_row7_col0\" class=\"data row7 col0\" >Transformed test set shape</td>\n",
              "      <td id=\"T_4758d_row7_col1\" class=\"data row7 col1\" >(2113, 41)</td>\n",
              "    </tr>\n",
              "    <tr>\n",
              "      <th id=\"T_4758d_level0_row8\" class=\"row_heading level0 row8\" >8</th>\n",
              "      <td id=\"T_4758d_row8_col0\" class=\"data row8 col0\" >Ignore features</td>\n",
              "      <td id=\"T_4758d_row8_col1\" class=\"data row8 col1\" >1</td>\n",
              "    </tr>\n",
              "    <tr>\n",
              "      <th id=\"T_4758d_level0_row9\" class=\"row_heading level0 row9\" >9</th>\n",
              "      <td id=\"T_4758d_row9_col0\" class=\"data row9 col0\" >Ordinal features</td>\n",
              "      <td id=\"T_4758d_row9_col1\" class=\"data row9 col1\" >5</td>\n",
              "    </tr>\n",
              "    <tr>\n",
              "      <th id=\"T_4758d_level0_row10\" class=\"row_heading level0 row10\" >10</th>\n",
              "      <td id=\"T_4758d_row10_col0\" class=\"data row10 col0\" >Numeric features</td>\n",
              "      <td id=\"T_4758d_row10_col1\" class=\"data row10 col1\" >4</td>\n",
              "    </tr>\n",
              "    <tr>\n",
              "      <th id=\"T_4758d_level0_row11\" class=\"row_heading level0 row11\" >11</th>\n",
              "      <td id=\"T_4758d_row11_col0\" class=\"data row11 col0\" >Categorical features</td>\n",
              "      <td id=\"T_4758d_row11_col1\" class=\"data row11 col1\" >15</td>\n",
              "    </tr>\n",
              "    <tr>\n",
              "      <th id=\"T_4758d_level0_row12\" class=\"row_heading level0 row12\" >12</th>\n",
              "      <td id=\"T_4758d_row12_col0\" class=\"data row12 col0\" >Rows with missing values</td>\n",
              "      <td id=\"T_4758d_row12_col1\" class=\"data row12 col1\" >0.2%</td>\n",
              "    </tr>\n",
              "    <tr>\n",
              "      <th id=\"T_4758d_level0_row13\" class=\"row_heading level0 row13\" >13</th>\n",
              "      <td id=\"T_4758d_row13_col0\" class=\"data row13 col0\" >Preprocess</td>\n",
              "      <td id=\"T_4758d_row13_col1\" class=\"data row13 col1\" >True</td>\n",
              "    </tr>\n",
              "    <tr>\n",
              "      <th id=\"T_4758d_level0_row14\" class=\"row_heading level0 row14\" >14</th>\n",
              "      <td id=\"T_4758d_row14_col0\" class=\"data row14 col0\" >Imputation type</td>\n",
              "      <td id=\"T_4758d_row14_col1\" class=\"data row14 col1\" >simple</td>\n",
              "    </tr>\n",
              "    <tr>\n",
              "      <th id=\"T_4758d_level0_row15\" class=\"row_heading level0 row15\" >15</th>\n",
              "      <td id=\"T_4758d_row15_col0\" class=\"data row15 col0\" >Numeric imputation</td>\n",
              "      <td id=\"T_4758d_row15_col1\" class=\"data row15 col1\" >mean</td>\n",
              "    </tr>\n",
              "    <tr>\n",
              "      <th id=\"T_4758d_level0_row16\" class=\"row_heading level0 row16\" >16</th>\n",
              "      <td id=\"T_4758d_row16_col0\" class=\"data row16 col0\" >Categorical imputation</td>\n",
              "      <td id=\"T_4758d_row16_col1\" class=\"data row16 col1\" >mode</td>\n",
              "    </tr>\n",
              "    <tr>\n",
              "      <th id=\"T_4758d_level0_row17\" class=\"row_heading level0 row17\" >17</th>\n",
              "      <td id=\"T_4758d_row17_col0\" class=\"data row17 col0\" >Maximum one-hot encoding</td>\n",
              "      <td id=\"T_4758d_row17_col1\" class=\"data row17 col1\" >25</td>\n",
              "    </tr>\n",
              "    <tr>\n",
              "      <th id=\"T_4758d_level0_row18\" class=\"row_heading level0 row18\" >18</th>\n",
              "      <td id=\"T_4758d_row18_col0\" class=\"data row18 col0\" >Encoding method</td>\n",
              "      <td id=\"T_4758d_row18_col1\" class=\"data row18 col1\" >None</td>\n",
              "    </tr>\n",
              "    <tr>\n",
              "      <th id=\"T_4758d_level0_row19\" class=\"row_heading level0 row19\" >19</th>\n",
              "      <td id=\"T_4758d_row19_col0\" class=\"data row19 col0\" >Fold Generator</td>\n",
              "      <td id=\"T_4758d_row19_col1\" class=\"data row19 col1\" >StratifiedKFold</td>\n",
              "    </tr>\n",
              "    <tr>\n",
              "      <th id=\"T_4758d_level0_row20\" class=\"row_heading level0 row20\" >20</th>\n",
              "      <td id=\"T_4758d_row20_col0\" class=\"data row20 col0\" >Fold Number</td>\n",
              "      <td id=\"T_4758d_row20_col1\" class=\"data row20 col1\" >10</td>\n",
              "    </tr>\n",
              "    <tr>\n",
              "      <th id=\"T_4758d_level0_row21\" class=\"row_heading level0 row21\" >21</th>\n",
              "      <td id=\"T_4758d_row21_col0\" class=\"data row21 col0\" >CPU Jobs</td>\n",
              "      <td id=\"T_4758d_row21_col1\" class=\"data row21 col1\" >-1</td>\n",
              "    </tr>\n",
              "    <tr>\n",
              "      <th id=\"T_4758d_level0_row22\" class=\"row_heading level0 row22\" >22</th>\n",
              "      <td id=\"T_4758d_row22_col0\" class=\"data row22 col0\" >Use GPU</td>\n",
              "      <td id=\"T_4758d_row22_col1\" class=\"data row22 col1\" >False</td>\n",
              "    </tr>\n",
              "    <tr>\n",
              "      <th id=\"T_4758d_level0_row23\" class=\"row_heading level0 row23\" >23</th>\n",
              "      <td id=\"T_4758d_row23_col0\" class=\"data row23 col0\" >Log Experiment</td>\n",
              "      <td id=\"T_4758d_row23_col1\" class=\"data row23 col1\" >False</td>\n",
              "    </tr>\n",
              "    <tr>\n",
              "      <th id=\"T_4758d_level0_row24\" class=\"row_heading level0 row24\" >24</th>\n",
              "      <td id=\"T_4758d_row24_col0\" class=\"data row24 col0\" >Experiment Name</td>\n",
              "      <td id=\"T_4758d_row24_col1\" class=\"data row24 col1\" >clf-default-name</td>\n",
              "    </tr>\n",
              "    <tr>\n",
              "      <th id=\"T_4758d_level0_row25\" class=\"row_heading level0 row25\" >25</th>\n",
              "      <td id=\"T_4758d_row25_col0\" class=\"data row25 col0\" >USI</td>\n",
              "      <td id=\"T_4758d_row25_col1\" class=\"data row25 col1\" >bc04</td>\n",
              "    </tr>\n",
              "  </tbody>\n",
              "</table>\n"
            ]
          },
          "metadata": {}
        }
      ]
    },
    {
      "cell_type": "markdown",
      "source": [
        "Whenever you initialize the setup function in PyCaret, it profiles the dataset and infers the data types for all input features. In this case, we can see except for tenure MonthlyCharges and TotalCharges , everything else is categorical, which is correct, we can now press enter to continue. If data types are not inferred correctly (which can happen sometimes), we can use numeric_feature and categorical_feature to overwrite the data types.\n",
        "\n",
        "Also, I have passed ignore_features = ['customerID'] in the setup function so that it is not considered when training the models. The good thing about this is PyCaret will not remove the column from the dataset, it will just ignore it behind the scene for model training. As such when you generate predictions at the end, you don’t need to worry about joining IDs back by yourself."
      ],
      "metadata": {
        "id": "50KwSkd-zdZy"
      }
    },
    {
      "cell_type": "markdown",
      "source": [
        "# Model Training & Selection"
      ],
      "metadata": {
        "id": "3p7JJyQkzwWu"
      }
    },
    {
      "cell_type": "markdown",
      "source": [
        "Now that data preparation is done, let’s start the training process by using compare_models functionality. This function trains all the algorithms available in the model library and evaluates multiple performance metrics using cross-validation."
      ],
      "metadata": {
        "id": "SjpbcEgfzyqu"
      }
    },
    {
      "cell_type": "code",
      "source": [
        "# compare all models\n",
        "best_model = compare_models(sort='AUC')"
      ],
      "metadata": {
        "colab": {
          "base_uri": "https://localhost:8080/",
          "height": 520,
          "referenced_widgets": [
            "8a451e7651134d708385c06c34cead6b",
            "4733c2f67529441182b5e3c9e08de1dc",
            "329be65efe0b4d98ba4201dbf1024038",
            "ef15b11c7e0b4a64bcc90e176680a414",
            "d08cfe06dfa746939ee4dd21f09b006d",
            "2e1e89444589497e8ae39ad129645904",
            "c883b386608b4b02ac28a25d8dc8dbb9",
            "ce1a10bc7ade4478bd91795937c7b03a",
            "dc95790dae444215893f280eb5f1b795",
            "8151d60e148b4b319877db8809936dca",
            "b556e03a1f074e70a969db146d99f297"
          ]
        },
        "id": "8q8TzEQVzZe_",
        "outputId": "f6ac96f2-755e-409d-d4cc-2e02d453988a"
      },
      "execution_count": 9,
      "outputs": [
        {
          "output_type": "display_data",
          "data": {
            "text/plain": [
              "<IPython.core.display.HTML object>"
            ],
            "text/html": []
          },
          "metadata": {}
        },
        {
          "output_type": "display_data",
          "data": {
            "text/plain": [
              "<pandas.io.formats.style.Styler at 0x7f0614154640>"
            ],
            "text/html": [
              "<style type=\"text/css\">\n",
              "#T_2d16a th {\n",
              "  text-align: left;\n",
              "}\n",
              "#T_2d16a_row0_col0, #T_2d16a_row0_col1, #T_2d16a_row0_col3, #T_2d16a_row0_col5, #T_2d16a_row0_col6, #T_2d16a_row0_col7, #T_2d16a_row1_col0, #T_2d16a_row1_col1, #T_2d16a_row1_col2, #T_2d16a_row1_col3, #T_2d16a_row1_col4, #T_2d16a_row1_col5, #T_2d16a_row1_col6, #T_2d16a_row1_col7, #T_2d16a_row2_col0, #T_2d16a_row2_col2, #T_2d16a_row2_col3, #T_2d16a_row2_col4, #T_2d16a_row3_col0, #T_2d16a_row3_col1, #T_2d16a_row3_col2, #T_2d16a_row3_col3, #T_2d16a_row3_col4, #T_2d16a_row3_col5, #T_2d16a_row3_col6, #T_2d16a_row3_col7, #T_2d16a_row4_col0, #T_2d16a_row4_col1, #T_2d16a_row4_col2, #T_2d16a_row4_col3, #T_2d16a_row4_col4, #T_2d16a_row4_col5, #T_2d16a_row4_col6, #T_2d16a_row4_col7, #T_2d16a_row5_col0, #T_2d16a_row5_col1, #T_2d16a_row5_col2, #T_2d16a_row5_col3, #T_2d16a_row5_col4, #T_2d16a_row5_col5, #T_2d16a_row5_col6, #T_2d16a_row5_col7, #T_2d16a_row6_col0, #T_2d16a_row6_col1, #T_2d16a_row6_col2, #T_2d16a_row6_col3, #T_2d16a_row6_col4, #T_2d16a_row6_col5, #T_2d16a_row6_col6, #T_2d16a_row6_col7, #T_2d16a_row7_col0, #T_2d16a_row7_col1, #T_2d16a_row7_col2, #T_2d16a_row7_col4, #T_2d16a_row7_col5, #T_2d16a_row7_col6, #T_2d16a_row7_col7, #T_2d16a_row8_col0, #T_2d16a_row8_col1, #T_2d16a_row8_col2, #T_2d16a_row8_col3, #T_2d16a_row8_col4, #T_2d16a_row8_col5, #T_2d16a_row8_col6, #T_2d16a_row8_col7, #T_2d16a_row9_col0, #T_2d16a_row9_col1, #T_2d16a_row9_col2, #T_2d16a_row9_col3, #T_2d16a_row9_col4, #T_2d16a_row9_col5, #T_2d16a_row9_col6, #T_2d16a_row9_col7, #T_2d16a_row10_col0, #T_2d16a_row10_col1, #T_2d16a_row10_col2, #T_2d16a_row10_col3, #T_2d16a_row10_col4, #T_2d16a_row10_col5, #T_2d16a_row10_col6, #T_2d16a_row10_col7, #T_2d16a_row11_col0, #T_2d16a_row11_col1, #T_2d16a_row11_col2, #T_2d16a_row11_col3, #T_2d16a_row11_col4, #T_2d16a_row11_col5, #T_2d16a_row11_col6, #T_2d16a_row11_col7, #T_2d16a_row12_col0, #T_2d16a_row12_col1, #T_2d16a_row12_col2, #T_2d16a_row12_col3, #T_2d16a_row12_col4, #T_2d16a_row12_col5, #T_2d16a_row12_col6, #T_2d16a_row12_col7, #T_2d16a_row13_col0, #T_2d16a_row13_col1, #T_2d16a_row13_col2, #T_2d16a_row13_col3, #T_2d16a_row13_col4, #T_2d16a_row13_col5, #T_2d16a_row13_col6, #T_2d16a_row13_col7, #T_2d16a_row14_col0, #T_2d16a_row14_col1, #T_2d16a_row14_col2, #T_2d16a_row14_col3, #T_2d16a_row14_col4, #T_2d16a_row14_col5, #T_2d16a_row14_col6, #T_2d16a_row14_col7 {\n",
              "  text-align: left;\n",
              "}\n",
              "#T_2d16a_row0_col2, #T_2d16a_row0_col4, #T_2d16a_row2_col1, #T_2d16a_row2_col5, #T_2d16a_row2_col6, #T_2d16a_row2_col7, #T_2d16a_row7_col3 {\n",
              "  text-align: left;\n",
              "  background-color: yellow;\n",
              "}\n",
              "#T_2d16a_row0_col8, #T_2d16a_row1_col8, #T_2d16a_row2_col8, #T_2d16a_row3_col8, #T_2d16a_row4_col8, #T_2d16a_row5_col8, #T_2d16a_row6_col8, #T_2d16a_row7_col8, #T_2d16a_row8_col8, #T_2d16a_row9_col8, #T_2d16a_row10_col8, #T_2d16a_row11_col8, #T_2d16a_row12_col8, #T_2d16a_row13_col8 {\n",
              "  text-align: left;\n",
              "  background-color: lightgrey;\n",
              "}\n",
              "#T_2d16a_row14_col8 {\n",
              "  text-align: left;\n",
              "  background-color: yellow;\n",
              "  background-color: lightgrey;\n",
              "}\n",
              "</style>\n",
              "<table id=\"T_2d16a\" class=\"dataframe\">\n",
              "  <thead>\n",
              "    <tr>\n",
              "      <th class=\"blank level0\" >&nbsp;</th>\n",
              "      <th id=\"T_2d16a_level0_col0\" class=\"col_heading level0 col0\" >Model</th>\n",
              "      <th id=\"T_2d16a_level0_col1\" class=\"col_heading level0 col1\" >Accuracy</th>\n",
              "      <th id=\"T_2d16a_level0_col2\" class=\"col_heading level0 col2\" >AUC</th>\n",
              "      <th id=\"T_2d16a_level0_col3\" class=\"col_heading level0 col3\" >Recall</th>\n",
              "      <th id=\"T_2d16a_level0_col4\" class=\"col_heading level0 col4\" >Prec.</th>\n",
              "      <th id=\"T_2d16a_level0_col5\" class=\"col_heading level0 col5\" >F1</th>\n",
              "      <th id=\"T_2d16a_level0_col6\" class=\"col_heading level0 col6\" >Kappa</th>\n",
              "      <th id=\"T_2d16a_level0_col7\" class=\"col_heading level0 col7\" >MCC</th>\n",
              "      <th id=\"T_2d16a_level0_col8\" class=\"col_heading level0 col8\" >TT (Sec)</th>\n",
              "    </tr>\n",
              "  </thead>\n",
              "  <tbody>\n",
              "    <tr>\n",
              "      <th id=\"T_2d16a_level0_row0\" class=\"row_heading level0 row0\" >gbc</th>\n",
              "      <td id=\"T_2d16a_row0_col0\" class=\"data row0 col0\" >Gradient Boosting Classifier</td>\n",
              "      <td id=\"T_2d16a_row0_col1\" class=\"data row0 col1\" >0.8057</td>\n",
              "      <td id=\"T_2d16a_row0_col2\" class=\"data row0 col2\" >0.8487</td>\n",
              "      <td id=\"T_2d16a_row0_col3\" class=\"data row0 col3\" >0.5199</td>\n",
              "      <td id=\"T_2d16a_row0_col4\" class=\"data row0 col4\" >0.6728</td>\n",
              "      <td id=\"T_2d16a_row0_col5\" class=\"data row0 col5\" >0.5853</td>\n",
              "      <td id=\"T_2d16a_row0_col6\" class=\"data row0 col6\" >0.4615</td>\n",
              "      <td id=\"T_2d16a_row0_col7\" class=\"data row0 col7\" >0.4687</td>\n",
              "      <td id=\"T_2d16a_row0_col8\" class=\"data row0 col8\" >0.5510</td>\n",
              "    </tr>\n",
              "    <tr>\n",
              "      <th id=\"T_2d16a_level0_row1\" class=\"row_heading level0 row1\" >ada</th>\n",
              "      <td id=\"T_2d16a_row1_col0\" class=\"data row1 col0\" >Ada Boost Classifier</td>\n",
              "      <td id=\"T_2d16a_row1_col1\" class=\"data row1 col1\" >0.7988</td>\n",
              "      <td id=\"T_2d16a_row1_col2\" class=\"data row1 col2\" >0.8440</td>\n",
              "      <td id=\"T_2d16a_row1_col3\" class=\"data row1 col3\" >0.5184</td>\n",
              "      <td id=\"T_2d16a_row1_col4\" class=\"data row1 col4\" >0.6524</td>\n",
              "      <td id=\"T_2d16a_row1_col5\" class=\"data row1 col5\" >0.5770</td>\n",
              "      <td id=\"T_2d16a_row1_col6\" class=\"data row1 col6\" >0.4474</td>\n",
              "      <td id=\"T_2d16a_row1_col7\" class=\"data row1 col7\" >0.4529</td>\n",
              "      <td id=\"T_2d16a_row1_col8\" class=\"data row1 col8\" >0.4350</td>\n",
              "    </tr>\n",
              "    <tr>\n",
              "      <th id=\"T_2d16a_level0_row2\" class=\"row_heading level0 row2\" >lr</th>\n",
              "      <td id=\"T_2d16a_row2_col0\" class=\"data row2 col0\" >Logistic Regression</td>\n",
              "      <td id=\"T_2d16a_row2_col1\" class=\"data row2 col1\" >0.8059</td>\n",
              "      <td id=\"T_2d16a_row2_col2\" class=\"data row2 col2\" >0.8419</td>\n",
              "      <td id=\"T_2d16a_row2_col3\" class=\"data row2 col3\" >0.5444</td>\n",
              "      <td id=\"T_2d16a_row2_col4\" class=\"data row2 col4\" >0.6635</td>\n",
              "      <td id=\"T_2d16a_row2_col5\" class=\"data row2 col5\" >0.5975</td>\n",
              "      <td id=\"T_2d16a_row2_col6\" class=\"data row2 col6\" >0.4714</td>\n",
              "      <td id=\"T_2d16a_row2_col7\" class=\"data row2 col7\" >0.4757</td>\n",
              "      <td id=\"T_2d16a_row2_col8\" class=\"data row2 col8\" >1.2330</td>\n",
              "    </tr>\n",
              "    <tr>\n",
              "      <th id=\"T_2d16a_level0_row3\" class=\"row_heading level0 row3\" >lightgbm</th>\n",
              "      <td id=\"T_2d16a_row3_col0\" class=\"data row3 col0\" >Light Gradient Boosting Machine</td>\n",
              "      <td id=\"T_2d16a_row3_col1\" class=\"data row3 col1\" >0.7972</td>\n",
              "      <td id=\"T_2d16a_row3_col2\" class=\"data row3 col2\" >0.8375</td>\n",
              "      <td id=\"T_2d16a_row3_col3\" class=\"data row3 col3\" >0.5107</td>\n",
              "      <td id=\"T_2d16a_row3_col4\" class=\"data row3 col4\" >0.6492</td>\n",
              "      <td id=\"T_2d16a_row3_col5\" class=\"data row3 col5\" >0.5708</td>\n",
              "      <td id=\"T_2d16a_row3_col6\" class=\"data row3 col6\" >0.4408</td>\n",
              "      <td id=\"T_2d16a_row3_col7\" class=\"data row3 col7\" >0.4467</td>\n",
              "      <td id=\"T_2d16a_row3_col8\" class=\"data row3 col8\" >0.3330</td>\n",
              "    </tr>\n",
              "    <tr>\n",
              "      <th id=\"T_2d16a_level0_row4\" class=\"row_heading level0 row4\" >lda</th>\n",
              "      <td id=\"T_2d16a_row4_col0\" class=\"data row4 col0\" >Linear Discriminant Analysis</td>\n",
              "      <td id=\"T_2d16a_row4_col1\" class=\"data row4 col1\" >0.7953</td>\n",
              "      <td id=\"T_2d16a_row4_col2\" class=\"data row4 col2\" >0.8335</td>\n",
              "      <td id=\"T_2d16a_row4_col3\" class=\"data row4 col3\" >0.5459</td>\n",
              "      <td id=\"T_2d16a_row4_col4\" class=\"data row4 col4\" >0.6329</td>\n",
              "      <td id=\"T_2d16a_row4_col5\" class=\"data row4 col5\" >0.5857</td>\n",
              "      <td id=\"T_2d16a_row4_col6\" class=\"data row4 col6\" >0.4509</td>\n",
              "      <td id=\"T_2d16a_row4_col7\" class=\"data row4 col7\" >0.4534</td>\n",
              "      <td id=\"T_2d16a_row4_col8\" class=\"data row4 col8\" >0.4290</td>\n",
              "    </tr>\n",
              "    <tr>\n",
              "      <th id=\"T_2d16a_level0_row5\" class=\"row_heading level0 row5\" >xgboost</th>\n",
              "      <td id=\"T_2d16a_row5_col0\" class=\"data row5 col0\" >Extreme Gradient Boosting</td>\n",
              "      <td id=\"T_2d16a_row5_col1\" class=\"data row5 col1\" >0.7872</td>\n",
              "      <td id=\"T_2d16a_row5_col2\" class=\"data row5 col2\" >0.8253</td>\n",
              "      <td id=\"T_2d16a_row5_col3\" class=\"data row5 col3\" >0.5100</td>\n",
              "      <td id=\"T_2d16a_row5_col4\" class=\"data row5 col4\" >0.6208</td>\n",
              "      <td id=\"T_2d16a_row5_col5\" class=\"data row5 col5\" >0.5589</td>\n",
              "      <td id=\"T_2d16a_row5_col6\" class=\"data row5 col6\" >0.4207</td>\n",
              "      <td id=\"T_2d16a_row5_col7\" class=\"data row5 col7\" >0.4248</td>\n",
              "      <td id=\"T_2d16a_row5_col8\" class=\"data row5 col8\" >0.2770</td>\n",
              "    </tr>\n",
              "    <tr>\n",
              "      <th id=\"T_2d16a_level0_row6\" class=\"row_heading level0 row6\" >rf</th>\n",
              "      <td id=\"T_2d16a_row6_col0\" class=\"data row6 col0\" >Random Forest Classifier</td>\n",
              "      <td id=\"T_2d16a_row6_col1\" class=\"data row6 col1\" >0.7970</td>\n",
              "      <td id=\"T_2d16a_row6_col2\" class=\"data row6 col2\" >0.8209</td>\n",
              "      <td id=\"T_2d16a_row6_col3\" class=\"data row6 col3\" >0.5015</td>\n",
              "      <td id=\"T_2d16a_row6_col4\" class=\"data row6 col4\" >0.6536</td>\n",
              "      <td id=\"T_2d16a_row6_col5\" class=\"data row6 col5\" >0.5662</td>\n",
              "      <td id=\"T_2d16a_row6_col6\" class=\"data row6 col6\" >0.4369</td>\n",
              "      <td id=\"T_2d16a_row6_col7\" class=\"data row6 col7\" >0.4442</td>\n",
              "      <td id=\"T_2d16a_row6_col8\" class=\"data row6 col8\" >0.4700</td>\n",
              "    </tr>\n",
              "    <tr>\n",
              "      <th id=\"T_2d16a_level0_row7\" class=\"row_heading level0 row7\" >qda</th>\n",
              "      <td id=\"T_2d16a_row7_col0\" class=\"data row7 col0\" >Quadratic Discriminant Analysis</td>\n",
              "      <td id=\"T_2d16a_row7_col1\" class=\"data row7 col1\" >0.6513</td>\n",
              "      <td id=\"T_2d16a_row7_col2\" class=\"data row7 col2\" >0.8176</td>\n",
              "      <td id=\"T_2d16a_row7_col3\" class=\"data row7 col3\" >0.8440</td>\n",
              "      <td id=\"T_2d16a_row7_col4\" class=\"data row7 col4\" >0.4260</td>\n",
              "      <td id=\"T_2d16a_row7_col5\" class=\"data row7 col5\" >0.5609</td>\n",
              "      <td id=\"T_2d16a_row7_col6\" class=\"data row7 col6\" >0.3232</td>\n",
              "      <td id=\"T_2d16a_row7_col7\" class=\"data row7 col7\" >0.3830</td>\n",
              "      <td id=\"T_2d16a_row7_col8\" class=\"data row7 col8\" >0.4040</td>\n",
              "    </tr>\n",
              "    <tr>\n",
              "      <th id=\"T_2d16a_level0_row8\" class=\"row_heading level0 row8\" >nb</th>\n",
              "      <td id=\"T_2d16a_row8_col0\" class=\"data row8 col0\" >Naive Bayes</td>\n",
              "      <td id=\"T_2d16a_row8_col1\" class=\"data row8 col1\" >0.6892</td>\n",
              "      <td id=\"T_2d16a_row8_col2\" class=\"data row8 col2\" >0.8144</td>\n",
              "      <td id=\"T_2d16a_row8_col3\" class=\"data row8 col3\" >0.8409</td>\n",
              "      <td id=\"T_2d16a_row8_col4\" class=\"data row8 col4\" >0.4539</td>\n",
              "      <td id=\"T_2d16a_row8_col5\" class=\"data row8 col5\" >0.5895</td>\n",
              "      <td id=\"T_2d16a_row8_col6\" class=\"data row8 col6\" >0.3736</td>\n",
              "      <td id=\"T_2d16a_row8_col7\" class=\"data row8 col7\" >0.4200</td>\n",
              "      <td id=\"T_2d16a_row8_col8\" class=\"data row8 col8\" >0.2720</td>\n",
              "    </tr>\n",
              "    <tr>\n",
              "      <th id=\"T_2d16a_level0_row9\" class=\"row_heading level0 row9\" >et</th>\n",
              "      <td id=\"T_2d16a_row9_col0\" class=\"data row9 col0\" >Extra Trees Classifier</td>\n",
              "      <td id=\"T_2d16a_row9_col1\" class=\"data row9 col1\" >0.7746</td>\n",
              "      <td id=\"T_2d16a_row9_col2\" class=\"data row9 col2\" >0.7896</td>\n",
              "      <td id=\"T_2d16a_row9_col3\" class=\"data row9 col3\" >0.4686</td>\n",
              "      <td id=\"T_2d16a_row9_col4\" class=\"data row9 col4\" >0.5965</td>\n",
              "      <td id=\"T_2d16a_row9_col5\" class=\"data row9 col5\" >0.5235</td>\n",
              "      <td id=\"T_2d16a_row9_col6\" class=\"data row9 col6\" >0.3791</td>\n",
              "      <td id=\"T_2d16a_row9_col7\" class=\"data row9 col7\" >0.3845</td>\n",
              "      <td id=\"T_2d16a_row9_col8\" class=\"data row9 col8\" >0.6060</td>\n",
              "    </tr>\n",
              "    <tr>\n",
              "      <th id=\"T_2d16a_level0_row10\" class=\"row_heading level0 row10\" >knn</th>\n",
              "      <td id=\"T_2d16a_row10_col0\" class=\"data row10 col0\" >K Neighbors Classifier</td>\n",
              "      <td id=\"T_2d16a_row10_col1\" class=\"data row10 col1\" >0.7653</td>\n",
              "      <td id=\"T_2d16a_row10_col2\" class=\"data row10 col2\" >0.7465</td>\n",
              "      <td id=\"T_2d16a_row10_col3\" class=\"data row10 col3\" >0.4457</td>\n",
              "      <td id=\"T_2d16a_row10_col4\" class=\"data row10 col4\" >0.5736</td>\n",
              "      <td id=\"T_2d16a_row10_col5\" class=\"data row10 col5\" >0.5012</td>\n",
              "      <td id=\"T_2d16a_row10_col6\" class=\"data row10 col6\" >0.3511</td>\n",
              "      <td id=\"T_2d16a_row10_col7\" class=\"data row10 col7\" >0.3560</td>\n",
              "      <td id=\"T_2d16a_row10_col8\" class=\"data row10 col8\" >0.3090</td>\n",
              "    </tr>\n",
              "    <tr>\n",
              "      <th id=\"T_2d16a_level0_row11\" class=\"row_heading level0 row11\" >dt</th>\n",
              "      <td id=\"T_2d16a_row11_col0\" class=\"data row11 col0\" >Decision Tree Classifier</td>\n",
              "      <td id=\"T_2d16a_row11_col1\" class=\"data row11 col1\" >0.7304</td>\n",
              "      <td id=\"T_2d16a_row11_col2\" class=\"data row11 col2\" >0.6600</td>\n",
              "      <td id=\"T_2d16a_row11_col3\" class=\"data row11 col3\" >0.5068</td>\n",
              "      <td id=\"T_2d16a_row11_col4\" class=\"data row11 col4\" >0.4912</td>\n",
              "      <td id=\"T_2d16a_row11_col5\" class=\"data row11 col5\" >0.4981</td>\n",
              "      <td id=\"T_2d16a_row11_col6\" class=\"data row11 col6\" >0.3141</td>\n",
              "      <td id=\"T_2d16a_row11_col7\" class=\"data row11 col7\" >0.3147</td>\n",
              "      <td id=\"T_2d16a_row11_col8\" class=\"data row11 col8\" >0.3330</td>\n",
              "    </tr>\n",
              "    <tr>\n",
              "      <th id=\"T_2d16a_level0_row12\" class=\"row_heading level0 row12\" >dummy</th>\n",
              "      <td id=\"T_2d16a_row12_col0\" class=\"data row12 col0\" >Dummy Classifier</td>\n",
              "      <td id=\"T_2d16a_row12_col1\" class=\"data row12 col1\" >0.7347</td>\n",
              "      <td id=\"T_2d16a_row12_col2\" class=\"data row12 col2\" >0.5000</td>\n",
              "      <td id=\"T_2d16a_row12_col3\" class=\"data row12 col3\" >0.0000</td>\n",
              "      <td id=\"T_2d16a_row12_col4\" class=\"data row12 col4\" >0.0000</td>\n",
              "      <td id=\"T_2d16a_row12_col5\" class=\"data row12 col5\" >0.0000</td>\n",
              "      <td id=\"T_2d16a_row12_col6\" class=\"data row12 col6\" >0.0000</td>\n",
              "      <td id=\"T_2d16a_row12_col7\" class=\"data row12 col7\" >0.0000</td>\n",
              "      <td id=\"T_2d16a_row12_col8\" class=\"data row12 col8\" >0.4280</td>\n",
              "    </tr>\n",
              "    <tr>\n",
              "      <th id=\"T_2d16a_level0_row13\" class=\"row_heading level0 row13\" >svm</th>\n",
              "      <td id=\"T_2d16a_row13_col0\" class=\"data row13 col0\" >SVM - Linear Kernel</td>\n",
              "      <td id=\"T_2d16a_row13_col1\" class=\"data row13 col1\" >0.6807</td>\n",
              "      <td id=\"T_2d16a_row13_col2\" class=\"data row13 col2\" >0.0000</td>\n",
              "      <td id=\"T_2d16a_row13_col3\" class=\"data row13 col3\" >0.6215</td>\n",
              "      <td id=\"T_2d16a_row13_col4\" class=\"data row13 col4\" >0.5246</td>\n",
              "      <td id=\"T_2d16a_row13_col5\" class=\"data row13 col5\" >0.5128</td>\n",
              "      <td id=\"T_2d16a_row13_col6\" class=\"data row13 col6\" >0.3124</td>\n",
              "      <td id=\"T_2d16a_row13_col7\" class=\"data row13 col7\" >0.3514</td>\n",
              "      <td id=\"T_2d16a_row13_col8\" class=\"data row13 col8\" >0.4070</td>\n",
              "    </tr>\n",
              "    <tr>\n",
              "      <th id=\"T_2d16a_level0_row14\" class=\"row_heading level0 row14\" >ridge</th>\n",
              "      <td id=\"T_2d16a_row14_col0\" class=\"data row14 col0\" >Ridge Classifier</td>\n",
              "      <td id=\"T_2d16a_row14_col1\" class=\"data row14 col1\" >0.8008</td>\n",
              "      <td id=\"T_2d16a_row14_col2\" class=\"data row14 col2\" >0.0000</td>\n",
              "      <td id=\"T_2d16a_row14_col3\" class=\"data row14 col3\" >0.5054</td>\n",
              "      <td id=\"T_2d16a_row14_col4\" class=\"data row14 col4\" >0.6632</td>\n",
              "      <td id=\"T_2d16a_row14_col5\" class=\"data row14 col5\" >0.5732</td>\n",
              "      <td id=\"T_2d16a_row14_col6\" class=\"data row14 col6\" >0.4465</td>\n",
              "      <td id=\"T_2d16a_row14_col7\" class=\"data row14 col7\" >0.4537</td>\n",
              "      <td id=\"T_2d16a_row14_col8\" class=\"data row14 col8\" >0.2390</td>\n",
              "    </tr>\n",
              "  </tbody>\n",
              "</table>\n"
            ]
          },
          "metadata": {}
        },
        {
          "output_type": "display_data",
          "data": {
            "text/plain": [
              "Processing:   0%|          | 0/65 [00:00<?, ?it/s]"
            ],
            "application/vnd.jupyter.widget-view+json": {
              "version_major": 2,
              "version_minor": 0,
              "model_id": "8a451e7651134d708385c06c34cead6b"
            }
          },
          "metadata": {
            "application/vnd.jupyter.widget-view+json": {
              "colab": {
                "custom_widget_manager": {
                  "url": "https://ssl.gstatic.com/colaboratory-static/widgets/colab-cdn-widget-manager/b3e629b1971e1542/manager.min.js"
                }
              }
            }
          }
        },
        {
          "output_type": "display_data",
          "data": {
            "text/plain": [
              "<IPython.core.display.HTML object>"
            ],
            "text/html": []
          },
          "metadata": {}
        }
      ]
    },
    {
      "cell_type": "code",
      "source": [
        "# print best_model parameters\n",
        "print(best_model)"
      ],
      "metadata": {
        "colab": {
          "base_uri": "https://localhost:8080/"
        },
        "id": "6OgZTerM2470",
        "outputId": "fa374deb-8117-4125-d90f-6c2559caaabd"
      },
      "execution_count": 10,
      "outputs": [
        {
          "output_type": "stream",
          "name": "stdout",
          "text": [
            "GradientBoostingClassifier(ccp_alpha=0.0, criterion='friedman_mse', init=None,\n",
            "                           learning_rate=0.1, loss='log_loss', max_depth=3,\n",
            "                           max_features=None, max_leaf_nodes=None,\n",
            "                           min_impurity_decrease=0.0, min_samples_leaf=1,\n",
            "                           min_samples_split=2, min_weight_fraction_leaf=0.0,\n",
            "                           n_estimators=100, n_iter_no_change=None,\n",
            "                           random_state=5266, subsample=1.0, tol=0.0001,\n",
            "                           validation_fraction=0.1, verbose=0,\n",
            "                           warm_start=False)\n"
          ]
        }
      ]
    },
    {
      "cell_type": "markdown",
      "source": [
        "# Hyperparameter Tuning"
      ],
      "metadata": {
        "id": "_SxwIuB93BxJ"
      }
    },
    {
      "cell_type": "markdown",
      "source": [
        "we can use the tune_model function from PyCaret to automatically tune the hyperparameters of the model."
      ],
      "metadata": {
        "id": "ROjfGbqF3DVU"
      }
    },
    {
      "cell_type": "code",
      "source": [
        "# tune best model\n",
        "tuned_best_model = tune_model(best_model)"
      ],
      "metadata": {
        "colab": {
          "base_uri": "https://localhost:8080/",
          "height": 492,
          "referenced_widgets": [
            "f8f680437e70478ca1b5da2573ad8100",
            "5f7c848596134f71a8b8d5b0d1df1091",
            "e018d498a06b4ca8b5c1e30c4184b42c",
            "166a08d3d96c473f8cbceee03b4521cc",
            "91ac39e4139d4e4b8dd273108ba1a58c",
            "eab348f9cd444e009cfbeb95969bfea6",
            "f895cea712a249858872f932f8ab5813",
            "586929ab726c44939711e0a28be1f75a",
            "6a5b55decc674965afedd35993b44fbd",
            "7b7b718154b24c9b8b18ea6cdd63725b",
            "67950cdafdb9460a84b296aad6fbbd02"
          ]
        },
        "id": "2oCfHHGW29mR",
        "outputId": "27acd8df-d3e8-42db-85e5-3131bba22343"
      },
      "execution_count": 12,
      "outputs": [
        {
          "output_type": "display_data",
          "data": {
            "text/plain": [
              "<IPython.core.display.HTML object>"
            ],
            "text/html": []
          },
          "metadata": {}
        },
        {
          "output_type": "display_data",
          "data": {
            "text/plain": [
              "<pandas.io.formats.style.Styler at 0x7f061503d040>"
            ],
            "text/html": [
              "<style type=\"text/css\">\n",
              "#T_c8fb8_row10_col0, #T_c8fb8_row10_col1, #T_c8fb8_row10_col2, #T_c8fb8_row10_col3, #T_c8fb8_row10_col4, #T_c8fb8_row10_col5, #T_c8fb8_row10_col6 {\n",
              "  background: yellow;\n",
              "}\n",
              "</style>\n",
              "<table id=\"T_c8fb8\" class=\"dataframe\">\n",
              "  <thead>\n",
              "    <tr>\n",
              "      <th class=\"blank level0\" >&nbsp;</th>\n",
              "      <th id=\"T_c8fb8_level0_col0\" class=\"col_heading level0 col0\" >Accuracy</th>\n",
              "      <th id=\"T_c8fb8_level0_col1\" class=\"col_heading level0 col1\" >AUC</th>\n",
              "      <th id=\"T_c8fb8_level0_col2\" class=\"col_heading level0 col2\" >Recall</th>\n",
              "      <th id=\"T_c8fb8_level0_col3\" class=\"col_heading level0 col3\" >Prec.</th>\n",
              "      <th id=\"T_c8fb8_level0_col4\" class=\"col_heading level0 col4\" >F1</th>\n",
              "      <th id=\"T_c8fb8_level0_col5\" class=\"col_heading level0 col5\" >Kappa</th>\n",
              "      <th id=\"T_c8fb8_level0_col6\" class=\"col_heading level0 col6\" >MCC</th>\n",
              "    </tr>\n",
              "    <tr>\n",
              "      <th class=\"index_name level0\" >Fold</th>\n",
              "      <th class=\"blank col0\" >&nbsp;</th>\n",
              "      <th class=\"blank col1\" >&nbsp;</th>\n",
              "      <th class=\"blank col2\" >&nbsp;</th>\n",
              "      <th class=\"blank col3\" >&nbsp;</th>\n",
              "      <th class=\"blank col4\" >&nbsp;</th>\n",
              "      <th class=\"blank col5\" >&nbsp;</th>\n",
              "      <th class=\"blank col6\" >&nbsp;</th>\n",
              "    </tr>\n",
              "  </thead>\n",
              "  <tbody>\n",
              "    <tr>\n",
              "      <th id=\"T_c8fb8_level0_row0\" class=\"row_heading level0 row0\" >0</th>\n",
              "      <td id=\"T_c8fb8_row0_col0\" class=\"data row0 col0\" >0.8114</td>\n",
              "      <td id=\"T_c8fb8_row0_col1\" class=\"data row0 col1\" >0.8415</td>\n",
              "      <td id=\"T_c8fb8_row0_col2\" class=\"data row0 col2\" >0.5154</td>\n",
              "      <td id=\"T_c8fb8_row0_col3\" class=\"data row0 col3\" >0.6907</td>\n",
              "      <td id=\"T_c8fb8_row0_col4\" class=\"data row0 col4\" >0.5903</td>\n",
              "      <td id=\"T_c8fb8_row0_col5\" class=\"data row0 col5\" >0.4711</td>\n",
              "      <td id=\"T_c8fb8_row0_col6\" class=\"data row0 col6\" >0.4796</td>\n",
              "    </tr>\n",
              "    <tr>\n",
              "      <th id=\"T_c8fb8_level0_row1\" class=\"row_heading level0 row1\" >1</th>\n",
              "      <td id=\"T_c8fb8_row1_col0\" class=\"data row1 col0\" >0.7931</td>\n",
              "      <td id=\"T_c8fb8_row1_col1\" class=\"data row1 col1\" >0.8455</td>\n",
              "      <td id=\"T_c8fb8_row1_col2\" class=\"data row1 col2\" >0.4538</td>\n",
              "      <td id=\"T_c8fb8_row1_col3\" class=\"data row1 col3\" >0.6556</td>\n",
              "      <td id=\"T_c8fb8_row1_col4\" class=\"data row1 col4\" >0.5364</td>\n",
              "      <td id=\"T_c8fb8_row1_col5\" class=\"data row1 col5\" >0.4088</td>\n",
              "      <td id=\"T_c8fb8_row1_col6\" class=\"data row1 col6\" >0.4203</td>\n",
              "    </tr>\n",
              "    <tr>\n",
              "      <th id=\"T_c8fb8_level0_row2\" class=\"row_heading level0 row2\" >2</th>\n",
              "      <td id=\"T_c8fb8_row2_col0\" class=\"data row2 col0\" >0.7890</td>\n",
              "      <td id=\"T_c8fb8_row2_col1\" class=\"data row2 col1\" >0.8313</td>\n",
              "      <td id=\"T_c8fb8_row2_col2\" class=\"data row2 col2\" >0.4733</td>\n",
              "      <td id=\"T_c8fb8_row2_col3\" class=\"data row2 col3\" >0.6392</td>\n",
              "      <td id=\"T_c8fb8_row2_col4\" class=\"data row2 col4\" >0.5439</td>\n",
              "      <td id=\"T_c8fb8_row2_col5\" class=\"data row2 col5\" >0.4106</td>\n",
              "      <td id=\"T_c8fb8_row2_col6\" class=\"data row2 col6\" >0.4184</td>\n",
              "    </tr>\n",
              "    <tr>\n",
              "      <th id=\"T_c8fb8_level0_row3\" class=\"row_heading level0 row3\" >3</th>\n",
              "      <td id=\"T_c8fb8_row3_col0\" class=\"data row3 col0\" >0.8093</td>\n",
              "      <td id=\"T_c8fb8_row3_col1\" class=\"data row3 col1\" >0.8609</td>\n",
              "      <td id=\"T_c8fb8_row3_col2\" class=\"data row3 col2\" >0.5496</td>\n",
              "      <td id=\"T_c8fb8_row3_col3\" class=\"data row3 col3\" >0.6729</td>\n",
              "      <td id=\"T_c8fb8_row3_col4\" class=\"data row3 col4\" >0.6050</td>\n",
              "      <td id=\"T_c8fb8_row3_col5\" class=\"data row3 col5\" >0.4811</td>\n",
              "      <td id=\"T_c8fb8_row3_col6\" class=\"data row3 col6\" >0.4853</td>\n",
              "    </tr>\n",
              "    <tr>\n",
              "      <th id=\"T_c8fb8_level0_row4\" class=\"row_heading level0 row4\" >4</th>\n",
              "      <td id=\"T_c8fb8_row4_col0\" class=\"data row4 col0\" >0.8235</td>\n",
              "      <td id=\"T_c8fb8_row4_col1\" class=\"data row4 col1\" >0.8596</td>\n",
              "      <td id=\"T_c8fb8_row4_col2\" class=\"data row4 col2\" >0.6107</td>\n",
              "      <td id=\"T_c8fb8_row4_col3\" class=\"data row4 col3\" >0.6897</td>\n",
              "      <td id=\"T_c8fb8_row4_col4\" class=\"data row4 col4\" >0.6478</td>\n",
              "      <td id=\"T_c8fb8_row4_col5\" class=\"data row4 col5\" >0.5306</td>\n",
              "      <td id=\"T_c8fb8_row4_col6\" class=\"data row4 col6\" >0.5324</td>\n",
              "    </tr>\n",
              "    <tr>\n",
              "      <th id=\"T_c8fb8_level0_row5\" class=\"row_heading level0 row5\" >5</th>\n",
              "      <td id=\"T_c8fb8_row5_col0\" class=\"data row5 col0\" >0.7911</td>\n",
              "      <td id=\"T_c8fb8_row5_col1\" class=\"data row5 col1\" >0.8227</td>\n",
              "      <td id=\"T_c8fb8_row5_col2\" class=\"data row5 col2\" >0.4962</td>\n",
              "      <td id=\"T_c8fb8_row5_col3\" class=\"data row5 col3\" >0.6373</td>\n",
              "      <td id=\"T_c8fb8_row5_col4\" class=\"data row5 col4\" >0.5579</td>\n",
              "      <td id=\"T_c8fb8_row5_col5\" class=\"data row5 col5\" >0.4239</td>\n",
              "      <td id=\"T_c8fb8_row5_col6\" class=\"data row5 col6\" >0.4296</td>\n",
              "    </tr>\n",
              "    <tr>\n",
              "      <th id=\"T_c8fb8_level0_row6\" class=\"row_heading level0 row6\" >6</th>\n",
              "      <td id=\"T_c8fb8_row6_col0\" class=\"data row6 col0\" >0.8114</td>\n",
              "      <td id=\"T_c8fb8_row6_col1\" class=\"data row6 col1\" >0.8596</td>\n",
              "      <td id=\"T_c8fb8_row6_col2\" class=\"data row6 col2\" >0.5115</td>\n",
              "      <td id=\"T_c8fb8_row6_col3\" class=\"data row6 col3\" >0.6979</td>\n",
              "      <td id=\"T_c8fb8_row6_col4\" class=\"data row6 col4\" >0.5903</td>\n",
              "      <td id=\"T_c8fb8_row6_col5\" class=\"data row6 col5\" >0.4715</td>\n",
              "      <td id=\"T_c8fb8_row6_col6\" class=\"data row6 col6\" >0.4811</td>\n",
              "    </tr>\n",
              "    <tr>\n",
              "      <th id=\"T_c8fb8_level0_row7\" class=\"row_heading level0 row7\" >7</th>\n",
              "      <td id=\"T_c8fb8_row7_col0\" class=\"data row7 col0\" >0.8093</td>\n",
              "      <td id=\"T_c8fb8_row7_col1\" class=\"data row7 col1\" >0.8417</td>\n",
              "      <td id=\"T_c8fb8_row7_col2\" class=\"data row7 col2\" >0.5038</td>\n",
              "      <td id=\"T_c8fb8_row7_col3\" class=\"data row7 col3\" >0.6947</td>\n",
              "      <td id=\"T_c8fb8_row7_col4\" class=\"data row7 col4\" >0.5841</td>\n",
              "      <td id=\"T_c8fb8_row7_col5\" class=\"data row7 col5\" >0.4644</td>\n",
              "      <td id=\"T_c8fb8_row7_col6\" class=\"data row7 col6\" >0.4745</td>\n",
              "    </tr>\n",
              "    <tr>\n",
              "      <th id=\"T_c8fb8_level0_row8\" class=\"row_heading level0 row8\" >8</th>\n",
              "      <td id=\"T_c8fb8_row8_col0\" class=\"data row8 col0\" >0.8053</td>\n",
              "      <td id=\"T_c8fb8_row8_col1\" class=\"data row8 col1\" >0.8652</td>\n",
              "      <td id=\"T_c8fb8_row8_col2\" class=\"data row8 col2\" >0.4809</td>\n",
              "      <td id=\"T_c8fb8_row8_col3\" class=\"data row8 col3\" >0.6923</td>\n",
              "      <td id=\"T_c8fb8_row8_col4\" class=\"data row8 col4\" >0.5676</td>\n",
              "      <td id=\"T_c8fb8_row8_col5\" class=\"data row8 col5\" >0.4471</td>\n",
              "      <td id=\"T_c8fb8_row8_col6\" class=\"data row8 col6\" >0.4595</td>\n",
              "    </tr>\n",
              "    <tr>\n",
              "      <th id=\"T_c8fb8_level0_row9\" class=\"row_heading level0 row9\" >9</th>\n",
              "      <td id=\"T_c8fb8_row9_col0\" class=\"data row9 col0\" >0.7850</td>\n",
              "      <td id=\"T_c8fb8_row9_col1\" class=\"data row9 col1\" >0.8344</td>\n",
              "      <td id=\"T_c8fb8_row9_col2\" class=\"data row9 col2\" >0.4656</td>\n",
              "      <td id=\"T_c8fb8_row9_col3\" class=\"data row9 col3\" >0.6289</td>\n",
              "      <td id=\"T_c8fb8_row9_col4\" class=\"data row9 col4\" >0.5351</td>\n",
              "      <td id=\"T_c8fb8_row9_col5\" class=\"data row9 col5\" >0.3993</td>\n",
              "      <td id=\"T_c8fb8_row9_col6\" class=\"data row9 col6\" >0.4069</td>\n",
              "    </tr>\n",
              "    <tr>\n",
              "      <th id=\"T_c8fb8_level0_row10\" class=\"row_heading level0 row10\" >Mean</th>\n",
              "      <td id=\"T_c8fb8_row10_col0\" class=\"data row10 col0\" >0.8028</td>\n",
              "      <td id=\"T_c8fb8_row10_col1\" class=\"data row10 col1\" >0.8463</td>\n",
              "      <td id=\"T_c8fb8_row10_col2\" class=\"data row10 col2\" >0.5061</td>\n",
              "      <td id=\"T_c8fb8_row10_col3\" class=\"data row10 col3\" >0.6699</td>\n",
              "      <td id=\"T_c8fb8_row10_col4\" class=\"data row10 col4\" >0.5758</td>\n",
              "      <td id=\"T_c8fb8_row10_col5\" class=\"data row10 col5\" >0.4508</td>\n",
              "      <td id=\"T_c8fb8_row10_col6\" class=\"data row10 col6\" >0.4588</td>\n",
              "    </tr>\n",
              "    <tr>\n",
              "      <th id=\"T_c8fb8_level0_row11\" class=\"row_heading level0 row11\" >Std</th>\n",
              "      <td id=\"T_c8fb8_row11_col0\" class=\"data row11 col0\" >0.0119</td>\n",
              "      <td id=\"T_c8fb8_row11_col1\" class=\"data row11 col1\" >0.0138</td>\n",
              "      <td id=\"T_c8fb8_row11_col2\" class=\"data row11 col2\" >0.0437</td>\n",
              "      <td id=\"T_c8fb8_row11_col3\" class=\"data row11 col3\" >0.0258</td>\n",
              "      <td id=\"T_c8fb8_row11_col4\" class=\"data row11 col4\" >0.0334</td>\n",
              "      <td id=\"T_c8fb8_row11_col5\" class=\"data row11 col5\" >0.0388</td>\n",
              "      <td id=\"T_c8fb8_row11_col6\" class=\"data row11 col6\" >0.0374</td>\n",
              "    </tr>\n",
              "  </tbody>\n",
              "</table>\n"
            ]
          },
          "metadata": {}
        },
        {
          "output_type": "display_data",
          "data": {
            "text/plain": [
              "Processing:   0%|          | 0/7 [00:00<?, ?it/s]"
            ],
            "application/vnd.jupyter.widget-view+json": {
              "version_major": 2,
              "version_minor": 0,
              "model_id": "f8f680437e70478ca1b5da2573ad8100"
            }
          },
          "metadata": {
            "application/vnd.jupyter.widget-view+json": {
              "colab": {
                "custom_widget_manager": {
                  "url": "https://ssl.gstatic.com/colaboratory-static/widgets/colab-cdn-widget-manager/b3e629b1971e1542/manager.min.js"
                }
              }
            }
          }
        },
        {
          "output_type": "stream",
          "name": "stdout",
          "text": [
            "Fitting 10 folds for each of 10 candidates, totalling 100 fits\n"
          ]
        },
        {
          "output_type": "display_data",
          "data": {
            "text/plain": [
              "<IPython.core.display.HTML object>"
            ],
            "text/html": []
          },
          "metadata": {}
        },
        {
          "output_type": "stream",
          "name": "stdout",
          "text": [
            "Original model was better than the tuned model, hence it will be returned. NOTE: The display metrics are for the tuned model (not the original one).\n"
          ]
        }
      ]
    },
    {
      "cell_type": "markdown",
      "source": [
        "Now the AUC has slightly increased from *0.8472 to 0.8478*"
      ],
      "metadata": {
        "id": "vhbINisI3S7n"
      }
    },
    {
      "cell_type": "markdown",
      "source": [
        "# Model Analysis"
      ],
      "metadata": {
        "id": "TvndH5Sy3ZtQ"
      }
    },
    {
      "cell_type": "code",
      "source": [
        "# AUC Plot\n",
        "plot_model(tuned_best_model, plot = 'auc')"
      ],
      "metadata": {
        "colab": {
          "base_uri": "https://localhost:8080/",
          "height": 524
        },
        "id": "EbbJ-IzK3C9b",
        "outputId": "69f8b786-3bae-44e0-fb2e-6e3190ab6c4b"
      },
      "execution_count": 13,
      "outputs": [
        {
          "output_type": "display_data",
          "data": {
            "text/plain": [
              "<IPython.core.display.HTML object>"
            ],
            "text/html": []
          },
          "metadata": {}
        },
        {
          "output_type": "display_data",
          "data": {
            "text/plain": [
              "<Figure size 800x550 with 1 Axes>"
            ],
            "image/png": "[encoded data removed]"
          },
          "metadata": {}
        }
      ]
    },
    {
      "cell_type": "markdown",
      "source": [
        "# Feature Importance Plot"
      ],
      "metadata": {
        "id": "vM-DLFFv3m_3"
      }
    },
    {
      "cell_type": "code",
      "source": [
        "# Feature Importance Plot\n",
        "plot_model(tuned_best_model, plot = 'feature')"
      ],
      "metadata": {
        "colab": {
          "base_uri": "https://localhost:8080/",
          "height": 485
        },
        "id": "902qRG1H3oGu",
        "outputId": "41951292-24fb-4912-c4e6-3728ee658683"
      },
      "execution_count": 16,
      "outputs": [
        {
          "output_type": "display_data",
          "data": {
            "text/plain": [
              "<IPython.core.display.HTML object>"
            ],
            "text/html": []
          },
          "metadata": {}
        },
        {
          "output_type": "display_data",
          "data": {
            "text/plain": [
              "<Figure size 800x500 with 1 Axes>"
            ],
            "image/png": "[encoded data removed]"
          },
          "metadata": {}
        },
        {
          "output_type": "display_data",
          "data": {
            "text/plain": [
              "<IPython.core.display.HTML object>"
            ],
            "text/html": []
          },
          "metadata": {}
        }
      ]
    },
    {
      "cell_type": "markdown",
      "source": [
        "# Confusion Matrix"
      ],
      "metadata": {
        "id": "yQXToq3_3xZB"
      }
    },
    {
      "cell_type": "code",
      "source": [
        "# Confusion Matrix\n",
        "plot_model(tuned_best_model, plot = 'confusion_matrix')"
      ],
      "metadata": {
        "colab": {
          "base_uri": "https://localhost:8080/",
          "height": 551
        },
        "id": "vSiCNVBg3su9",
        "outputId": "5ff382af-317e-4ced-b3e1-70f15520be4f"
      },
      "execution_count": 17,
      "outputs": [
        {
          "output_type": "display_data",
          "data": {
            "text/plain": [
              "<IPython.core.display.HTML object>"
            ],
            "text/html": []
          },
          "metadata": {}
        },
        {
          "output_type": "display_data",
          "data": {
            "text/plain": [
              "<Figure size 800x550 with 1 Axes>"
            ],
            "image/png": "[encoded data removed]"
          },
          "metadata": {}
        }
      ]
    },
    {
      "cell_type": "markdown",
      "source": [
        "This confusion matrix is on the test set which includes 30% of our data (2,113 rows) We have 309 True Positives (15%) — these are the customers for which we will be able to extend the lifetime value. If we wouldn’t have predicted, then there was no opportunity for intervention.\n",
        "\n",
        "We also have 138 (7%) False Positives where we will lose money because the promotion offered to these customers will just be an extra cost.\n",
        "\n",
        "1,388 (66%) are True Negatives (good customers) and 278 (13%) are False Negative (this is a missed opportunity).\n",
        "\n",
        "So far we have trained multiple models to select the best model giving the highest AUC, followed by tuning the hyperparameters of the best model to squeeze a little more performance in terms of AUC. However, the best AUC doesn’t necessarily translate into the best model for business.\n",
        "\n",
        "In a churn model, often the reward of true positives is way different than the cost of false positives. Let’s use the following assumptions:\n",
        "\n",
        "    $1,000 voucher will be offered to all the customers identified as churn (True Positive + False Positive);\n",
        "    If we are able to stop the churn, we will gain $5,000 in customer lifetime value."
      ],
      "metadata": {
        "id": "SE5AWUdy4ADC"
      }
    }
  ]
}